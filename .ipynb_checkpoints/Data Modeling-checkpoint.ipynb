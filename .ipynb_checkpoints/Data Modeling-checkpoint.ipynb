{
 "cells": [
  {
   "cell_type": "markdown",
   "id": "f1492927",
   "metadata": {},
   "source": [
    "## 1. Data Modeling"
   ]
  },
  {
   "cell_type": "markdown",
   "id": "8ccac1d2",
   "metadata": {},
   "source": [
    "### 1.1 Table of Contents"
   ]
  },
  {
   "cell_type": "markdown",
   "id": "cee5c1d3",
   "metadata": {},
   "source": [
    "### 1.2 Imports <a id='1.2_Imports'></a>"
   ]
  },
  {
   "cell_type": "code",
   "execution_count": 36,
   "id": "079fc0ad",
   "metadata": {},
   "outputs": [],
   "source": [
    "import pandas as pd\n",
    "import matplotlib.pyplot as plt\n",
    "import shap\n",
    "import xgboost as xgb\n",
    "from xgboost import XGBClassifier\n",
    "from sklearn.preprocessing import StandardScaler\n",
    "from sklearn.linear_model import LogisticRegression\n",
    "from sklearn.ensemble import RandomForestClassifier\n",
    "from sklearn.ensemble import GradientBoostingClassifier\n",
    "from sklearn.ensemble import AdaBoostClassifier\n",
    "from sklearn.ensemble import ExtraTreesClassifier\n",
    "from sklearn.tree import DecisionTreeClassifier\n",
    "from sklearn.svm import SVC\n",
    "from sklearn.pipeline import Pipeline\n",
    "from sklearn.metrics import confusion_matrix\n",
    "from sklearn.metrics import roc_auc_score\n",
    "from sklearn.metrics import precision_score\n",
    "from sklearn.metrics import recall_score\n",
    "from sklearn.metrics import f1_score\n",
    "from sklearn.metrics import plot_roc_curve"
   ]
  },
  {
   "cell_type": "code",
   "execution_count": 2,
   "id": "c752f602",
   "metadata": {},
   "outputs": [],
   "source": [
    "%store -r X_train\n",
    "%store -r X_test\n",
    "%store -r y_train\n",
    "%store -r y_test"
   ]
  },
  {
   "cell_type": "code",
   "execution_count": 3,
   "id": "02b095b7",
   "metadata": {},
   "outputs": [
    {
     "name": "stdout",
     "output_type": "stream",
     "text": [
      "<class 'pandas.core.frame.DataFrame'>\n",
      "Int64Index: 4799 entries, 15984 to 5771\n",
      "Data columns (total 37 columns):\n",
      " #   Column                   Non-Null Count  Dtype  \n",
      "---  ------                   --------------  -----  \n",
      " 0   NumMosquitos             4799 non-null   int64  \n",
      " 1   Heat                     4799 non-null   float64\n",
      " 2   PrecipTotal              4799 non-null   float64\n",
      " 3   ResultDir                4799 non-null   float64\n",
      " 4   low_vis                  4799 non-null   float64\n",
      " 5   rain                     4799 non-null   float64\n",
      " 6   Cool_d7                  4799 non-null   float64\n",
      " 7   Heat_d7                  4799 non-null   float64\n",
      " 8   PrecipTotal_d7           4799 non-null   float64\n",
      " 9   ResultDir_d7             4799 non-null   float64\n",
      " 10  low_vis_d7               4799 non-null   float64\n",
      " 11  rain_d7                  4799 non-null   float64\n",
      " 12  Cool_d14                 4799 non-null   float64\n",
      " 13  Heat_d14                 4799 non-null   float64\n",
      " 14  PrecipTotal_d14          4799 non-null   float64\n",
      " 15  ResultDir_d14            4799 non-null   float64\n",
      " 16  low_vis_d14              4799 non-null   float64\n",
      " 17  rain_d14                 4799 non-null   float64\n",
      " 18  Species_CULEX ERRATICUS  4799 non-null   uint8  \n",
      " 19  Species_CULEX PIPIENS    4799 non-null   uint8  \n",
      " 20  Species_CULEX RESTUANS   4799 non-null   uint8  \n",
      " 21  Species_CULEX TARSALIS   4799 non-null   uint8  \n",
      " 22  Week_25                  4799 non-null   uint8  \n",
      " 23  Week_26                  4799 non-null   uint8  \n",
      " 24  Week_27                  4799 non-null   uint8  \n",
      " 25  Week_28                  4799 non-null   uint8  \n",
      " 26  Week_29                  4799 non-null   uint8  \n",
      " 27  Week_30                  4799 non-null   uint8  \n",
      " 28  Week_31                  4799 non-null   uint8  \n",
      " 29  Week_32                  4799 non-null   uint8  \n",
      " 30  Week_33                  4799 non-null   uint8  \n",
      " 31  Week_35                  4799 non-null   uint8  \n",
      " 32  Week_36                  4799 non-null   uint8  \n",
      " 33  Week_37                  4799 non-null   uint8  \n",
      " 34  Week_38                  4799 non-null   uint8  \n",
      " 35  Week_39                  4799 non-null   uint8  \n",
      " 36  Week_40                  4799 non-null   uint8  \n",
      "dtypes: float64(17), int64(1), uint8(19)\n",
      "memory usage: 801.4 KB\n"
     ]
    }
   ],
   "source": [
    "X_test=X_test[X_train.columns]\n",
    "X_test.info()"
   ]
  },
  {
   "cell_type": "markdown",
   "id": "9f1f331f",
   "metadata": {},
   "source": [
    "### 1.3 Model Prep"
   ]
  },
  {
   "cell_type": "code",
   "execution_count": 38,
   "id": "a03ddf64",
   "metadata": {},
   "outputs": [],
   "source": [
    "# Instiantiate models\n",
    "models = {'lr': LogisticRegression(max_iter=5_000, random_state=42, solver='saga'),\n",
    "          'rf': RandomForestClassifier(random_state=42),\n",
    "          'gb': GradientBoostingClassifier(random_state=42),\n",
    "          'dt': DecisionTreeClassifier(random_state=42),\n",
    "          'et': ExtraTreesClassifier(random_state=42),\n",
    "          'ada': AdaBoostClassifier(random_state=42),\n",
    "          'svc': SVC(random_state=42, probability=True),\n",
    "          'xgb': XGBClassifier(n_estimators = 10, max_depth=30, max_delta_step=4, scale_pos_weight=49, random_state = 42, \n",
    "                               verbosity=2, n_jobs=-1, oob_score=True)\n",
    "\n",
    "        }"
   ]
  },
  {
   "cell_type": "code",
   "execution_count": 5,
   "id": "9a0ff57f",
   "metadata": {},
   "outputs": [],
   "source": [
    "# Instantiate lists to store results\n",
    "init_list = []\n",
    "gs_list = []\n",
    "\n",
    "# Function to run model -- input scaler and model\n",
    "def run_model(mod, mod_params={}, grid_search=False):\n",
    "    \n",
    "    # Initial dictionary to hold model results\n",
    "    results = {}\n",
    "    \n",
    "    pipe = Pipeline([\n",
    "            ('ss', StandardScaler()),\n",
    "            (mod, models[mod])\n",
    "            ])\n",
    "    \n",
    "    if grid_search:\n",
    "        # Instantiate list to store gridsearch results\n",
    "        gs = GridSearchCV(pipe, param_grid=mod_params, cv=3, verbose=1, scoring='roc_auc', n_jobs=-1)\n",
    "        gs.fit(X_train, y_train)\n",
    "        pipe = gs\n",
    "        \n",
    "    else:\n",
    "        pipe.fit(X_train, y_train)\n",
    "    \n",
    "    # Retrieve metrics\n",
    "    predictions = pipe.predict(X_test)\n",
    "    tn, fp, fn, tp = confusion_matrix(y_test, predictions).ravel()\n",
    "    y_test_pred_prob = pipe.predict_proba(X_test)[:,1]\n",
    "    y_train_pred_prob = pipe.predict_proba(X_train)[:,1]\n",
    "    \n",
    "    results['model'] = mod\n",
    "    results['train_auc'] = roc_auc_score(y_train, y_train_pred_prob)\n",
    "    results['test_auc'] = roc_auc_score(y_test, y_test_pred_prob)\n",
    "    results['precision'] = precision_score(y_test, predictions)\n",
    "    results['specificity'] = tn / (tn + fp)\n",
    "    results['recall'] = recall_score(y_test, predictions)\n",
    "    results['f_score'] = f1_score(y_test, predictions)\n",
    "    \n",
    "    if grid_search:\n",
    "        gs_list.append(results)\n",
    "        print('### BEST PARAMS ###')\n",
    "        display(pipe.best_params_)\n",
    "        \n",
    "    else:\n",
    "        init_list.append(results)\n",
    "    \n",
    "    print('### METRICS ###')\n",
    "    display(results)\n",
    "    \n",
    "    print(f\"True Negatives: {tn}\")\n",
    "    print(f\"False Positives: {fp}\")\n",
    "    print(f\"False Negatives: {fn}\")\n",
    "    print(f\"True Positives: {tp}\")\n",
    "    \n",
    "    return pipe"
   ]
  },
  {
   "cell_type": "code",
   "execution_count": 39,
   "id": "1decc4cb",
   "metadata": {},
   "outputs": [
    {
     "name": "stdout",
     "output_type": "stream",
     "text": [
      "### METRICS ###\n"
     ]
    },
    {
     "data": {
      "text/plain": [
       "{'model': 'lr',\n",
       " 'train_auc': 0.8648109557440232,\n",
       " 'test_auc': 0.8534489162810799,\n",
       " 'precision': 0.7364341085271318,\n",
       " 'specificity': 0.9734236581552892,\n",
       " 'recall': 0.29656607700312176,\n",
       " 'f_score': 0.42284866468842736}"
      ]
     },
     "metadata": {},
     "output_type": "display_data"
    },
    {
     "name": "stdout",
     "output_type": "stream",
     "text": [
      "True Negatives: 3736\n",
      "False Positives: 102\n",
      "False Negatives: 676\n",
      "True Positives: 285\n",
      "### METRICS ###\n"
     ]
    },
    {
     "data": {
      "text/plain": [
       "{'model': 'rf',\n",
       " 'train_auc': 0.9929735897897866,\n",
       " 'test_auc': 0.8593970205389015,\n",
       " 'precision': 0.6099744245524297,\n",
       " 'specificity': 0.9205315268368942,\n",
       " 'recall': 0.4963579604578564,\n",
       " 'f_score': 0.5473321858864028}"
      ]
     },
     "metadata": {},
     "output_type": "display_data"
    },
    {
     "name": "stdout",
     "output_type": "stream",
     "text": [
      "True Negatives: 3533\n",
      "False Positives: 305\n",
      "False Negatives: 484\n",
      "True Positives: 477\n",
      "### METRICS ###\n"
     ]
    },
    {
     "data": {
      "text/plain": [
       "{'model': 'gb',\n",
       " 'train_auc': 0.9110392984757985,\n",
       " 'test_auc': 0.8944898460490662,\n",
       " 'precision': 0.695137976346912,\n",
       " 'specificity': 0.9395518499218343,\n",
       " 'recall': 0.5504682622268471,\n",
       " 'f_score': 0.6144018583042975}"
      ]
     },
     "metadata": {},
     "output_type": "display_data"
    },
    {
     "name": "stdout",
     "output_type": "stream",
     "text": [
      "True Negatives: 3606\n",
      "False Positives: 232\n",
      "False Negatives: 432\n",
      "True Positives: 529\n",
      "### METRICS ###\n"
     ]
    },
    {
     "data": {
      "text/plain": [
       "{'model': 'dt',\n",
       " 'train_auc': 0.9949367278657766,\n",
       " 'test_auc': 0.829463050637174,\n",
       " 'precision': 0.7665876777251185,\n",
       " 'specificity': 0.9486711829077644,\n",
       " 'recall': 0.6732570239334027,\n",
       " 'f_score': 0.7168975069252078}"
      ]
     },
     "metadata": {},
     "output_type": "display_data"
    },
    {
     "name": "stdout",
     "output_type": "stream",
     "text": [
      "True Negatives: 3641\n",
      "False Positives: 197\n",
      "False Negatives: 314\n",
      "True Positives: 647\n",
      "### METRICS ###\n"
     ]
    },
    {
     "data": {
      "text/plain": [
       "{'model': 'et',\n",
       " 'train_auc': 0.9949367278657766,\n",
       " 'test_auc': 0.8033286446559109,\n",
       " 'precision': 0.583883751651255,\n",
       " 'specificity': 0.9179260031266284,\n",
       " 'recall': 0.4599375650364204,\n",
       " 'f_score': 0.5145518044237486}"
      ]
     },
     "metadata": {},
     "output_type": "display_data"
    },
    {
     "name": "stdout",
     "output_type": "stream",
     "text": [
      "True Negatives: 3523\n",
      "False Positives: 315\n",
      "False Negatives: 519\n",
      "True Positives: 442\n",
      "### METRICS ###\n"
     ]
    },
    {
     "data": {
      "text/plain": [
       "{'model': 'ada',\n",
       " 'train_auc': 0.9016767454755097,\n",
       " 'test_auc': 0.8860204027960713,\n",
       " 'precision': 0.675392670157068,\n",
       " 'specificity': 0.9353830119854091,\n",
       " 'recall': 0.5369406867845994,\n",
       " 'f_score': 0.5982608695652174}"
      ]
     },
     "metadata": {},
     "output_type": "display_data"
    },
    {
     "name": "stdout",
     "output_type": "stream",
     "text": [
      "True Negatives: 3590\n",
      "False Positives: 248\n",
      "False Negatives: 445\n",
      "True Positives: 516\n",
      "### METRICS ###\n"
     ]
    },
    {
     "data": {
      "text/plain": [
       "{'model': 'svc',\n",
       " 'train_auc': 0.9012435103265144,\n",
       " 'test_auc': 0.8712898399758373,\n",
       " 'precision': 0.7430830039525692,\n",
       " 'specificity': 0.9830640958832726,\n",
       " 'recall': 0.19562955254942768,\n",
       " 'f_score': 0.30971993410214166}"
      ]
     },
     "metadata": {},
     "output_type": "display_data"
    },
    {
     "name": "stdout",
     "output_type": "stream",
     "text": [
      "True Negatives: 3773\n",
      "False Positives: 65\n",
      "False Negatives: 773\n",
      "True Positives: 188\n",
      "[11:42:08] WARNING: D:\\bld\\xgboost-split_1634712635879\\work\\src\\learner.cc:576: \n",
      "Parameters: { \"oob_score\" } might not be used.\n",
      "\n",
      "  This could be a false alarm, with some parameters getting used by language bindings but\n",
      "  then being mistakenly passed down to XGBoost core, or some parameter actually being used\n",
      "  but getting flagged wrongly here. Please open an issue if you find any such cases.\n",
      "\n",
      "\n",
      "[11:42:08] INFO: D:\\bld\\xgboost-split_1634712635879\\work\\src\\tree\\updater_prune.cc:101: tree pruning end, 616 extra nodes, 0 pruned nodes, max_depth=30\n",
      "[11:42:08] WARNING: D:\\bld\\xgboost-split_1634712635879\\work\\src\\learner.cc:1115: Starting in XGBoost 1.3.0, the default evaluation metric used with the objective 'binary:logistic' was changed from 'error' to 'logloss'. Explicitly set eval_metric if you'd like to restore the old behavior.\n",
      "[11:42:08] INFO: D:\\bld\\xgboost-split_1634712635879\\work\\src\\tree\\updater_prune.cc:101: tree pruning end, 590 extra nodes, 0 pruned nodes, max_depth=30\n",
      "[11:42:08] INFO: D:\\bld\\xgboost-split_1634712635879\\work\\src\\tree\\updater_prune.cc:101: tree pruning end, 618 extra nodes, 0 pruned nodes, max_depth=30\n",
      "[11:42:08] INFO: D:\\bld\\xgboost-split_1634712635879\\work\\src\\tree\\updater_prune.cc:101: tree pruning end, 774 extra nodes, 0 pruned nodes, max_depth=30\n",
      "[11:42:08] INFO: D:\\bld\\xgboost-split_1634712635879\\work\\src\\tree\\updater_prune.cc:101: tree pruning end, 836 extra nodes, 0 pruned nodes, max_depth=30\n",
      "[11:42:08] INFO: D:\\bld\\xgboost-split_1634712635879\\work\\src\\tree\\updater_prune.cc:101: tree pruning end, 872 extra nodes, 0 pruned nodes, max_depth=30\n",
      "[11:42:08] INFO: D:\\bld\\xgboost-split_1634712635879\\work\\src\\tree\\updater_prune.cc:101: tree pruning end, 844 extra nodes, 0 pruned nodes, max_depth=30\n"
     ]
    },
    {
     "name": "stderr",
     "output_type": "stream",
     "text": [
      "The use of label encoder in XGBClassifier is deprecated and will be removed in a future release. To remove this warning, do the following: 1) Pass option use_label_encoder=False when constructing XGBClassifier object; and 2) Encode your labels (y) as integers starting with 0, i.e. 0, 1, 2, ..., [num_class - 1].\n"
     ]
    },
    {
     "name": "stdout",
     "output_type": "stream",
     "text": [
      "[11:42:08] INFO: D:\\bld\\xgboost-split_1634712635879\\work\\src\\tree\\updater_prune.cc:101: tree pruning end, 1038 extra nodes, 0 pruned nodes, max_depth=30\n",
      "[11:42:08] INFO: D:\\bld\\xgboost-split_1634712635879\\work\\src\\tree\\updater_prune.cc:101: tree pruning end, 1192 extra nodes, 0 pruned nodes, max_depth=30\n",
      "[11:42:08] INFO: D:\\bld\\xgboost-split_1634712635879\\work\\src\\tree\\updater_prune.cc:101: tree pruning end, 1284 extra nodes, 0 pruned nodes, max_depth=30\n",
      "### METRICS ###\n"
     ]
    },
    {
     "data": {
      "text/plain": [
       "{'model': 'xgb',\n",
       " 'train_auc': 0.9889471041605937,\n",
       " 'test_auc': 0.9190212178017189,\n",
       " 'precision': 0.5416116248348745,\n",
       " 'specificity': 0.8191766545075561,\n",
       " 'recall': 0.8532778355879292,\n",
       " 'f_score': 0.6626262626262626}"
      ]
     },
     "metadata": {},
     "output_type": "display_data"
    },
    {
     "name": "stdout",
     "output_type": "stream",
     "text": [
      "True Negatives: 3144\n",
      "False Positives: 694\n",
      "False Negatives: 141\n",
      "True Positives: 820\n"
     ]
    }
   ],
   "source": [
    "lr = run_model('lr')\n",
    "rf = run_model('rf')\n",
    "gb = run_model('gb')\n",
    "dt = run_model('dt')\n",
    "et = run_model('et')\n",
    "ada = run_model('ada')\n",
    "svc = run_model('svc')\n",
    "xgb = run_model('xgb')"
   ]
  },
  {
   "cell_type": "code",
   "execution_count": 40,
   "id": "2c16d135",
   "metadata": {},
   "outputs": [
    {
     "data": {
      "text/html": [
       "<div>\n",
       "<style scoped>\n",
       "    .dataframe tbody tr th:only-of-type {\n",
       "        vertical-align: middle;\n",
       "    }\n",
       "\n",
       "    .dataframe tbody tr th {\n",
       "        vertical-align: top;\n",
       "    }\n",
       "\n",
       "    .dataframe thead th {\n",
       "        text-align: right;\n",
       "    }\n",
       "</style>\n",
       "<table border=\"1\" class=\"dataframe\">\n",
       "  <thead>\n",
       "    <tr style=\"text-align: right;\">\n",
       "      <th></th>\n",
       "      <th>model</th>\n",
       "      <th>train_auc</th>\n",
       "      <th>test_auc</th>\n",
       "      <th>precision</th>\n",
       "      <th>specificity</th>\n",
       "      <th>recall</th>\n",
       "      <th>f_score</th>\n",
       "    </tr>\n",
       "  </thead>\n",
       "  <tbody>\n",
       "    <tr>\n",
       "      <th>0</th>\n",
       "      <td>xgb</td>\n",
       "      <td>0.988947</td>\n",
       "      <td>0.919021</td>\n",
       "      <td>0.541612</td>\n",
       "      <td>0.819177</td>\n",
       "      <td>0.853278</td>\n",
       "      <td>0.662626</td>\n",
       "    </tr>\n",
       "    <tr>\n",
       "      <th>1</th>\n",
       "      <td>gb</td>\n",
       "      <td>0.911039</td>\n",
       "      <td>0.894490</td>\n",
       "      <td>0.695138</td>\n",
       "      <td>0.939552</td>\n",
       "      <td>0.550468</td>\n",
       "      <td>0.614402</td>\n",
       "    </tr>\n",
       "    <tr>\n",
       "      <th>2</th>\n",
       "      <td>gb</td>\n",
       "      <td>0.911039</td>\n",
       "      <td>0.894490</td>\n",
       "      <td>0.695138</td>\n",
       "      <td>0.939552</td>\n",
       "      <td>0.550468</td>\n",
       "      <td>0.614402</td>\n",
       "    </tr>\n",
       "    <tr>\n",
       "      <th>3</th>\n",
       "      <td>ada</td>\n",
       "      <td>0.901677</td>\n",
       "      <td>0.886020</td>\n",
       "      <td>0.675393</td>\n",
       "      <td>0.935383</td>\n",
       "      <td>0.536941</td>\n",
       "      <td>0.598261</td>\n",
       "    </tr>\n",
       "    <tr>\n",
       "      <th>4</th>\n",
       "      <td>ada</td>\n",
       "      <td>0.901677</td>\n",
       "      <td>0.886020</td>\n",
       "      <td>0.675393</td>\n",
       "      <td>0.935383</td>\n",
       "      <td>0.536941</td>\n",
       "      <td>0.598261</td>\n",
       "    </tr>\n",
       "    <tr>\n",
       "      <th>5</th>\n",
       "      <td>svc</td>\n",
       "      <td>0.901244</td>\n",
       "      <td>0.871290</td>\n",
       "      <td>0.743083</td>\n",
       "      <td>0.983064</td>\n",
       "      <td>0.195630</td>\n",
       "      <td>0.309720</td>\n",
       "    </tr>\n",
       "    <tr>\n",
       "      <th>6</th>\n",
       "      <td>svc</td>\n",
       "      <td>0.901244</td>\n",
       "      <td>0.871290</td>\n",
       "      <td>0.743083</td>\n",
       "      <td>0.983064</td>\n",
       "      <td>0.195630</td>\n",
       "      <td>0.309720</td>\n",
       "    </tr>\n",
       "    <tr>\n",
       "      <th>7</th>\n",
       "      <td>rf</td>\n",
       "      <td>0.992974</td>\n",
       "      <td>0.859397</td>\n",
       "      <td>0.609974</td>\n",
       "      <td>0.920532</td>\n",
       "      <td>0.496358</td>\n",
       "      <td>0.547332</td>\n",
       "    </tr>\n",
       "    <tr>\n",
       "      <th>8</th>\n",
       "      <td>rf</td>\n",
       "      <td>0.992974</td>\n",
       "      <td>0.859397</td>\n",
       "      <td>0.609974</td>\n",
       "      <td>0.920532</td>\n",
       "      <td>0.496358</td>\n",
       "      <td>0.547332</td>\n",
       "    </tr>\n",
       "    <tr>\n",
       "      <th>9</th>\n",
       "      <td>lr</td>\n",
       "      <td>0.864811</td>\n",
       "      <td>0.853449</td>\n",
       "      <td>0.736434</td>\n",
       "      <td>0.973424</td>\n",
       "      <td>0.296566</td>\n",
       "      <td>0.422849</td>\n",
       "    </tr>\n",
       "    <tr>\n",
       "      <th>10</th>\n",
       "      <td>lr</td>\n",
       "      <td>0.864811</td>\n",
       "      <td>0.853449</td>\n",
       "      <td>0.736434</td>\n",
       "      <td>0.973424</td>\n",
       "      <td>0.296566</td>\n",
       "      <td>0.422849</td>\n",
       "    </tr>\n",
       "    <tr>\n",
       "      <th>11</th>\n",
       "      <td>lr</td>\n",
       "      <td>0.864811</td>\n",
       "      <td>0.853449</td>\n",
       "      <td>0.736434</td>\n",
       "      <td>0.973424</td>\n",
       "      <td>0.296566</td>\n",
       "      <td>0.422849</td>\n",
       "    </tr>\n",
       "    <tr>\n",
       "      <th>12</th>\n",
       "      <td>dt</td>\n",
       "      <td>0.994937</td>\n",
       "      <td>0.829463</td>\n",
       "      <td>0.766588</td>\n",
       "      <td>0.948671</td>\n",
       "      <td>0.673257</td>\n",
       "      <td>0.716898</td>\n",
       "    </tr>\n",
       "    <tr>\n",
       "      <th>13</th>\n",
       "      <td>dt</td>\n",
       "      <td>0.994937</td>\n",
       "      <td>0.829463</td>\n",
       "      <td>0.766588</td>\n",
       "      <td>0.948671</td>\n",
       "      <td>0.673257</td>\n",
       "      <td>0.716898</td>\n",
       "    </tr>\n",
       "    <tr>\n",
       "      <th>14</th>\n",
       "      <td>et</td>\n",
       "      <td>0.994937</td>\n",
       "      <td>0.803329</td>\n",
       "      <td>0.583884</td>\n",
       "      <td>0.917926</td>\n",
       "      <td>0.459938</td>\n",
       "      <td>0.514552</td>\n",
       "    </tr>\n",
       "    <tr>\n",
       "      <th>15</th>\n",
       "      <td>et</td>\n",
       "      <td>0.994937</td>\n",
       "      <td>0.803329</td>\n",
       "      <td>0.583884</td>\n",
       "      <td>0.917926</td>\n",
       "      <td>0.459938</td>\n",
       "      <td>0.514552</td>\n",
       "    </tr>\n",
       "  </tbody>\n",
       "</table>\n",
       "</div>"
      ],
      "text/plain": [
       "   model  train_auc  test_auc  precision  specificity    recall   f_score\n",
       "0    xgb   0.988947  0.919021   0.541612     0.819177  0.853278  0.662626\n",
       "1     gb   0.911039  0.894490   0.695138     0.939552  0.550468  0.614402\n",
       "2     gb   0.911039  0.894490   0.695138     0.939552  0.550468  0.614402\n",
       "3    ada   0.901677  0.886020   0.675393     0.935383  0.536941  0.598261\n",
       "4    ada   0.901677  0.886020   0.675393     0.935383  0.536941  0.598261\n",
       "5    svc   0.901244  0.871290   0.743083     0.983064  0.195630  0.309720\n",
       "6    svc   0.901244  0.871290   0.743083     0.983064  0.195630  0.309720\n",
       "7     rf   0.992974  0.859397   0.609974     0.920532  0.496358  0.547332\n",
       "8     rf   0.992974  0.859397   0.609974     0.920532  0.496358  0.547332\n",
       "9     lr   0.864811  0.853449   0.736434     0.973424  0.296566  0.422849\n",
       "10    lr   0.864811  0.853449   0.736434     0.973424  0.296566  0.422849\n",
       "11    lr   0.864811  0.853449   0.736434     0.973424  0.296566  0.422849\n",
       "12    dt   0.994937  0.829463   0.766588     0.948671  0.673257  0.716898\n",
       "13    dt   0.994937  0.829463   0.766588     0.948671  0.673257  0.716898\n",
       "14    et   0.994937  0.803329   0.583884     0.917926  0.459938  0.514552\n",
       "15    et   0.994937  0.803329   0.583884     0.917926  0.459938  0.514552"
      ]
     },
     "execution_count": 40,
     "metadata": {},
     "output_type": "execute_result"
    }
   ],
   "source": [
    "# Results of our initial modeling\n",
    "pd.DataFrame(init_list).sort_values(by='test_auc', ascending=False).reset_index(drop=True)"
   ]
  },
  {
   "cell_type": "markdown",
   "id": "ee9e6870",
   "metadata": {},
   "source": [
    "### AUC-ROC Eval"
   ]
  },
  {
   "cell_type": "code",
   "execution_count": 42,
   "id": "e09c2b73",
   "metadata": {},
   "outputs": [],
   "source": [
    "init_dict = {\n",
    "    lr: 'LogisticRegression',\n",
    "    gb: 'GradientBoostingClassifier',\n",
    "    ada: 'AdaBoostClassifier',\n",
    "    rf: 'RandomForest',\n",
    "    svc: 'SupportVectorMachineCl',\n",
    "    et: 'ExtraTrees',\n",
    "    dt: 'DecisionTreeClassifier',\n",
    "    xgb: 'XGBoost'\n",
    "}"
   ]
  },
  {
   "cell_type": "code",
   "execution_count": 22,
   "id": "59fd61e7",
   "metadata": {},
   "outputs": [],
   "source": [
    "def roc_curve_plotter(model_dict, plot_top=False):\n",
    "    fig, ax = plt.subplots(1, 1, figsize=(12,10))\n",
    "    axes = {}\n",
    "    for i, m in enumerate(model_dict.keys()):\n",
    "        axes[f'ax{i}'] = plot_roc_curve(m, X_test, y_test, ax=ax, name=model_dict[m])\n",
    "    if plot_top:\n",
    "        for i, a in enumerate(axes):\n",
    "            if i != 0:\n",
    "                axes[a].line_.set_color('lightgrey')\n",
    "    plt.plot([0, 1], [0, 1], color='black', lw=2, linestyle='--', label='Random Guess')\n",
    "    plt.title('ROC-AUC Curve Comparison', fontsize=22)\n",
    "    plt.xlabel('False Positive Rate', fontsize=12)\n",
    "    plt.ylabel('True Positive Rate', fontsize=12)\n",
    "    plt.legend(fontsize=12)"
   ]
  },
  {
   "cell_type": "code",
   "execution_count": 43,
   "id": "e8dee17f",
   "metadata": {},
   "outputs": [
    {
     "data": {
      "image/png": "[encoded data removed]",
      "text/plain": [
       "<Figure size 864x720 with 1 Axes>"
      ]
     },
     "metadata": {
      "needs_background": "light"
     },
     "output_type": "display_data"
    }
   ],
   "source": [
    "roc_curve_plotter(init_dict)"
   ]
  },
  {
   "cell_type": "markdown",
   "id": "6a36ed61",
   "metadata": {},
   "source": [
    "### Shap"
   ]
  },
  {
   "cell_type": "code",
   "execution_count": 37,
   "id": "af57b416",
   "metadata": {},
   "outputs": [
    {
     "ename": "Exception",
     "evalue": "Model type not yet supported by TreeExplainer: <class 'module'>",
     "output_type": "error",
     "traceback": [
      "\u001b[1;31m---------------------------------------------------------------------------\u001b[0m",
      "\u001b[1;31mException\u001b[0m                                 Traceback (most recent call last)",
      "\u001b[1;32m~\\AppData\\Local\\Temp/ipykernel_10644/3612484750.py\u001b[0m in \u001b[0;36m<module>\u001b[1;34m\u001b[0m\n\u001b[0;32m      1\u001b[0m \u001b[1;32mimport\u001b[0m \u001b[0mshap\u001b[0m\u001b[1;33m\u001b[0m\u001b[1;33m\u001b[0m\u001b[0m\n\u001b[1;32m----> 2\u001b[1;33m \u001b[0mshap_values\u001b[0m \u001b[1;33m=\u001b[0m \u001b[0mshap\u001b[0m\u001b[1;33m.\u001b[0m\u001b[0mTreeExplainer\u001b[0m\u001b[1;33m(\u001b[0m\u001b[0mxgb\u001b[0m\u001b[1;33m)\u001b[0m\u001b[1;33m.\u001b[0m\u001b[0mshap_values\u001b[0m\u001b[1;33m(\u001b[0m\u001b[0mX_train\u001b[0m\u001b[1;33m)\u001b[0m\u001b[1;33m\u001b[0m\u001b[1;33m\u001b[0m\u001b[0m\n\u001b[0m\u001b[0;32m      3\u001b[0m \u001b[0mshap\u001b[0m\u001b[1;33m.\u001b[0m\u001b[0msummary_plot\u001b[0m\u001b[1;33m(\u001b[0m\u001b[0mshap_values\u001b[0m\u001b[1;33m,\u001b[0m \u001b[0mX_train\u001b[0m\u001b[1;33m,\u001b[0m \u001b[0mplot_type\u001b[0m\u001b[1;33m=\u001b[0m\u001b[1;34m\"bar\"\u001b[0m\u001b[1;33m)\u001b[0m\u001b[1;33m\u001b[0m\u001b[1;33m\u001b[0m\u001b[0m\n",
      "\u001b[1;32m~\\Anaconda3\\lib\\site-packages\\shap\\explainers\\_tree.py\u001b[0m in \u001b[0;36m__init__\u001b[1;34m(self, model, data, model_output, feature_perturbation, feature_names, **deprecated_options)\u001b[0m\n\u001b[0;32m    145\u001b[0m         \u001b[0mself\u001b[0m\u001b[1;33m.\u001b[0m\u001b[0mfeature_perturbation\u001b[0m \u001b[1;33m=\u001b[0m \u001b[0mfeature_perturbation\u001b[0m\u001b[1;33m\u001b[0m\u001b[1;33m\u001b[0m\u001b[0m\n\u001b[0;32m    146\u001b[0m         \u001b[0mself\u001b[0m\u001b[1;33m.\u001b[0m\u001b[0mexpected_value\u001b[0m \u001b[1;33m=\u001b[0m \u001b[1;32mNone\u001b[0m\u001b[1;33m\u001b[0m\u001b[1;33m\u001b[0m\u001b[0m\n\u001b[1;32m--> 147\u001b[1;33m         \u001b[0mself\u001b[0m\u001b[1;33m.\u001b[0m\u001b[0mmodel\u001b[0m \u001b[1;33m=\u001b[0m \u001b[0mTreeEnsemble\u001b[0m\u001b[1;33m(\u001b[0m\u001b[0mmodel\u001b[0m\u001b[1;33m,\u001b[0m \u001b[0mself\u001b[0m\u001b[1;33m.\u001b[0m\u001b[0mdata\u001b[0m\u001b[1;33m,\u001b[0m \u001b[0mself\u001b[0m\u001b[1;33m.\u001b[0m\u001b[0mdata_missing\u001b[0m\u001b[1;33m,\u001b[0m \u001b[0mmodel_output\u001b[0m\u001b[1;33m)\u001b[0m\u001b[1;33m\u001b[0m\u001b[1;33m\u001b[0m\u001b[0m\n\u001b[0m\u001b[0;32m    148\u001b[0m         \u001b[0mself\u001b[0m\u001b[1;33m.\u001b[0m\u001b[0mmodel_output\u001b[0m \u001b[1;33m=\u001b[0m \u001b[0mmodel_output\u001b[0m\u001b[1;33m\u001b[0m\u001b[1;33m\u001b[0m\u001b[0m\n\u001b[0;32m    149\u001b[0m         \u001b[1;31m#self.model_output = self.model.model_output # this allows the TreeEnsemble to translate model outputs types by how it loads the model\u001b[0m\u001b[1;33m\u001b[0m\u001b[1;33m\u001b[0m\u001b[1;33m\u001b[0m\u001b[0m\n",
      "\u001b[1;32m~\\Anaconda3\\lib\\site-packages\\shap\\explainers\\_tree.py\u001b[0m in \u001b[0;36m__init__\u001b[1;34m(self, model, data, data_missing, model_output)\u001b[0m\n\u001b[0;32m    975\u001b[0m             \u001b[0mself\u001b[0m\u001b[1;33m.\u001b[0m\u001b[0mbase_offset\u001b[0m \u001b[1;33m=\u001b[0m \u001b[0mmodel\u001b[0m\u001b[1;33m.\u001b[0m\u001b[0minit_params\u001b[0m\u001b[1;33m[\u001b[0m\u001b[0mparam_idx\u001b[0m\u001b[1;33m]\u001b[0m\u001b[1;33m\u001b[0m\u001b[1;33m\u001b[0m\u001b[0m\n\u001b[0;32m    976\u001b[0m         \u001b[1;32melse\u001b[0m\u001b[1;33m:\u001b[0m\u001b[1;33m\u001b[0m\u001b[1;33m\u001b[0m\u001b[0m\n\u001b[1;32m--> 977\u001b[1;33m             \u001b[1;32mraise\u001b[0m \u001b[0mException\u001b[0m\u001b[1;33m(\u001b[0m\u001b[1;34m\"Model type not yet supported by TreeExplainer: \"\u001b[0m \u001b[1;33m+\u001b[0m \u001b[0mstr\u001b[0m\u001b[1;33m(\u001b[0m\u001b[0mtype\u001b[0m\u001b[1;33m(\u001b[0m\u001b[0mmodel\u001b[0m\u001b[1;33m)\u001b[0m\u001b[1;33m)\u001b[0m\u001b[1;33m)\u001b[0m\u001b[1;33m\u001b[0m\u001b[1;33m\u001b[0m\u001b[0m\n\u001b[0m\u001b[0;32m    978\u001b[0m \u001b[1;33m\u001b[0m\u001b[0m\n\u001b[0;32m    979\u001b[0m         \u001b[1;31m# build a dense numpy version of all the tree objects\u001b[0m\u001b[1;33m\u001b[0m\u001b[1;33m\u001b[0m\u001b[1;33m\u001b[0m\u001b[0m\n",
      "\u001b[1;31mException\u001b[0m: Model type not yet supported by TreeExplainer: <class 'module'>"
     ]
    }
   ],
   "source": [
    "import shap\n",
    "shap_values = shap.TreeExplainer(xgb).shap_values(X_train)\n",
    "shap.summary_plot(shap_values, X_train, plot_type=\"bar\")"
   ]
  },
  {
   "cell_type": "code",
   "execution_count": null,
   "id": "83241fa9",
   "metadata": {},
   "outputs": [],
   "source": []
  }
 ],
 "metadata": {
  "kernelspec": {
   "display_name": "Python 3 (ipykernel)",
   "language": "python",
   "name": "python3"
  },
  "language_info": {
   "codemirror_mode": {
    "name": "ipython",
    "version": 3
   },
   "file_extension": ".py",
   "mimetype": "text/x-python",
   "name": "python",
   "nbconvert_exporter": "python",
   "pygments_lexer": "ipython3",
   "version": "3.7.11"
  }
 },
 "nbformat": 4,
 "nbformat_minor": 5
}
