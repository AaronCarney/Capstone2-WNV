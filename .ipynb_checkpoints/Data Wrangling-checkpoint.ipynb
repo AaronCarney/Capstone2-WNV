{
 "cells": [
  {
   "cell_type": "markdown",
   "id": "2b20b20f",
   "metadata": {},
   "source": [
    "## 1. Data Wrangling - West Nile Virus<a id='1_Data Wrangling'></a>"
   ]
  },
  {
   "cell_type": "markdown",
   "id": "ade2c3ab",
   "metadata": {},
   "source": [
    "### 1.1 Table of Contents <a id='1.1_Table_of_Contents'></a>\n",
    "* [1 Data wrangling - West Nile Virus](#1_Data_wrangling)\n",
    "     * [1.1 Table of Contents](#1.1_Table_of_Contents)\n",
    "     * [1.2 Recap Of Data Science Problem](#1.2_Recap_Of_Data_Science_Problem)\n",
    "     * [1.3 Imports](#1.3_Imports)\n",
    "     * [1.4 Objects](#1.4_Objects)\n",
    "* [2. Spray Data](#2_Spray_Data)\n",
    "     * [2.1 Loading](#2.1_Loading)\n",
    "     * [2.2 Exploring ](#2.2_Exploring)\n",
    "     * [2.3 Missing Data](#2.3_Missing_Data)\n",
    "* [3. Weather Data](#3._Weather_Data)\n",
    "     * [3.1 Loading](#3.1_Loading)\n",
    "     * [3.2 Exploring](#3.2_Exploring)\n",
    "     * [3.3 Missing Data](#3.3_Missing_Data)\n",
    "          * [3.3.1 Tempature](#3.3.1_Tempature)\n",
    "          * [3.3.2 Precipitation](#3.3.2_Precipitation)\n",
    "          * [3.3.3 Dew Point](#3.3.3_Dew_Point)\n",
    "     * [3.4 Relitive Humidity](#3.4_Relitive_Humidity)\n",
    "          * [3.4.1 Convert to Celsius](#3.4.1_Convert_to_Celsius)\n",
    "          * [3.4.2 Calculate Relative Humidity](#3.4.2_Calculate_Relative_Humidity)\n",
    "     * [3.5 Stations](#3.5_Stations)            \n",
    "     * [3.6 Shift Values](#3.6_Shift_Values)\n",
    "* [4. Map Data](#4._Map_Data)   \n",
    "     * [4.1 Loading](#4.1_Loading)\n",
    "     * [4.2 Exploring ](#4.2_Exploring)\n",
    "     * [4.3 Missing Data](#4.3_Missing_Data)"
   ]
  },
  {
   "cell_type": "markdown",
   "id": "a4230020",
   "metadata": {},
   "source": [
    "### 1.2 Recap Of Data Science Problem <a id='1.2_Recap_Of_Data_Science_Problem'></a>"
   ]
  },
  {
   "cell_type": "markdown",
   "id": "08d43141",
   "metadata": {},
   "source": [
    "### 1.3 Imports <a id='1.3_Imports'></a>"
   ]
  },
  {
   "cell_type": "code",
   "execution_count": 1,
   "id": "ecd289c6",
   "metadata": {},
   "outputs": [],
   "source": [
    "import pandas as pd\n",
    "import matplotlib.pyplot as plt\n",
    "import seaborn as sns\n",
    "import pyreadr"
   ]
  },
  {
   "cell_type": "markdown",
   "id": "d355948a",
   "metadata": {},
   "source": [
    "### 1.4 Objects <a id='1.4_Objects'></a>"
   ]
  },
  {
   "cell_type": "markdown",
   "id": "137b3b35",
   "metadata": {},
   "source": [
    "## 2. Spray Data <a id='2_Spray_Data'></a>"
   ]
  },
  {
   "cell_type": "markdown",
   "id": "244c8e91",
   "metadata": {},
   "source": [
    "### 2.1 Loading <a id='2.1_Loading'></a>"
   ]
  },
  {
   "cell_type": "code",
   "execution_count": 2,
   "id": "9f0d9ecb",
   "metadata": {},
   "outputs": [],
   "source": [
    "spray_data = pd.read_csv('data/spray.csv')"
   ]
  },
  {
   "cell_type": "markdown",
   "id": "a2da59cb",
   "metadata": {},
   "source": [
    "### 2.2 Exploring <a id='2.2_Exploring'></a>"
   ]
  },
  {
   "cell_type": "code",
   "execution_count": 3,
   "id": "4f4915e2",
   "metadata": {},
   "outputs": [
    {
     "data": {
      "text/html": [
       "<div>\n",
       "<style scoped>\n",
       "    .dataframe tbody tr th:only-of-type {\n",
       "        vertical-align: middle;\n",
       "    }\n",
       "\n",
       "    .dataframe tbody tr th {\n",
       "        vertical-align: top;\n",
       "    }\n",
       "\n",
       "    .dataframe thead th {\n",
       "        text-align: right;\n",
       "    }\n",
       "</style>\n",
       "<table border=\"1\" class=\"dataframe\">\n",
       "  <thead>\n",
       "    <tr style=\"text-align: right;\">\n",
       "      <th></th>\n",
       "      <th>Date</th>\n",
       "      <th>Time</th>\n",
       "      <th>Latitude</th>\n",
       "      <th>Longitude</th>\n",
       "    </tr>\n",
       "  </thead>\n",
       "  <tbody>\n",
       "    <tr>\n",
       "      <th>0</th>\n",
       "      <td>2011-08-29</td>\n",
       "      <td>6:56:58 PM</td>\n",
       "      <td>42.391623</td>\n",
       "      <td>-88.089163</td>\n",
       "    </tr>\n",
       "    <tr>\n",
       "      <th>1</th>\n",
       "      <td>2011-08-29</td>\n",
       "      <td>6:57:08 PM</td>\n",
       "      <td>42.391348</td>\n",
       "      <td>-88.089163</td>\n",
       "    </tr>\n",
       "    <tr>\n",
       "      <th>2</th>\n",
       "      <td>2011-08-29</td>\n",
       "      <td>6:57:18 PM</td>\n",
       "      <td>42.391022</td>\n",
       "      <td>-88.089157</td>\n",
       "    </tr>\n",
       "    <tr>\n",
       "      <th>3</th>\n",
       "      <td>2011-08-29</td>\n",
       "      <td>6:57:28 PM</td>\n",
       "      <td>42.390637</td>\n",
       "      <td>-88.089158</td>\n",
       "    </tr>\n",
       "    <tr>\n",
       "      <th>4</th>\n",
       "      <td>2011-08-29</td>\n",
       "      <td>6:57:38 PM</td>\n",
       "      <td>42.390410</td>\n",
       "      <td>-88.088858</td>\n",
       "    </tr>\n",
       "  </tbody>\n",
       "</table>\n",
       "</div>"
      ],
      "text/plain": [
       "         Date        Time   Latitude  Longitude\n",
       "0  2011-08-29  6:56:58 PM  42.391623 -88.089163\n",
       "1  2011-08-29  6:57:08 PM  42.391348 -88.089163\n",
       "2  2011-08-29  6:57:18 PM  42.391022 -88.089157\n",
       "3  2011-08-29  6:57:28 PM  42.390637 -88.089158\n",
       "4  2011-08-29  6:57:38 PM  42.390410 -88.088858"
      ]
     },
     "execution_count": 3,
     "metadata": {},
     "output_type": "execute_result"
    }
   ],
   "source": [
    "spray_data.head()"
   ]
  },
  {
   "cell_type": "code",
   "execution_count": 4,
   "id": "bd4601fe",
   "metadata": {},
   "outputs": [
    {
     "data": {
      "text/plain": [
       "Date          object\n",
       "Time          object\n",
       "Latitude     float64\n",
       "Longitude    float64\n",
       "dtype: object"
      ]
     },
     "execution_count": 4,
     "metadata": {},
     "output_type": "execute_result"
    }
   ],
   "source": [
    "spray_data.dtypes"
   ]
  },
  {
   "cell_type": "code",
   "execution_count": 5,
   "id": "8930114b",
   "metadata": {},
   "outputs": [
    {
     "data": {
      "text/plain": [
       "(14835, 4)"
      ]
     },
     "execution_count": 5,
     "metadata": {},
     "output_type": "execute_result"
    }
   ],
   "source": [
    "spray_data.shape"
   ]
  },
  {
   "cell_type": "markdown",
   "id": "d5e588e8",
   "metadata": {},
   "source": [
    "### 2.3 Missing Data <a id='2.3_Missing_Data'></a>"
   ]
  },
  {
   "cell_type": "code",
   "execution_count": 6,
   "id": "be038bb5",
   "metadata": {},
   "outputs": [
    {
     "data": {
      "text/html": [
       "<div>\n",
       "<style scoped>\n",
       "    .dataframe tbody tr th:only-of-type {\n",
       "        vertical-align: middle;\n",
       "    }\n",
       "\n",
       "    .dataframe tbody tr th {\n",
       "        vertical-align: top;\n",
       "    }\n",
       "\n",
       "    .dataframe thead th {\n",
       "        text-align: right;\n",
       "    }\n",
       "</style>\n",
       "<table border=\"1\" class=\"dataframe\">\n",
       "  <thead>\n",
       "    <tr style=\"text-align: right;\">\n",
       "      <th></th>\n",
       "      <th>count</th>\n",
       "      <th>%</th>\n",
       "    </tr>\n",
       "  </thead>\n",
       "  <tbody>\n",
       "    <tr>\n",
       "      <th>Time</th>\n",
       "      <td>584</td>\n",
       "      <td>3.936636</td>\n",
       "    </tr>\n",
       "    <tr>\n",
       "      <th>Date</th>\n",
       "      <td>0</td>\n",
       "      <td>0.000000</td>\n",
       "    </tr>\n",
       "    <tr>\n",
       "      <th>Latitude</th>\n",
       "      <td>0</td>\n",
       "      <td>0.000000</td>\n",
       "    </tr>\n",
       "    <tr>\n",
       "      <th>Longitude</th>\n",
       "      <td>0</td>\n",
       "      <td>0.000000</td>\n",
       "    </tr>\n",
       "  </tbody>\n",
       "</table>\n",
       "</div>"
      ],
      "text/plain": [
       "           count         %\n",
       "Time         584  3.936636\n",
       "Date           0  0.000000\n",
       "Latitude       0  0.000000\n",
       "Longitude      0  0.000000"
      ]
     },
     "execution_count": 6,
     "metadata": {},
     "output_type": "execute_result"
    }
   ],
   "source": [
    "missing = pd.concat([spray_data.isnull().sum(), 100 * spray_data.isnull().mean()], axis=1)\n",
    "missing.columns=['count', '%']\n",
    "\n",
    "missing.sort_values(by='count',  ascending=False)"
   ]
  },
  {
   "cell_type": "code",
   "execution_count": 7,
   "id": "805e6060",
   "metadata": {},
   "outputs": [
    {
     "data": {
      "text/html": [
       "<div>\n",
       "<style scoped>\n",
       "    .dataframe tbody tr th:only-of-type {\n",
       "        vertical-align: middle;\n",
       "    }\n",
       "\n",
       "    .dataframe tbody tr th {\n",
       "        vertical-align: top;\n",
       "    }\n",
       "\n",
       "    .dataframe thead th {\n",
       "        text-align: right;\n",
       "    }\n",
       "</style>\n",
       "<table border=\"1\" class=\"dataframe\">\n",
       "  <thead>\n",
       "    <tr style=\"text-align: right;\">\n",
       "      <th></th>\n",
       "      <th>Date</th>\n",
       "      <th>Time</th>\n",
       "      <th>Latitude</th>\n",
       "      <th>Longitude</th>\n",
       "    </tr>\n",
       "  </thead>\n",
       "  <tbody>\n",
       "    <tr>\n",
       "      <th>1030</th>\n",
       "      <td>2011-09-07</td>\n",
       "      <td>NaN</td>\n",
       "      <td>41.987092</td>\n",
       "      <td>-87.794286</td>\n",
       "    </tr>\n",
       "    <tr>\n",
       "      <th>1031</th>\n",
       "      <td>2011-09-07</td>\n",
       "      <td>NaN</td>\n",
       "      <td>41.987620</td>\n",
       "      <td>-87.794382</td>\n",
       "    </tr>\n",
       "    <tr>\n",
       "      <th>1032</th>\n",
       "      <td>2011-09-07</td>\n",
       "      <td>NaN</td>\n",
       "      <td>41.988004</td>\n",
       "      <td>-87.794574</td>\n",
       "    </tr>\n",
       "    <tr>\n",
       "      <th>1033</th>\n",
       "      <td>2011-09-07</td>\n",
       "      <td>NaN</td>\n",
       "      <td>41.988292</td>\n",
       "      <td>-87.795486</td>\n",
       "    </tr>\n",
       "    <tr>\n",
       "      <th>1034</th>\n",
       "      <td>2011-09-07</td>\n",
       "      <td>NaN</td>\n",
       "      <td>41.988100</td>\n",
       "      <td>-87.796014</td>\n",
       "    </tr>\n",
       "  </tbody>\n",
       "</table>\n",
       "</div>"
      ],
      "text/plain": [
       "            Date Time   Latitude  Longitude\n",
       "1030  2011-09-07  NaN  41.987092 -87.794286\n",
       "1031  2011-09-07  NaN  41.987620 -87.794382\n",
       "1032  2011-09-07  NaN  41.988004 -87.794574\n",
       "1033  2011-09-07  NaN  41.988292 -87.795486\n",
       "1034  2011-09-07  NaN  41.988100 -87.796014"
      ]
     },
     "execution_count": 7,
     "metadata": {},
     "output_type": "execute_result"
    }
   ],
   "source": [
    "null_data = spray_data[spray_data.isnull().any(axis=1)]\n",
    "null_data.head()"
   ]
  },
  {
   "cell_type": "code",
   "execution_count": 8,
   "id": "e0a05bc7",
   "metadata": {},
   "outputs": [
    {
     "data": {
      "text/plain": [
       "array(['2011-09-07'], dtype=object)"
      ]
     },
     "execution_count": 8,
     "metadata": {},
     "output_type": "execute_result"
    }
   ],
   "source": [
    "null_data.Date.unique()"
   ]
  },
  {
   "cell_type": "markdown",
   "id": "57091dce",
   "metadata": {},
   "source": [
    "Just to double check:"
   ]
  },
  {
   "cell_type": "code",
   "execution_count": 9,
   "id": "7d897b9b",
   "metadata": {},
   "outputs": [
    {
     "data": {
      "text/plain": [
       "(584, 4)"
      ]
     },
     "execution_count": 9,
     "metadata": {},
     "output_type": "execute_result"
    }
   ],
   "source": [
    "datetimecheck = null_data[null_data['Date'] == '2011-09-07']\n",
    "datetimecheck.shape"
   ]
  },
  {
   "cell_type": "markdown",
   "id": "a8593d97",
   "metadata": {},
   "source": [
    "All missing values are on the data 2011-09-07, it is unlikely we would be able to recover or solve this issue."
   ]
  },
  {
   "cell_type": "code",
   "execution_count": 10,
   "id": "acf07a3e",
   "metadata": {},
   "outputs": [
    {
     "data": {
      "text/plain": [
       "(14251, 4)"
      ]
     },
     "execution_count": 10,
     "metadata": {},
     "output_type": "execute_result"
    }
   ],
   "source": [
    "spray_data = spray_data[spray_data['Time'].notna()]\n",
    "spray_data.shape"
   ]
  },
  {
   "cell_type": "markdown",
   "id": "2467442a",
   "metadata": {},
   "source": [
    "14835 - 14251 = 584"
   ]
  },
  {
   "cell_type": "code",
   "execution_count": 11,
   "id": "5ca454bc",
   "metadata": {},
   "outputs": [
    {
     "data": {
      "text/html": [
       "<div>\n",
       "<style scoped>\n",
       "    .dataframe tbody tr th:only-of-type {\n",
       "        vertical-align: middle;\n",
       "    }\n",
       "\n",
       "    .dataframe tbody tr th {\n",
       "        vertical-align: top;\n",
       "    }\n",
       "\n",
       "    .dataframe thead th {\n",
       "        text-align: right;\n",
       "    }\n",
       "</style>\n",
       "<table border=\"1\" class=\"dataframe\">\n",
       "  <thead>\n",
       "    <tr style=\"text-align: right;\">\n",
       "      <th></th>\n",
       "      <th>Date</th>\n",
       "      <th>Time</th>\n",
       "      <th>Latitude</th>\n",
       "      <th>Longitude</th>\n",
       "    </tr>\n",
       "  </thead>\n",
       "  <tbody>\n",
       "  </tbody>\n",
       "</table>\n",
       "</div>"
      ],
      "text/plain": [
       "Empty DataFrame\n",
       "Columns: [Date, Time, Latitude, Longitude]\n",
       "Index: []"
      ]
     },
     "execution_count": 11,
     "metadata": {},
     "output_type": "execute_result"
    }
   ],
   "source": [
    "null_data = spray_data[spray_data.isnull().any(axis=1)]\n",
    "null_data.head()"
   ]
  },
  {
   "cell_type": "markdown",
   "id": "0bd7343d",
   "metadata": {},
   "source": [
    "### 2.4 Datetime Modification <a id='2.4_Datetime Modification'></a>"
   ]
  },
  {
   "cell_type": "code",
   "execution_count": 12,
   "id": "9490f4b0",
   "metadata": {},
   "outputs": [
    {
     "data": {
      "text/plain": [
       "0   2011-08-29\n",
       "1   2011-08-29\n",
       "2   2011-08-29\n",
       "3   2011-08-29\n",
       "4   2011-08-29\n",
       "Name: Date, dtype: datetime64[ns]"
      ]
     },
     "execution_count": 12,
     "metadata": {},
     "output_type": "execute_result"
    }
   ],
   "source": [
    "spray_data['Date'] = pd.to_datetime(spray_data.Date)\n",
    "spray_data['Date'].head()"
   ]
  },
  {
   "cell_type": "code",
   "execution_count": 14,
   "id": "fcd187e4",
   "metadata": {},
   "outputs": [
    {
     "ename": "ValueError",
     "evalue": "unconverted data remains:  PM",
     "output_type": "error",
     "traceback": [
      "\u001b[1;31m---------------------------------------------------------------------------\u001b[0m",
      "\u001b[1;31mTypeError\u001b[0m                                 Traceback (most recent call last)",
      "\u001b[1;32m~\\Anaconda3\\lib\\site-packages\\pandas\\core\\tools\\datetimes.py\u001b[0m in \u001b[0;36m_convert_listlike_datetimes\u001b[1;34m(arg, format, name, tz, unit, errors, infer_datetime_format, dayfirst, yearfirst, exact)\u001b[0m\n\u001b[0;32m    455\u001b[0m             \u001b[1;32mtry\u001b[0m\u001b[1;33m:\u001b[0m\u001b[1;33m\u001b[0m\u001b[1;33m\u001b[0m\u001b[0m\n\u001b[1;32m--> 456\u001b[1;33m                 \u001b[0mvalues\u001b[0m\u001b[1;33m,\u001b[0m \u001b[0mtz\u001b[0m \u001b[1;33m=\u001b[0m \u001b[0mconversion\u001b[0m\u001b[1;33m.\u001b[0m\u001b[0mdatetime_to_datetime64\u001b[0m\u001b[1;33m(\u001b[0m\u001b[0marg\u001b[0m\u001b[1;33m)\u001b[0m\u001b[1;33m\u001b[0m\u001b[1;33m\u001b[0m\u001b[0m\n\u001b[0m\u001b[0;32m    457\u001b[0m                 \u001b[0mdta\u001b[0m \u001b[1;33m=\u001b[0m \u001b[0mDatetimeArray\u001b[0m\u001b[1;33m(\u001b[0m\u001b[0mvalues\u001b[0m\u001b[1;33m,\u001b[0m \u001b[0mdtype\u001b[0m\u001b[1;33m=\u001b[0m\u001b[0mtz_to_dtype\u001b[0m\u001b[1;33m(\u001b[0m\u001b[0mtz\u001b[0m\u001b[1;33m)\u001b[0m\u001b[1;33m)\u001b[0m\u001b[1;33m\u001b[0m\u001b[1;33m\u001b[0m\u001b[0m\n",
      "\u001b[1;32mpandas\\_libs\\tslibs\\conversion.pyx\u001b[0m in \u001b[0;36mpandas._libs.tslibs.conversion.datetime_to_datetime64\u001b[1;34m()\u001b[0m\n",
      "\u001b[1;31mTypeError\u001b[0m: Unrecognized value type: <class 'str'>",
      "\nDuring handling of the above exception, another exception occurred:\n",
      "\u001b[1;31mValueError\u001b[0m                                Traceback (most recent call last)",
      "\u001b[1;32m<ipython-input-14-e59645a6e9e7>\u001b[0m in \u001b[0;36m<module>\u001b[1;34m\u001b[0m\n\u001b[1;32m----> 1\u001b[1;33m \u001b[0mspray_data\u001b[0m\u001b[1;33m[\u001b[0m\u001b[1;34m'Time'\u001b[0m\u001b[1;33m]\u001b[0m \u001b[1;33m=\u001b[0m \u001b[0mpd\u001b[0m\u001b[1;33m.\u001b[0m\u001b[0mto_datetime\u001b[0m\u001b[1;33m(\u001b[0m\u001b[0mspray_data\u001b[0m\u001b[1;33m.\u001b[0m\u001b[0mTime\u001b[0m\u001b[1;33m,\u001b[0m \u001b[0mformat\u001b[0m\u001b[1;33m=\u001b[0m \u001b[1;34m'%H:%M:%S'\u001b[0m\u001b[1;33m)\u001b[0m\u001b[1;33m.\u001b[0m\u001b[0mdt\u001b[0m\u001b[1;33m.\u001b[0m\u001b[0mtime\u001b[0m\u001b[1;33m\u001b[0m\u001b[1;33m\u001b[0m\u001b[0m\n\u001b[0m\u001b[0;32m      2\u001b[0m \u001b[0mspray_data\u001b[0m\u001b[1;33m[\u001b[0m\u001b[1;34m'Time'\u001b[0m\u001b[1;33m]\u001b[0m\u001b[1;33m.\u001b[0m\u001b[0mhead\u001b[0m\u001b[1;33m(\u001b[0m\u001b[1;33m)\u001b[0m\u001b[1;33m\u001b[0m\u001b[1;33m\u001b[0m\u001b[0m\n",
      "\u001b[1;32m~\\Anaconda3\\lib\\site-packages\\pandas\\core\\tools\\datetimes.py\u001b[0m in \u001b[0;36mto_datetime\u001b[1;34m(arg, errors, dayfirst, yearfirst, utc, format, exact, unit, infer_datetime_format, origin, cache)\u001b[0m\n\u001b[0;32m    803\u001b[0m             \u001b[0mresult\u001b[0m \u001b[1;33m=\u001b[0m \u001b[0marg\u001b[0m\u001b[1;33m.\u001b[0m\u001b[0mmap\u001b[0m\u001b[1;33m(\u001b[0m\u001b[0mcache_array\u001b[0m\u001b[1;33m)\u001b[0m\u001b[1;33m\u001b[0m\u001b[1;33m\u001b[0m\u001b[0m\n\u001b[0;32m    804\u001b[0m         \u001b[1;32melse\u001b[0m\u001b[1;33m:\u001b[0m\u001b[1;33m\u001b[0m\u001b[1;33m\u001b[0m\u001b[0m\n\u001b[1;32m--> 805\u001b[1;33m             \u001b[0mvalues\u001b[0m \u001b[1;33m=\u001b[0m \u001b[0mconvert_listlike\u001b[0m\u001b[1;33m(\u001b[0m\u001b[0marg\u001b[0m\u001b[1;33m.\u001b[0m\u001b[0m_values\u001b[0m\u001b[1;33m,\u001b[0m \u001b[0mformat\u001b[0m\u001b[1;33m)\u001b[0m\u001b[1;33m\u001b[0m\u001b[1;33m\u001b[0m\u001b[0m\n\u001b[0m\u001b[0;32m    806\u001b[0m             \u001b[0mresult\u001b[0m \u001b[1;33m=\u001b[0m \u001b[0marg\u001b[0m\u001b[1;33m.\u001b[0m\u001b[0m_constructor\u001b[0m\u001b[1;33m(\u001b[0m\u001b[0mvalues\u001b[0m\u001b[1;33m,\u001b[0m \u001b[0mindex\u001b[0m\u001b[1;33m=\u001b[0m\u001b[0marg\u001b[0m\u001b[1;33m.\u001b[0m\u001b[0mindex\u001b[0m\u001b[1;33m,\u001b[0m \u001b[0mname\u001b[0m\u001b[1;33m=\u001b[0m\u001b[0marg\u001b[0m\u001b[1;33m.\u001b[0m\u001b[0mname\u001b[0m\u001b[1;33m)\u001b[0m\u001b[1;33m\u001b[0m\u001b[1;33m\u001b[0m\u001b[0m\n\u001b[0;32m    807\u001b[0m     \u001b[1;32melif\u001b[0m \u001b[0misinstance\u001b[0m\u001b[1;33m(\u001b[0m\u001b[0marg\u001b[0m\u001b[1;33m,\u001b[0m \u001b[1;33m(\u001b[0m\u001b[0mABCDataFrame\u001b[0m\u001b[1;33m,\u001b[0m \u001b[0mabc\u001b[0m\u001b[1;33m.\u001b[0m\u001b[0mMutableMapping\u001b[0m\u001b[1;33m)\u001b[0m\u001b[1;33m)\u001b[0m\u001b[1;33m:\u001b[0m\u001b[1;33m\u001b[0m\u001b[1;33m\u001b[0m\u001b[0m\n",
      "\u001b[1;32m~\\Anaconda3\\lib\\site-packages\\pandas\\core\\tools\\datetimes.py\u001b[0m in \u001b[0;36m_convert_listlike_datetimes\u001b[1;34m(arg, format, name, tz, unit, errors, infer_datetime_format, dayfirst, yearfirst, exact)\u001b[0m\n\u001b[0;32m    458\u001b[0m                 \u001b[1;32mreturn\u001b[0m \u001b[0mDatetimeIndex\u001b[0m\u001b[1;33m.\u001b[0m\u001b[0m_simple_new\u001b[0m\u001b[1;33m(\u001b[0m\u001b[0mdta\u001b[0m\u001b[1;33m,\u001b[0m \u001b[0mname\u001b[0m\u001b[1;33m=\u001b[0m\u001b[0mname\u001b[0m\u001b[1;33m)\u001b[0m\u001b[1;33m\u001b[0m\u001b[1;33m\u001b[0m\u001b[0m\n\u001b[0;32m    459\u001b[0m             \u001b[1;32mexcept\u001b[0m \u001b[1;33m(\u001b[0m\u001b[0mValueError\u001b[0m\u001b[1;33m,\u001b[0m \u001b[0mTypeError\u001b[0m\u001b[1;33m)\u001b[0m\u001b[1;33m:\u001b[0m\u001b[1;33m\u001b[0m\u001b[1;33m\u001b[0m\u001b[0m\n\u001b[1;32m--> 460\u001b[1;33m                 \u001b[1;32mraise\u001b[0m \u001b[0me\u001b[0m\u001b[1;33m\u001b[0m\u001b[1;33m\u001b[0m\u001b[0m\n\u001b[0m\u001b[0;32m    461\u001b[0m \u001b[1;33m\u001b[0m\u001b[0m\n\u001b[0;32m    462\u001b[0m     \u001b[1;32mif\u001b[0m \u001b[0mresult\u001b[0m \u001b[1;32mis\u001b[0m \u001b[1;32mNone\u001b[0m\u001b[1;33m:\u001b[0m\u001b[1;33m\u001b[0m\u001b[1;33m\u001b[0m\u001b[0m\n",
      "\u001b[1;32m~\\Anaconda3\\lib\\site-packages\\pandas\\core\\tools\\datetimes.py\u001b[0m in \u001b[0;36m_convert_listlike_datetimes\u001b[1;34m(arg, format, name, tz, unit, errors, infer_datetime_format, dayfirst, yearfirst, exact)\u001b[0m\n\u001b[0;32m    422\u001b[0m                 \u001b[1;32mtry\u001b[0m\u001b[1;33m:\u001b[0m\u001b[1;33m\u001b[0m\u001b[1;33m\u001b[0m\u001b[0m\n\u001b[0;32m    423\u001b[0m                     result, timezones = array_strptime(\n\u001b[1;32m--> 424\u001b[1;33m                         \u001b[0marg\u001b[0m\u001b[1;33m,\u001b[0m \u001b[0mformat\u001b[0m\u001b[1;33m,\u001b[0m \u001b[0mexact\u001b[0m\u001b[1;33m=\u001b[0m\u001b[0mexact\u001b[0m\u001b[1;33m,\u001b[0m \u001b[0merrors\u001b[0m\u001b[1;33m=\u001b[0m\u001b[0merrors\u001b[0m\u001b[1;33m\u001b[0m\u001b[1;33m\u001b[0m\u001b[0m\n\u001b[0m\u001b[0;32m    425\u001b[0m                     )\n\u001b[0;32m    426\u001b[0m                     \u001b[1;32mif\u001b[0m \u001b[1;34m\"%Z\"\u001b[0m \u001b[1;32min\u001b[0m \u001b[0mformat\u001b[0m \u001b[1;32mor\u001b[0m \u001b[1;34m\"%z\"\u001b[0m \u001b[1;32min\u001b[0m \u001b[0mformat\u001b[0m\u001b[1;33m:\u001b[0m\u001b[1;33m\u001b[0m\u001b[1;33m\u001b[0m\u001b[0m\n",
      "\u001b[1;32mpandas\\_libs\\tslibs\\strptime.pyx\u001b[0m in \u001b[0;36mpandas._libs.tslibs.strptime.array_strptime\u001b[1;34m()\u001b[0m\n",
      "\u001b[1;31mValueError\u001b[0m: unconverted data remains:  PM"
     ]
    }
   ],
   "source": [
    "spray_data['Time'] = pd.to_datetime(spray_data.Time, format= '%H:%M:%S').dt.time\n",
    "spray_data['Time'].head()"
   ]
  },
  {
   "cell_type": "markdown",
   "id": "36a96764",
   "metadata": {},
   "source": [
    "### 2.5 Check for Zero"
   ]
  },
  {
   "cell_type": "code",
   "execution_count": null,
   "id": "dff96e69",
   "metadata": {},
   "outputs": [],
   "source": [
    "spray_data.Time[spray_data['Time'] == 0]"
   ]
  },
  {
   "cell_type": "code",
   "execution_count": null,
   "id": "4d1dc032",
   "metadata": {},
   "outputs": [],
   "source": [
    "spray_data.Time[spray_data['Date'] == 0]"
   ]
  },
  {
   "cell_type": "code",
   "execution_count": null,
   "id": "d7177c70",
   "metadata": {},
   "outputs": [],
   "source": [
    "spray_data.Time[spray_data['Latitude'] == 0]"
   ]
  },
  {
   "cell_type": "code",
   "execution_count": null,
   "id": "bd30c53c",
   "metadata": {},
   "outputs": [],
   "source": [
    "spray_data.Time[spray_data['Longitude'] == 0]"
   ]
  },
  {
   "cell_type": "markdown",
   "id": "7b40cce0",
   "metadata": {},
   "source": [
    "## 3. Weather Data <a id='3_Weather_Data'></a>"
   ]
  },
  {
   "cell_type": "markdown",
   "id": "41831930",
   "metadata": {},
   "source": [
    "### 3.1 Loading <a id='3.1_Loading'></a>"
   ]
  },
  {
   "cell_type": "code",
   "execution_count": null,
   "id": "4ebcd238",
   "metadata": {},
   "outputs": [],
   "source": [
    "weather_data = pd.read_csv('data/weather.csv', na_values='M')"
   ]
  },
  {
   "cell_type": "markdown",
   "id": "b10e44a4",
   "metadata": {},
   "source": [
    "Thats not weird having two spaces before the T? But lets not remove Trace amounts out yet, We may want to infer values or make them a legit 0."
   ]
  },
  {
   "cell_type": "markdown",
   "id": "572a1cd1",
   "metadata": {},
   "source": [
    "### 3.2 Exploring <a id='3.2_Exploring'></a>"
   ]
  },
  {
   "cell_type": "code",
   "execution_count": null,
   "id": "6c5d8db3",
   "metadata": {},
   "outputs": [],
   "source": [
    "weather_data.head(12)"
   ]
  },
  {
   "cell_type": "code",
   "execution_count": null,
   "id": "97e5dbaa",
   "metadata": {},
   "outputs": [],
   "source": [
    "weather_data.dtypes"
   ]
  },
  {
   "cell_type": "code",
   "execution_count": null,
   "id": "4d10f012",
   "metadata": {},
   "outputs": [],
   "source": [
    "weather_data.shape"
   ]
  },
  {
   "cell_type": "markdown",
   "id": "b894231b",
   "metadata": {},
   "source": [
    "### 3.3 Missing Data <a id='3.3_Missing Data'></a>"
   ]
  },
  {
   "cell_type": "code",
   "execution_count": null,
   "id": "5a9b8b95",
   "metadata": {},
   "outputs": [],
   "source": [
    "missing = pd.concat([weather_data.isnull().sum(), 100 * weather_data.isnull().mean()], axis=1)\n",
    "missing.columns=['count', '%']\n",
    "\n",
    "missing.sort_values(by='count',  ascending=False)"
   ]
  },
  {
   "cell_type": "markdown",
   "id": "ccded5c0",
   "metadata": {},
   "source": [
    "Too many missing data points from Water1, Depart, SnowFall, and Depth. Off with their Cols! Also, Codesum doesn't look useful, none numeric and nothing categorical I can think of to compare it with.\n"
   ]
  },
  {
   "cell_type": "code",
   "execution_count": null,
   "id": "0116ac27",
   "metadata": {},
   "outputs": [],
   "source": [
    "weather_data = weather_data.drop(['Water1', 'Depart', 'SnowFall', 'Depth', 'CodeSum'], axis = 1)"
   ]
  },
  {
   "cell_type": "code",
   "execution_count": null,
   "id": "32b13085",
   "metadata": {},
   "outputs": [],
   "source": [
    "missing = pd.concat([weather_data.isnull().sum(), 100 * weather_data.isnull().mean()], axis=1)\n",
    "missing.columns=['count', '%']\n",
    "\n",
    "missing.sort_values(by='count',  ascending=False)"
   ]
  },
  {
   "cell_type": "markdown",
   "id": "3d485d66",
   "metadata": {},
   "source": [
    "In theory only 8 cols to fix for missing values, though in actuality becuase we are going up and down editing this, we have more."
   ]
  },
  {
   "cell_type": "markdown",
   "id": "f93f5232",
   "metadata": {},
   "source": [
    "#### 3.3.1 Tempature <a id='3.3.1_Tempature'></a>"
   ]
  },
  {
   "cell_type": "code",
   "execution_count": null,
   "id": "61f95ba7",
   "metadata": {},
   "outputs": [],
   "source": [
    "weather_data.Tavg.unique()"
   ]
  },
  {
   "cell_type": "code",
   "execution_count": null,
   "id": "f060ce3b",
   "metadata": {},
   "outputs": [],
   "source": [
    "weather_data['Tavg'] = (weather_data.Tmax + weather_data.Tmin)/2"
   ]
  },
  {
   "cell_type": "markdown",
   "id": "510fb25a",
   "metadata": {},
   "source": [
    "Apparantly I need to review how .mean() interacts with everything, everytime I use it, it does the mean of the whole col"
   ]
  },
  {
   "cell_type": "code",
   "execution_count": null,
   "id": "cbdbad44",
   "metadata": {},
   "outputs": [],
   "source": [
    "weather_data.Tavg.head(8)"
   ]
  },
  {
   "cell_type": "code",
   "execution_count": null,
   "id": "bf588148",
   "metadata": {},
   "outputs": [],
   "source": [
    "weather_data.Tavg.unique()"
   ]
  },
  {
   "cell_type": "markdown",
   "id": "1c91aa0a",
   "metadata": {},
   "source": [
    "#### 3.3.2 Precipitation <a id='3.3.2_Precipitation'></a>"
   ]
  },
  {
   "cell_type": "code",
   "execution_count": null,
   "id": "75756bdc",
   "metadata": {},
   "outputs": [],
   "source": [
    "weather_data.PrecipTotal.unique()"
   ]
  },
  {
   "cell_type": "markdown",
   "id": "af605bfd",
   "metadata": {},
   "source": [
    "According to the NOA records, T stands for Trace, which likely means less than 0.01. As for dealing with M, if we have the relavent data from other locations on the same datetime, take the mean for that datetime. Otherwise remove?"
   ]
  },
  {
   "cell_type": "code",
   "execution_count": null,
   "id": "18fc4c68",
   "metadata": {},
   "outputs": [],
   "source": [
    "# Count the number of M's and T's\n",
    "\n",
    "weather_data.PrecipTotal.str.count(\"T\").sum()"
   ]
  },
  {
   "cell_type": "code",
   "execution_count": null,
   "id": "bd93310c",
   "metadata": {},
   "outputs": [],
   "source": [
    "# Arbitrarily choosing T to be 0.001\n",
    "weather_data['PrecipTotal'] = weather_data['PrecipTotal'].replace('  T', 0.001)\n",
    "weather_data.PrecipTotal.str.count(\"T\").sum()"
   ]
  },
  {
   "cell_type": "code",
   "execution_count": null,
   "id": "83ccb190",
   "metadata": {},
   "outputs": [],
   "source": [
    "weather_data.PrecipTotal.isnull().sum()"
   ]
  },
  {
   "cell_type": "code",
   "execution_count": null,
   "id": "d5dd9c72",
   "metadata": {},
   "outputs": [],
   "source": [
    "# Simple Mean fill\n",
    "\n",
    "weather_data.PrecipTotal.fillna(value=weather_data.PrecipTotal.mean(), inplace=True)\n",
    "weather_data.PrecipTotal.isnull().sum()"
   ]
  },
  {
   "cell_type": "markdown",
   "id": "628a6c84",
   "metadata": {},
   "source": [
    "#### 3.3.3 Dew Point <a id='3.3.3_Dew_Point'></a>"
   ]
  },
  {
   "cell_type": "code",
   "execution_count": null,
   "id": "4bbb21b8",
   "metadata": {},
   "outputs": [],
   "source": [
    "weather_data.DewPoint.unique()"
   ]
  },
  {
   "cell_type": "code",
   "execution_count": null,
   "id": "6592d423",
   "metadata": {},
   "outputs": [],
   "source": [
    "weather_data.DewPoint.plot()"
   ]
  },
  {
   "cell_type": "markdown",
   "id": "57bc0da8",
   "metadata": {},
   "source": [
    "Nothing obviously weird here"
   ]
  },
  {
   "cell_type": "markdown",
   "id": "81083e7a",
   "metadata": {},
   "source": [
    "#### 3.3.4 WetBulb"
   ]
  },
  {
   "cell_type": "code",
   "execution_count": null,
   "id": "3b5dc0e2",
   "metadata": {},
   "outputs": [],
   "source": [
    "weather_data.WetBulb.unique()"
   ]
  },
  {
   "cell_type": "code",
   "execution_count": null,
   "id": "35dc730a",
   "metadata": {},
   "outputs": [],
   "source": [
    "weather_data.WetBulb.plot()"
   ]
  },
  {
   "cell_type": "markdown",
   "id": "09aeb354",
   "metadata": {},
   "source": [
    "#### 3.3.5 Heat"
   ]
  },
  {
   "cell_type": "code",
   "execution_count": null,
   "id": "524c924f",
   "metadata": {},
   "outputs": [],
   "source": [
    "weather_data.Heat.unique()"
   ]
  },
  {
   "cell_type": "code",
   "execution_count": null,
   "id": "074acd0b",
   "metadata": {},
   "outputs": [],
   "source": [
    "# Simple Mean fill\n",
    "\n",
    "weather_data.Heat.fillna(value=weather_data.Heat.mean(), inplace=True)\n",
    "weather_data.Heat.isnull().sum()"
   ]
  },
  {
   "cell_type": "code",
   "execution_count": null,
   "id": "93385eff",
   "metadata": {},
   "outputs": [],
   "source": [
    "weather_data.Heat.plot()"
   ]
  },
  {
   "cell_type": "markdown",
   "id": "0dace633",
   "metadata": {},
   "source": [
    "#### 3.3.6 Cool"
   ]
  },
  {
   "cell_type": "code",
   "execution_count": null,
   "id": "ad8624fc",
   "metadata": {},
   "outputs": [],
   "source": [
    "weather_data.Cool.unique()"
   ]
  },
  {
   "cell_type": "code",
   "execution_count": null,
   "id": "b642a5d7",
   "metadata": {},
   "outputs": [],
   "source": [
    "# Simple Mean fill\n",
    "\n",
    "weather_data.Cool.fillna(value=weather_data.Cool.mean(), inplace=True)\n",
    "weather_data.Cool.isnull().sum()"
   ]
  },
  {
   "cell_type": "code",
   "execution_count": null,
   "id": "feeb9dda",
   "metadata": {},
   "outputs": [],
   "source": [
    "weather_data.Cool.plot()"
   ]
  },
  {
   "cell_type": "markdown",
   "id": "0a640620",
   "metadata": {},
   "source": [
    "#### 3.3.7 StnPressure"
   ]
  },
  {
   "cell_type": "code",
   "execution_count": null,
   "id": "a1df93c2",
   "metadata": {},
   "outputs": [],
   "source": [
    "weather_data.StnPressure.unique()"
   ]
  },
  {
   "cell_type": "code",
   "execution_count": null,
   "id": "8ead68f2",
   "metadata": {},
   "outputs": [],
   "source": [
    "# Simple Mean fill\n",
    "\n",
    "weather_data.StnPressure.fillna(value=weather_data.StnPressure.mean(), inplace=True)\n",
    "weather_data.StnPressure.isnull().sum()"
   ]
  },
  {
   "cell_type": "code",
   "execution_count": null,
   "id": "14f5e089",
   "metadata": {},
   "outputs": [],
   "source": [
    "weather_data.StnPressure.plot()"
   ]
  },
  {
   "cell_type": "markdown",
   "id": "f55a0ad0",
   "metadata": {},
   "source": [
    "#### 3.3.8 SeaLevel"
   ]
  },
  {
   "cell_type": "code",
   "execution_count": null,
   "id": "01b2d5e4",
   "metadata": {},
   "outputs": [],
   "source": [
    "weather_data.SeaLevel.unique()"
   ]
  },
  {
   "cell_type": "code",
   "execution_count": null,
   "id": "d477dcba",
   "metadata": {},
   "outputs": [],
   "source": [
    "# Simple Mean fill\n",
    "\n",
    "weather_data.SeaLevel.fillna(value=weather_data.SeaLevel.mean(), inplace=True)\n",
    "weather_data.SeaLevel.isnull().sum()"
   ]
  },
  {
   "cell_type": "code",
   "execution_count": null,
   "id": "a97aa456",
   "metadata": {},
   "outputs": [],
   "source": [
    "weather_data.SeaLevel.plot()"
   ]
  },
  {
   "cell_type": "markdown",
   "id": "0f202b90",
   "metadata": {},
   "source": [
    "#### 3.3.9 ResultSpeed"
   ]
  },
  {
   "cell_type": "code",
   "execution_count": null,
   "id": "1e08b724",
   "metadata": {},
   "outputs": [],
   "source": [
    "weather_data.ResultSpeed.unique()"
   ]
  },
  {
   "cell_type": "code",
   "execution_count": null,
   "id": "23972c65",
   "metadata": {},
   "outputs": [],
   "source": [
    "weather_data.ResultSpeed.plot()"
   ]
  },
  {
   "cell_type": "markdown",
   "id": "4a0c04c8",
   "metadata": {},
   "source": [
    "#### 3.3.10 ResultDir"
   ]
  },
  {
   "cell_type": "code",
   "execution_count": null,
   "id": "c789ca14",
   "metadata": {},
   "outputs": [],
   "source": [
    "weather_data.ResultDir.unique()"
   ]
  },
  {
   "cell_type": "code",
   "execution_count": null,
   "id": "16ee904d",
   "metadata": {},
   "outputs": [],
   "source": [
    "weather_data.ResultDir.plot()"
   ]
  },
  {
   "cell_type": "markdown",
   "id": "34637a65",
   "metadata": {},
   "source": [
    "#### 3.3.11 AvgSpeed"
   ]
  },
  {
   "cell_type": "code",
   "execution_count": null,
   "id": "f34734f0",
   "metadata": {},
   "outputs": [],
   "source": [
    "weather_data.AvgSpeed.unique()"
   ]
  },
  {
   "cell_type": "code",
   "execution_count": null,
   "id": "029fb57f",
   "metadata": {},
   "outputs": [],
   "source": [
    "# Simple Mean fill\n",
    "\n",
    "weather_data.AvgSpeed.fillna(value=weather_data.AvgSpeed.mean(), inplace=True)\n",
    "weather_data.AvgSpeed.isnull().sum()"
   ]
  },
  {
   "cell_type": "code",
   "execution_count": null,
   "id": "de718b9a",
   "metadata": {},
   "outputs": [],
   "source": [
    "weather_data.AvgSpeed.plot()"
   ]
  },
  {
   "cell_type": "markdown",
   "id": "ae691944",
   "metadata": {},
   "source": [
    "### 3.4 Relitive Humidity <a id='3.4_Relitive_Humidity'></a>"
   ]
  },
  {
   "cell_type": "markdown",
   "id": "6427df8e",
   "metadata": {},
   "source": [
    "Calculation Notes for relative humidity:\n",
    "\n",
    "Saturation Vapor Pressure :\n",
    "\n",
    "Temputure = T (in celsius) \n",
    "Dewpoint Temp = Td (in celsius)\n",
    "\n",
    "* es = 6.11E( ( 7.5 * T ) / ( 273.3 + T ) )  [eq. 1]\n",
    "\n",
    "Vapor Pressure :\n",
    "\n",
    "* e = 6.11E( ( 7.5 * Td ) / ( 273.3 + Td ) ) [eq. 2]\n",
    "\n",
    "Relative Humidity:\n",
    "\n",
    "* RH = ( e / es ) * 100 [eq. 3]\n",
    "\n",
    "F to C conversion:\n",
    "\n",
    "* C = ( F - 32 ) * ( 5 / 9 ) [eq. 4]"
   ]
  },
  {
   "cell_type": "markdown",
   "id": "37c6e169",
   "metadata": {},
   "source": [
    "Primary Sources:\n",
    "\n",
    "* https://www.weather.gov/media/epz/wxcalc/vaporPressure.pdf <-- primary for equations\n",
    "\n",
    "* https://www.ncbi.nlm.nih.gov/pmc/articles/PMC7068582/ <-- Journal concerning primary weather conditions\n",
    "\n",
    "* https://www.ncbi.nlm.nih.gov/pmc/articles/PMC3750695/ <-- specific study attempting to determine mathmatical formula based on weather\n",
    "\n",
    "Secondary Sources:\n",
    "\n",
    "* https://www.theweatherprediction.com/habyhints/186/\n",
    "\n",
    "* https://snowball.millersville.edu/~adecaria/ESCI241/esci241_lesson06_humidity.pdf\n",
    "\n",
    "* https://www.omnicalculator.com/chemistry/vapour-pressure-of-water"
   ]
  },
  {
   "cell_type": "markdown",
   "id": "9a47dd8a",
   "metadata": {},
   "source": [
    "#### 3.4.1 Convert to Celsius <a id='3.4.1_Convert_to_Celsius'></a>"
   ]
  },
  {
   "cell_type": "code",
   "execution_count": null,
   "id": "ec26a3f1",
   "metadata": {},
   "outputs": [],
   "source": [
    "# Double check format, NOAA is in F not C, need to convert. Using equation #4\n",
    "\n",
    "weather_data['TmaxC'] = (weather_data['Tmax'] - 32) * (5/9)\n",
    "weather_data['TminC'] = (weather_data['Tmin'] - 32) * (5/9)\n",
    "weather_data['TavgC'] = (weather_data['Tavg'] - 32) * (5/9)\n",
    "weather_data['DewPointC'] = (weather_data['DewPoint'] - 32) * (5/9)"
   ]
  },
  {
   "cell_type": "code",
   "execution_count": null,
   "id": "76dd8b15",
   "metadata": {},
   "outputs": [],
   "source": [
    "weather_data.TmaxC.head()"
   ]
  },
  {
   "cell_type": "code",
   "execution_count": null,
   "id": "6a813138",
   "metadata": {},
   "outputs": [],
   "source": [
    "weather_data.TminC.head()"
   ]
  },
  {
   "cell_type": "code",
   "execution_count": null,
   "id": "51ffd588",
   "metadata": {},
   "outputs": [],
   "source": [
    "weather_data.TavgC.head()"
   ]
  },
  {
   "cell_type": "code",
   "execution_count": null,
   "id": "4d7bf85e",
   "metadata": {},
   "outputs": [],
   "source": [
    "weather_data.DewPointC.head()"
   ]
  },
  {
   "cell_type": "markdown",
   "id": "7587a263",
   "metadata": {},
   "source": [
    "#### 3.4.2 Calculate Relative Humidity <a id='3.4.2_Calculate_Relative_Humidity'></a>"
   ]
  },
  {
   "cell_type": "code",
   "execution_count": null,
   "id": "52f70534",
   "metadata": {},
   "outputs": [],
   "source": [
    "# See Equations #1, 2, and 3\n",
    "\n",
    "weather_data['RHmax'] =(( 6.11 ** ((7.5 * weather_data['DewPointC']) / (273.3 + weather_data['DewPointC']))) / 6.11 ** ((7.5 * weather_data['TmaxC'])/(273.3 + weather_data['TmaxC']))) * 100\n",
    "weather_data['RHmin'] =(( 6.11 ** ((7.5 * weather_data['DewPointC']) / (273.3 + weather_data['DewPointC']))) / 6.11 ** ((7.5 * weather_data['TminC'])/(273.3 + weather_data['TminC']))) * 100\n",
    "weather_data['RHavg'] =(( 6.11 ** ((7.5 * weather_data['DewPointC']) / (273.3 + weather_data['DewPointC']))) / 6.11 ** ((7.5 * weather_data['TavgC'])/(273.3 + weather_data['TavgC']))) * 100"
   ]
  },
  {
   "cell_type": "code",
   "execution_count": null,
   "id": "1088ea34",
   "metadata": {},
   "outputs": [],
   "source": [
    "weather_data.RHmax.head()"
   ]
  },
  {
   "cell_type": "code",
   "execution_count": null,
   "id": "dc07e430",
   "metadata": {},
   "outputs": [],
   "source": [
    "weather_data.RHmin.head()"
   ]
  },
  {
   "cell_type": "code",
   "execution_count": null,
   "id": "c7bea1dc",
   "metadata": {},
   "outputs": [],
   "source": [
    "weather_data.RHavg.head()"
   ]
  },
  {
   "cell_type": "markdown",
   "id": "33dcaeac",
   "metadata": {},
   "source": [
    "### 3.?"
   ]
  },
  {
   "cell_type": "code",
   "execution_count": null,
   "id": "2c1c95ef",
   "metadata": {},
   "outputs": [],
   "source": []
  },
  {
   "cell_type": "code",
   "execution_count": null,
   "id": "b108b8e0",
   "metadata": {},
   "outputs": [],
   "source": []
  },
  {
   "cell_type": "code",
   "execution_count": null,
   "id": "d419fd7e",
   "metadata": {},
   "outputs": [],
   "source": []
  },
  {
   "cell_type": "code",
   "execution_count": null,
   "id": "b47ad196",
   "metadata": {},
   "outputs": [],
   "source": []
  },
  {
   "cell_type": "code",
   "execution_count": null,
   "id": "b507d472",
   "metadata": {},
   "outputs": [],
   "source": []
  },
  {
   "cell_type": "markdown",
   "id": "df2343a6",
   "metadata": {},
   "source": [
    "### 3.5 Stations, Dates & Format<a id='3.5_Stations'></a>"
   ]
  },
  {
   "cell_type": "markdown",
   "id": "2cb36dd4",
   "metadata": {},
   "source": [
    "Back tracking a bit. To properly use shift we need to seperate the stations and reformat some cols"
   ]
  },
  {
   "cell_type": "code",
   "execution_count": null,
   "id": "b0b6c622",
   "metadata": {},
   "outputs": [],
   "source": [
    "weather_data.Station.unique()"
   ]
  },
  {
   "cell_type": "code",
   "execution_count": null,
   "id": "47f074a4",
   "metadata": {},
   "outputs": [],
   "source": [
    "weather_data['Date'] = pd.to_datetime(weather_data.Date)\n",
    "weather_data['Date'].head()"
   ]
  },
  {
   "cell_type": "code",
   "execution_count": null,
   "id": "ceb5d466",
   "metadata": {},
   "outputs": [],
   "source": [
    "weather_data.dtypes"
   ]
  },
  {
   "cell_type": "code",
   "execution_count": null,
   "id": "74c31a13",
   "metadata": {},
   "outputs": [],
   "source": [
    "station1 = weather_data[weather_data['Station'] == 1]\n",
    "station1.reset_index(drop=True, inplace=True)\n",
    "station2 = weather_data[weather_data['Station'] == 2]\n",
    "station2.reset_index(drop=True, inplace=True)\n",
    "station1.head()\n"
   ]
  },
  {
   "cell_type": "markdown",
   "id": "79703147",
   "metadata": {},
   "source": [
    "### 3.? Shift Values<a id='3.6_Shift_Values'></a>"
   ]
  },
  {
   "cell_type": "markdown",
   "id": "b9430fa1",
   "metadata": {},
   "source": [
    "Use shift function to create lag variables\n",
    "\n",
    "Incubation Length Sources:\n",
    "* https://www.cdc.gov/dengue/resources/factsheets/mosquitolifecyclefinal.pdf\n",
    "\n",
    "Key Takeaways:\n",
    "* The entire life cycle, from an egg to an adult, takes approximately 8-10 days\n",
    "* Eggs are ready to hatch from a few days to several months after being laid.\n",
    "\n",
    "Research to be done:\n",
    "* Specific data for specific species"
   ]
  },
  {
   "cell_type": "markdown",
   "id": "d03c4232",
   "metadata": {},
   "source": [
    "## 4. Map Data <a id='4._Map Data'></a>"
   ]
  },
  {
   "cell_type": "markdown",
   "id": "3803d0a9",
   "metadata": {},
   "source": [
    "### 4.1 Loading <a id='4.1_Loading'></a>"
   ]
  },
  {
   "cell_type": "code",
   "execution_count": null,
   "id": "8ab0bad9",
   "metadata": {},
   "outputs": [],
   "source": [
    "map_data = pyreadr.read_r('data/mapdata_copyright_openstreetmap_contributors.Rds')"
   ]
  },
  {
   "cell_type": "markdown",
   "id": "c6c2f2f7",
   "metadata": {},
   "source": [
    "### 4.2 Exploring <a id='4.2_Exploring'></a>"
   ]
  },
  {
   "cell_type": "code",
   "execution_count": null,
   "id": "e613fcb2",
   "metadata": {},
   "outputs": [],
   "source": [
    "map_data"
   ]
  },
  {
   "cell_type": "markdown",
   "id": "7da674ab",
   "metadata": {},
   "source": [
    "### 4.3 Missing Data <a id='4.3_Missing_Data'></a>"
   ]
  },
  {
   "cell_type": "code",
   "execution_count": null,
   "id": "dde6d139",
   "metadata": {},
   "outputs": [],
   "source": []
  }
 ],
 "metadata": {
  "kernelspec": {
   "display_name": "Python 3",
   "language": "python",
   "name": "python3"
  },
  "language_info": {
   "codemirror_mode": {
    "name": "ipython",
    "version": 3
   },
   "file_extension": ".py",
   "mimetype": "text/x-python",
   "name": "python",
   "nbconvert_exporter": "python",
   "pygments_lexer": "ipython3",
   "version": "3.7.10"
  }
 },
 "nbformat": 4,
 "nbformat_minor": 5
}
