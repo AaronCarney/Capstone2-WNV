{
 "cells": [
  {
   "cell_type": "markdown",
   "id": "f1492927",
   "metadata": {},
   "source": [
    "## 1. Data Modeling"
   ]
  },
  {
   "cell_type": "markdown",
   "id": "8ccac1d2",
   "metadata": {},
   "source": [
    "### 1.1 Table of Contents"
   ]
  },
  {
   "cell_type": "markdown",
   "id": "cee5c1d3",
   "metadata": {},
   "source": [
    "### 1.2 Imports <a id='1.2_Imports'></a>"
   ]
  },
  {
   "cell_type": "code",
   "execution_count": 20,
   "id": "079fc0ad",
   "metadata": {},
   "outputs": [],
   "source": [
    "from sklearn.preprocessing import StandardScaler\n",
    "from sklearn.linear_model import LogisticRegression\n",
    "from sklearn.ensemble import RandomForestClassifier\n",
    "from sklearn.ensemble import GradientBoostingClassifier\n",
    "from sklearn.ensemble import AdaBoostClassifier\n",
    "from sklearn.ensemble import ExtraTreesClassifier\n",
    "from sklearn.tree import DecisionTreeClassifier\n",
    "from sklearn.svm import SVC"
   ]
  },
  {
   "cell_type": "code",
   "execution_count": 15,
   "id": "c752f602",
   "metadata": {},
   "outputs": [],
   "source": [
    "%store -r X_train\n",
    "%store -r X_test"
   ]
  },
  {
   "cell_type": "code",
   "execution_count": 16,
   "id": "02b095b7",
   "metadata": {},
   "outputs": [
    {
     "name": "stdout",
     "output_type": "stream",
     "text": [
      "<class 'pandas.core.frame.DataFrame'>\n",
      "Int64Index: 4799 entries, 15984 to 5771\n",
      "Data columns (total 36 columns):\n",
      " #   Column                  Non-Null Count  Dtype  \n",
      "---  ------                  --------------  -----  \n",
      " 0   NumMosquitos            4799 non-null   int64  \n",
      " 1   Cool                    4799 non-null   float64\n",
      " 2   Heat                    4799 non-null   float64\n",
      " 3   PrecipTotal             4799 non-null   float64\n",
      " 4   ResultDir               4799 non-null   float64\n",
      " 5   low_vis                 4799 non-null   float64\n",
      " 6   rain                    4799 non-null   float64\n",
      " 7   Cool_d7                 4799 non-null   float64\n",
      " 8   Heat_d7                 4799 non-null   float64\n",
      " 9   PrecipTotal_d7          4799 non-null   float64\n",
      " 10  ResultDir_d7            4799 non-null   float64\n",
      " 11  low_vis_d7              4799 non-null   float64\n",
      " 12  rain_d7                 4799 non-null   float64\n",
      " 13  Cool_d14                4799 non-null   float64\n",
      " 14  Heat_d14                4799 non-null   float64\n",
      " 15  PrecipTotal_d14         4799 non-null   float64\n",
      " 16  ResultDir_d14           4799 non-null   float64\n",
      " 17  low_vis_d14             4799 non-null   float64\n",
      " 18  rain_d14                4799 non-null   float64\n",
      " 19  Species_CULEX PIPIENS   4799 non-null   uint8  \n",
      " 20  Species_CULEX RESTUANS  4799 non-null   uint8  \n",
      " 21  Week_25                 4799 non-null   uint8  \n",
      " 22  Week_26                 4799 non-null   uint8  \n",
      " 23  Week_27                 4799 non-null   uint8  \n",
      " 24  Week_28                 4799 non-null   uint8  \n",
      " 25  Week_29                 4799 non-null   uint8  \n",
      " 26  Week_30                 4799 non-null   uint8  \n",
      " 27  Week_31                 4799 non-null   uint8  \n",
      " 28  Week_32                 4799 non-null   uint8  \n",
      " 29  Week_33                 4799 non-null   uint8  \n",
      " 30  Week_35                 4799 non-null   uint8  \n",
      " 31  Week_36                 4799 non-null   uint8  \n",
      " 32  Week_37                 4799 non-null   uint8  \n",
      " 33  Week_38                 4799 non-null   uint8  \n",
      " 34  Week_39                 4799 non-null   uint8  \n",
      " 35  Week_40                 4799 non-null   uint8  \n",
      "dtypes: float64(18), int64(1), uint8(17)\n",
      "memory usage: 829.5 KB\n"
     ]
    }
   ],
   "source": [
    "X_test=X_test[X_train.columns]\n",
    "X_test.info()"
   ]
  },
  {
   "cell_type": "markdown",
   "id": "9f1f331f",
   "metadata": {},
   "source": [
    "### 1.3 Model Prep"
   ]
  },
  {
   "cell_type": "code",
   "execution_count": 17,
   "id": "484a4648",
   "metadata": {},
   "outputs": [
    {
     "ename": "NameError",
     "evalue": "name 'SVC' is not defined",
     "output_type": "error",
     "traceback": [
      "\u001b[1;31m---------------------------------------------------------------------------\u001b[0m",
      "\u001b[1;31mNameError\u001b[0m                                 Traceback (most recent call last)",
      "\u001b[1;32m~\\AppData\\Local\\Temp/ipykernel_6708/3214075595.py\u001b[0m in \u001b[0;36m<module>\u001b[1;34m\u001b[0m\n\u001b[0;32m      6\u001b[0m           \u001b[1;34m'et'\u001b[0m\u001b[1;33m:\u001b[0m \u001b[0mExtraTreesClassifier\u001b[0m\u001b[1;33m(\u001b[0m\u001b[0mrandom_state\u001b[0m\u001b[1;33m=\u001b[0m\u001b[1;36m42\u001b[0m\u001b[1;33m)\u001b[0m\u001b[1;33m,\u001b[0m\u001b[1;33m\u001b[0m\u001b[1;33m\u001b[0m\u001b[0m\n\u001b[0;32m      7\u001b[0m           \u001b[1;34m'ada'\u001b[0m\u001b[1;33m:\u001b[0m \u001b[0mAdaBoostClassifier\u001b[0m\u001b[1;33m(\u001b[0m\u001b[0mrandom_state\u001b[0m\u001b[1;33m=\u001b[0m\u001b[1;36m42\u001b[0m\u001b[1;33m)\u001b[0m\u001b[1;33m,\u001b[0m\u001b[1;33m\u001b[0m\u001b[1;33m\u001b[0m\u001b[0m\n\u001b[1;32m----> 8\u001b[1;33m           \u001b[1;34m'svc'\u001b[0m\u001b[1;33m:\u001b[0m \u001b[0mSVC\u001b[0m\u001b[1;33m(\u001b[0m\u001b[0mrandom_state\u001b[0m\u001b[1;33m=\u001b[0m\u001b[1;36m42\u001b[0m\u001b[1;33m,\u001b[0m \u001b[0mprobability\u001b[0m\u001b[1;33m=\u001b[0m\u001b[1;32mTrue\u001b[0m\u001b[1;33m)\u001b[0m\u001b[1;33m,\u001b[0m\u001b[1;33m\u001b[0m\u001b[1;33m\u001b[0m\u001b[0m\n\u001b[0m\u001b[0;32m      9\u001b[0m         }\n",
      "\u001b[1;31mNameError\u001b[0m: name 'SVC' is not defined"
     ]
    }
   ],
   "source": [
    "# Instiantiate models\n",
    "models = {'lr': LogisticRegression(max_iter=5_000, random_state=42, solver='saga'),\n",
    "          'rf': RandomForestClassifier(random_state=42),\n",
    "          'gb': GradientBoostingClassifier(random_state=42),\n",
    "          'dt': DecisionTreeClassifier(random_state=42),\n",
    "          'et': ExtraTreesClassifier(random_state=42),\n",
    "          'ada': AdaBoostClassifier(random_state=42),\n",
    "          'svc': SVC(random_state=42, probability=True),\n",
    "        }"
   ]
  },
  {
   "cell_type": "code",
   "execution_count": 1,
   "id": "9a0ff57f",
   "metadata": {},
   "outputs": [],
   "source": [
    "# Instantiate lists to store results\n",
    "init_list = []\n",
    "gs_list = []\n",
    "\n",
    "# Function to run model -- input scaler and model\n",
    "def run_model(mod, mod_params={}, grid_search=False):\n",
    "    \n",
    "    # Initial dictionary to hold model results\n",
    "    results = {}\n",
    "    \n",
    "    pipe = Pipeline([\n",
    "            ('ss', StandardScaler()),\n",
    "            (mod, models[mod])\n",
    "            ])\n",
    "    \n",
    "    if grid_search:\n",
    "        # Instantiate list to store gridsearch results\n",
    "        gs = GridSearchCV(pipe, param_grid=mod_params, cv=3, verbose=1, scoring='roc_auc', n_jobs=-1)\n",
    "        gs.fit(X_train, y_train)\n",
    "        pipe = gs\n",
    "        \n",
    "    else:\n",
    "        pipe.fit(X_train, y_train)\n",
    "    \n",
    "    # Retrieve metrics\n",
    "    predictions = pipe.predict(X_test)\n",
    "    tn, fp, fn, tp = confusion_matrix(y_test, predictions).ravel()\n",
    "    y_test_pred_prob = pipe.predict_proba(X_test)[:,1]\n",
    "    y_train_pred_prob = pipe.predict_proba(X_train)[:,1]\n",
    "    \n",
    "    results['model'] = mod\n",
    "    results['train_auc'] = roc_auc_score(y_train, y_train_pred_prob)\n",
    "    results['test_auc'] = roc_auc_score(y_test, y_test_pred_prob)\n",
    "    results['precision'] = precision_score(y_test, predictions)\n",
    "    results['specificity'] = tn / (tn + fp)\n",
    "    results['recall'] = recall_score(y_test, predictions)\n",
    "    results['f_score'] = f1_score(y_test, predictions)\n",
    "    \n",
    "    if grid_search:\n",
    "        gs_list.append(results)\n",
    "        print('### BEST PARAMS ###')\n",
    "        display(pipe.best_params_)\n",
    "        \n",
    "    else:\n",
    "        init_list.append(results)\n",
    "    \n",
    "    print('### METRICS ###')\n",
    "    display(results)\n",
    "    \n",
    "    print(f\"True Negatives: {tn}\")\n",
    "    print(f\"False Positives: {fp}\")\n",
    "    print(f\"False Negatives: {fn}\")\n",
    "    print(f\"True Positives: {tp}\")\n",
    "    \n",
    "    return pipe"
   ]
  },
  {
   "cell_type": "code",
   "execution_count": null,
   "id": "1decc4cb",
   "metadata": {},
   "outputs": [],
   "source": []
  }
 ],
 "metadata": {
  "kernelspec": {
   "display_name": "Python 3 (ipykernel)",
   "language": "python",
   "name": "python3"
  },
  "language_info": {
   "codemirror_mode": {
    "name": "ipython",
    "version": 3
   },
   "file_extension": ".py",
   "mimetype": "text/x-python",
   "name": "python",
   "nbconvert_exporter": "python",
   "pygments_lexer": "ipython3",
   "version": "3.7.11"
  }
 },
 "nbformat": 4,
 "nbformat_minor": 5
}
