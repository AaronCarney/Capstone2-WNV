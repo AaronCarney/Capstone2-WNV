{
 "cells": [
  {
   "cell_type": "markdown",
   "id": "5511f045",
   "metadata": {},
   "source": [
    "# 1. Data Wrangling - West Nile Virus<a id='1_Data Wrangling'></a>"
   ]
  },
  {
   "cell_type": "markdown",
   "id": "cc24e82f",
   "metadata": {},
   "source": [
    "## 1.1 Table of Contents <a id='1.1_Table_of_Contents'></a>\n",
    "* [1 Data wrangling - West Nile Virus](#1_Data_wrangling)\n",
    "     * [1.1 Table of Contents](#1.1_Table_of_Contents)\n",
    "     * [1.2 Recap Of Data Science Problem](#1.2_Recap_Of_Data_Science_Problem)\n",
    "     * [1.3 Imports](#1.3_Imports)\n",
    "     * [1.4 Objects](#1.4_Objects)\n",
    "* [2. Spray Data](#2_Spray_Data)\n",
    "     * [2.1 Loading](#2.1_Loading)\n",
    "     * [2.2 Exploring ](#2.2_Exploring)\n",
    "* [3. Weather Data](#2_3_Weather_Data)\n",
    "     * [3.1 Loading](#3.1_Loading)\n",
    "     * [3.2 Exploring](#3.2_Exploring)\n",
    "     * [3.3 Missing Data](#3.3_Missing_Data)\n",
    "          * [3.3.1 Tempature](#3.3.1_Tempature)\n",
    "     * [3.4 ](#3.2_)"
   ]
  },
  {
   "cell_type": "markdown",
   "id": "2fa042d7",
   "metadata": {},
   "source": [
    "## 1.2 Recap Of Data Science Problem <a id='1.2_Recap_Of_Data_Science_Problem'></a>"
   ]
  },
  {
   "cell_type": "markdown",
   "id": "8658ae4c",
   "metadata": {},
   "source": [
    "## 1.3 Imports <a id='1.3_Imports'></a>"
   ]
  },
  {
   "cell_type": "code",
   "execution_count": 1,
   "id": "74121e69",
   "metadata": {},
   "outputs": [],
   "source": [
    "import pandas as pd\n",
    "import matplotlib.pyplot as plt\n",
    "import seaborn as sns"
   ]
  },
  {
   "cell_type": "markdown",
   "id": "22d471f1",
   "metadata": {},
   "source": [
    "### 1.4 Objects <a id='1.4_Objects'></a>"
   ]
  },
  {
   "cell_type": "markdown",
   "id": "1e2420c7",
   "metadata": {},
   "source": [
    "## 2. Spray Data <a id='2_Spray_Data'></a>"
   ]
  },
  {
   "cell_type": "markdown",
   "id": "7f85d9e2",
   "metadata": {},
   "source": [
    "### 2.1 Loading <a id='2.1_Loading'></a>"
   ]
  },
  {
   "cell_type": "code",
   "execution_count": 2,
   "id": "32f1f76a",
   "metadata": {},
   "outputs": [],
   "source": [
    "spray_data = pd.read_csv('data/spray.csv')"
   ]
  },
  {
   "cell_type": "markdown",
   "id": "c5d8c3db",
   "metadata": {},
   "source": [
    "### 2.2 Exploring <a id='2.2_Exploring'></a>"
   ]
  },
  {
   "cell_type": "code",
   "execution_count": 3,
   "id": "78737062",
   "metadata": {},
   "outputs": [
    {
     "data": {
      "text/html": [
       "<div>\n",
       "<style scoped>\n",
       "    .dataframe tbody tr th:only-of-type {\n",
       "        vertical-align: middle;\n",
       "    }\n",
       "\n",
       "    .dataframe tbody tr th {\n",
       "        vertical-align: top;\n",
       "    }\n",
       "\n",
       "    .dataframe thead th {\n",
       "        text-align: right;\n",
       "    }\n",
       "</style>\n",
       "<table border=\"1\" class=\"dataframe\">\n",
       "  <thead>\n",
       "    <tr style=\"text-align: right;\">\n",
       "      <th></th>\n",
       "      <th>Date</th>\n",
       "      <th>Time</th>\n",
       "      <th>Latitude</th>\n",
       "      <th>Longitude</th>\n",
       "    </tr>\n",
       "  </thead>\n",
       "  <tbody>\n",
       "    <tr>\n",
       "      <th>0</th>\n",
       "      <td>2011-08-29</td>\n",
       "      <td>6:56:58 PM</td>\n",
       "      <td>42.391623</td>\n",
       "      <td>-88.089163</td>\n",
       "    </tr>\n",
       "    <tr>\n",
       "      <th>1</th>\n",
       "      <td>2011-08-29</td>\n",
       "      <td>6:57:08 PM</td>\n",
       "      <td>42.391348</td>\n",
       "      <td>-88.089163</td>\n",
       "    </tr>\n",
       "    <tr>\n",
       "      <th>2</th>\n",
       "      <td>2011-08-29</td>\n",
       "      <td>6:57:18 PM</td>\n",
       "      <td>42.391022</td>\n",
       "      <td>-88.089157</td>\n",
       "    </tr>\n",
       "    <tr>\n",
       "      <th>3</th>\n",
       "      <td>2011-08-29</td>\n",
       "      <td>6:57:28 PM</td>\n",
       "      <td>42.390637</td>\n",
       "      <td>-88.089158</td>\n",
       "    </tr>\n",
       "    <tr>\n",
       "      <th>4</th>\n",
       "      <td>2011-08-29</td>\n",
       "      <td>6:57:38 PM</td>\n",
       "      <td>42.390410</td>\n",
       "      <td>-88.088858</td>\n",
       "    </tr>\n",
       "  </tbody>\n",
       "</table>\n",
       "</div>"
      ],
      "text/plain": [
       "         Date        Time   Latitude  Longitude\n",
       "0  2011-08-29  6:56:58 PM  42.391623 -88.089163\n",
       "1  2011-08-29  6:57:08 PM  42.391348 -88.089163\n",
       "2  2011-08-29  6:57:18 PM  42.391022 -88.089157\n",
       "3  2011-08-29  6:57:28 PM  42.390637 -88.089158\n",
       "4  2011-08-29  6:57:38 PM  42.390410 -88.088858"
      ]
     },
     "execution_count": 3,
     "metadata": {},
     "output_type": "execute_result"
    }
   ],
   "source": [
    "spray_data.head()"
   ]
  },
  {
   "cell_type": "code",
   "execution_count": 4,
   "id": "c4c356a4",
   "metadata": {},
   "outputs": [
    {
     "data": {
      "text/plain": [
       "Date          object\n",
       "Time          object\n",
       "Latitude     float64\n",
       "Longitude    float64\n",
       "dtype: object"
      ]
     },
     "execution_count": 4,
     "metadata": {},
     "output_type": "execute_result"
    }
   ],
   "source": [
    "spray_data.dtypes"
   ]
  },
  {
   "cell_type": "code",
   "execution_count": 33,
   "id": "0833376a",
   "metadata": {},
   "outputs": [
    {
     "data": {
      "text/html": [
       "<div>\n",
       "<style scoped>\n",
       "    .dataframe tbody tr th:only-of-type {\n",
       "        vertical-align: middle;\n",
       "    }\n",
       "\n",
       "    .dataframe tbody tr th {\n",
       "        vertical-align: top;\n",
       "    }\n",
       "\n",
       "    .dataframe thead th {\n",
       "        text-align: right;\n",
       "    }\n",
       "</style>\n",
       "<table border=\"1\" class=\"dataframe\">\n",
       "  <thead>\n",
       "    <tr style=\"text-align: right;\">\n",
       "      <th></th>\n",
       "      <th>count</th>\n",
       "      <th>%</th>\n",
       "    </tr>\n",
       "  </thead>\n",
       "  <tbody>\n",
       "    <tr>\n",
       "      <th>Time</th>\n",
       "      <td>584</td>\n",
       "      <td>3.936636</td>\n",
       "    </tr>\n",
       "    <tr>\n",
       "      <th>Date</th>\n",
       "      <td>0</td>\n",
       "      <td>0.000000</td>\n",
       "    </tr>\n",
       "    <tr>\n",
       "      <th>Latitude</th>\n",
       "      <td>0</td>\n",
       "      <td>0.000000</td>\n",
       "    </tr>\n",
       "    <tr>\n",
       "      <th>Longitude</th>\n",
       "      <td>0</td>\n",
       "      <td>0.000000</td>\n",
       "    </tr>\n",
       "  </tbody>\n",
       "</table>\n",
       "</div>"
      ],
      "text/plain": [
       "           count         %\n",
       "Time         584  3.936636\n",
       "Date           0  0.000000\n",
       "Latitude       0  0.000000\n",
       "Longitude      0  0.000000"
      ]
     },
     "execution_count": 33,
     "metadata": {},
     "output_type": "execute_result"
    }
   ],
   "source": [
    "missing = pd.concat([spray_data.isnull().sum(), 100 * spray_data.isnull().mean()], axis=1)\n",
    "missing.columns=['count', '%']\n",
    "\n",
    "missing.sort_values(by='count',  ascending=False)"
   ]
  },
  {
   "cell_type": "code",
   "execution_count": 35,
   "id": "b869fd62",
   "metadata": {},
   "outputs": [
    {
     "data": {
      "text/html": [
       "<div>\n",
       "<style scoped>\n",
       "    .dataframe tbody tr th:only-of-type {\n",
       "        vertical-align: middle;\n",
       "    }\n",
       "\n",
       "    .dataframe tbody tr th {\n",
       "        vertical-align: top;\n",
       "    }\n",
       "\n",
       "    .dataframe thead th {\n",
       "        text-align: right;\n",
       "    }\n",
       "</style>\n",
       "<table border=\"1\" class=\"dataframe\">\n",
       "  <thead>\n",
       "    <tr style=\"text-align: right;\">\n",
       "      <th></th>\n",
       "      <th>Date</th>\n",
       "      <th>Time</th>\n",
       "      <th>Latitude</th>\n",
       "      <th>Longitude</th>\n",
       "    </tr>\n",
       "  </thead>\n",
       "  <tbody>\n",
       "    <tr>\n",
       "      <th>1030</th>\n",
       "      <td>2011-09-07</td>\n",
       "      <td>NaN</td>\n",
       "      <td>41.987092</td>\n",
       "      <td>-87.794286</td>\n",
       "    </tr>\n",
       "    <tr>\n",
       "      <th>1031</th>\n",
       "      <td>2011-09-07</td>\n",
       "      <td>NaN</td>\n",
       "      <td>41.987620</td>\n",
       "      <td>-87.794382</td>\n",
       "    </tr>\n",
       "    <tr>\n",
       "      <th>1032</th>\n",
       "      <td>2011-09-07</td>\n",
       "      <td>NaN</td>\n",
       "      <td>41.988004</td>\n",
       "      <td>-87.794574</td>\n",
       "    </tr>\n",
       "    <tr>\n",
       "      <th>1033</th>\n",
       "      <td>2011-09-07</td>\n",
       "      <td>NaN</td>\n",
       "      <td>41.988292</td>\n",
       "      <td>-87.795486</td>\n",
       "    </tr>\n",
       "    <tr>\n",
       "      <th>1034</th>\n",
       "      <td>2011-09-07</td>\n",
       "      <td>NaN</td>\n",
       "      <td>41.988100</td>\n",
       "      <td>-87.796014</td>\n",
       "    </tr>\n",
       "  </tbody>\n",
       "</table>\n",
       "</div>"
      ],
      "text/plain": [
       "            Date Time   Latitude  Longitude\n",
       "1030  2011-09-07  NaN  41.987092 -87.794286\n",
       "1031  2011-09-07  NaN  41.987620 -87.794382\n",
       "1032  2011-09-07  NaN  41.988004 -87.794574\n",
       "1033  2011-09-07  NaN  41.988292 -87.795486\n",
       "1034  2011-09-07  NaN  41.988100 -87.796014"
      ]
     },
     "execution_count": 35,
     "metadata": {},
     "output_type": "execute_result"
    }
   ],
   "source": [
    "null_data = spray_data[spray_data.isnull().any(axis=1)]\n",
    "null_data.head()"
   ]
  },
  {
   "cell_type": "code",
   "execution_count": 37,
   "id": "14d5bb51",
   "metadata": {},
   "outputs": [
    {
     "data": {
      "text/plain": [
       "array(['2011-09-07'], dtype=object)"
      ]
     },
     "execution_count": 37,
     "metadata": {},
     "output_type": "execute_result"
    }
   ],
   "source": [
    "null_data.Date.unique()"
   ]
  },
  {
   "cell_type": "markdown",
   "id": "b97d20f2",
   "metadata": {},
   "source": [
    "## 3. Weather Data <a id='3_Weather_Data'></a>"
   ]
  },
  {
   "cell_type": "markdown",
   "id": "ba7a80fc",
   "metadata": {},
   "source": [
    "### 3.1 Loading <a id='3.1_Loading'></a>"
   ]
  },
  {
   "cell_type": "code",
   "execution_count": 5,
   "id": "acfa96a2",
   "metadata": {},
   "outputs": [],
   "source": [
    "weather_data = pd.read_csv('data/weather.csv')"
   ]
  },
  {
   "cell_type": "code",
   "execution_count": 6,
   "id": "a175170d",
   "metadata": {},
   "outputs": [
    {
     "data": {
      "text/html": [
       "<div>\n",
       "<style scoped>\n",
       "    .dataframe tbody tr th:only-of-type {\n",
       "        vertical-align: middle;\n",
       "    }\n",
       "\n",
       "    .dataframe tbody tr th {\n",
       "        vertical-align: top;\n",
       "    }\n",
       "\n",
       "    .dataframe thead th {\n",
       "        text-align: right;\n",
       "    }\n",
       "</style>\n",
       "<table border=\"1\" class=\"dataframe\">\n",
       "  <thead>\n",
       "    <tr style=\"text-align: right;\">\n",
       "      <th></th>\n",
       "      <th>Station</th>\n",
       "      <th>Date</th>\n",
       "      <th>Tmax</th>\n",
       "      <th>Tmin</th>\n",
       "      <th>Tavg</th>\n",
       "      <th>Depart</th>\n",
       "      <th>DewPoint</th>\n",
       "      <th>WetBulb</th>\n",
       "      <th>Heat</th>\n",
       "      <th>Cool</th>\n",
       "      <th>...</th>\n",
       "      <th>CodeSum</th>\n",
       "      <th>Depth</th>\n",
       "      <th>Water1</th>\n",
       "      <th>SnowFall</th>\n",
       "      <th>PrecipTotal</th>\n",
       "      <th>StnPressure</th>\n",
       "      <th>SeaLevel</th>\n",
       "      <th>ResultSpeed</th>\n",
       "      <th>ResultDir</th>\n",
       "      <th>AvgSpeed</th>\n",
       "    </tr>\n",
       "  </thead>\n",
       "  <tbody>\n",
       "    <tr>\n",
       "      <th>0</th>\n",
       "      <td>1</td>\n",
       "      <td>2007-05-01</td>\n",
       "      <td>83</td>\n",
       "      <td>50</td>\n",
       "      <td>67</td>\n",
       "      <td>14</td>\n",
       "      <td>51</td>\n",
       "      <td>56</td>\n",
       "      <td>0</td>\n",
       "      <td>2</td>\n",
       "      <td>...</td>\n",
       "      <td></td>\n",
       "      <td>0</td>\n",
       "      <td>M</td>\n",
       "      <td>0.0</td>\n",
       "      <td>0.00</td>\n",
       "      <td>29.10</td>\n",
       "      <td>29.82</td>\n",
       "      <td>1.7</td>\n",
       "      <td>27</td>\n",
       "      <td>9.2</td>\n",
       "    </tr>\n",
       "    <tr>\n",
       "      <th>1</th>\n",
       "      <td>2</td>\n",
       "      <td>2007-05-01</td>\n",
       "      <td>84</td>\n",
       "      <td>52</td>\n",
       "      <td>68</td>\n",
       "      <td>M</td>\n",
       "      <td>51</td>\n",
       "      <td>57</td>\n",
       "      <td>0</td>\n",
       "      <td>3</td>\n",
       "      <td>...</td>\n",
       "      <td></td>\n",
       "      <td>M</td>\n",
       "      <td>M</td>\n",
       "      <td>M</td>\n",
       "      <td>0.00</td>\n",
       "      <td>29.18</td>\n",
       "      <td>29.82</td>\n",
       "      <td>2.7</td>\n",
       "      <td>25</td>\n",
       "      <td>9.6</td>\n",
       "    </tr>\n",
       "    <tr>\n",
       "      <th>2</th>\n",
       "      <td>1</td>\n",
       "      <td>2007-05-02</td>\n",
       "      <td>59</td>\n",
       "      <td>42</td>\n",
       "      <td>51</td>\n",
       "      <td>-3</td>\n",
       "      <td>42</td>\n",
       "      <td>47</td>\n",
       "      <td>14</td>\n",
       "      <td>0</td>\n",
       "      <td>...</td>\n",
       "      <td>BR</td>\n",
       "      <td>0</td>\n",
       "      <td>M</td>\n",
       "      <td>0.0</td>\n",
       "      <td>0.00</td>\n",
       "      <td>29.38</td>\n",
       "      <td>30.09</td>\n",
       "      <td>13.0</td>\n",
       "      <td>4</td>\n",
       "      <td>13.4</td>\n",
       "    </tr>\n",
       "    <tr>\n",
       "      <th>3</th>\n",
       "      <td>2</td>\n",
       "      <td>2007-05-02</td>\n",
       "      <td>60</td>\n",
       "      <td>43</td>\n",
       "      <td>52</td>\n",
       "      <td>M</td>\n",
       "      <td>42</td>\n",
       "      <td>47</td>\n",
       "      <td>13</td>\n",
       "      <td>0</td>\n",
       "      <td>...</td>\n",
       "      <td>BR HZ</td>\n",
       "      <td>M</td>\n",
       "      <td>M</td>\n",
       "      <td>M</td>\n",
       "      <td>0.00</td>\n",
       "      <td>29.44</td>\n",
       "      <td>30.08</td>\n",
       "      <td>13.3</td>\n",
       "      <td>2</td>\n",
       "      <td>13.4</td>\n",
       "    </tr>\n",
       "    <tr>\n",
       "      <th>4</th>\n",
       "      <td>1</td>\n",
       "      <td>2007-05-03</td>\n",
       "      <td>66</td>\n",
       "      <td>46</td>\n",
       "      <td>56</td>\n",
       "      <td>2</td>\n",
       "      <td>40</td>\n",
       "      <td>48</td>\n",
       "      <td>9</td>\n",
       "      <td>0</td>\n",
       "      <td>...</td>\n",
       "      <td></td>\n",
       "      <td>0</td>\n",
       "      <td>M</td>\n",
       "      <td>0.0</td>\n",
       "      <td>0.00</td>\n",
       "      <td>29.39</td>\n",
       "      <td>30.12</td>\n",
       "      <td>11.7</td>\n",
       "      <td>7</td>\n",
       "      <td>11.9</td>\n",
       "    </tr>\n",
       "    <tr>\n",
       "      <th>5</th>\n",
       "      <td>2</td>\n",
       "      <td>2007-05-03</td>\n",
       "      <td>67</td>\n",
       "      <td>48</td>\n",
       "      <td>58</td>\n",
       "      <td>M</td>\n",
       "      <td>40</td>\n",
       "      <td>50</td>\n",
       "      <td>7</td>\n",
       "      <td>0</td>\n",
       "      <td>...</td>\n",
       "      <td>HZ</td>\n",
       "      <td>M</td>\n",
       "      <td>M</td>\n",
       "      <td>M</td>\n",
       "      <td>0.00</td>\n",
       "      <td>29.46</td>\n",
       "      <td>30.12</td>\n",
       "      <td>12.9</td>\n",
       "      <td>6</td>\n",
       "      <td>13.2</td>\n",
       "    </tr>\n",
       "    <tr>\n",
       "      <th>6</th>\n",
       "      <td>1</td>\n",
       "      <td>2007-05-04</td>\n",
       "      <td>66</td>\n",
       "      <td>49</td>\n",
       "      <td>58</td>\n",
       "      <td>4</td>\n",
       "      <td>41</td>\n",
       "      <td>50</td>\n",
       "      <td>7</td>\n",
       "      <td>0</td>\n",
       "      <td>...</td>\n",
       "      <td>RA</td>\n",
       "      <td>0</td>\n",
       "      <td>M</td>\n",
       "      <td>0.0</td>\n",
       "      <td>T</td>\n",
       "      <td>29.31</td>\n",
       "      <td>30.05</td>\n",
       "      <td>10.4</td>\n",
       "      <td>8</td>\n",
       "      <td>10.8</td>\n",
       "    </tr>\n",
       "    <tr>\n",
       "      <th>7</th>\n",
       "      <td>2</td>\n",
       "      <td>2007-05-04</td>\n",
       "      <td>78</td>\n",
       "      <td>51</td>\n",
       "      <td>M</td>\n",
       "      <td>M</td>\n",
       "      <td>42</td>\n",
       "      <td>50</td>\n",
       "      <td>M</td>\n",
       "      <td>M</td>\n",
       "      <td>...</td>\n",
       "      <td></td>\n",
       "      <td>M</td>\n",
       "      <td>M</td>\n",
       "      <td>M</td>\n",
       "      <td>0.00</td>\n",
       "      <td>29.36</td>\n",
       "      <td>30.04</td>\n",
       "      <td>10.1</td>\n",
       "      <td>7</td>\n",
       "      <td>10.4</td>\n",
       "    </tr>\n",
       "    <tr>\n",
       "      <th>8</th>\n",
       "      <td>1</td>\n",
       "      <td>2007-05-05</td>\n",
       "      <td>66</td>\n",
       "      <td>53</td>\n",
       "      <td>60</td>\n",
       "      <td>5</td>\n",
       "      <td>38</td>\n",
       "      <td>49</td>\n",
       "      <td>5</td>\n",
       "      <td>0</td>\n",
       "      <td>...</td>\n",
       "      <td></td>\n",
       "      <td>0</td>\n",
       "      <td>M</td>\n",
       "      <td>0.0</td>\n",
       "      <td>T</td>\n",
       "      <td>29.40</td>\n",
       "      <td>30.10</td>\n",
       "      <td>11.7</td>\n",
       "      <td>7</td>\n",
       "      <td>12.0</td>\n",
       "    </tr>\n",
       "    <tr>\n",
       "      <th>9</th>\n",
       "      <td>2</td>\n",
       "      <td>2007-05-05</td>\n",
       "      <td>66</td>\n",
       "      <td>54</td>\n",
       "      <td>60</td>\n",
       "      <td>M</td>\n",
       "      <td>39</td>\n",
       "      <td>50</td>\n",
       "      <td>5</td>\n",
       "      <td>0</td>\n",
       "      <td>...</td>\n",
       "      <td></td>\n",
       "      <td>M</td>\n",
       "      <td>M</td>\n",
       "      <td>M</td>\n",
       "      <td>T</td>\n",
       "      <td>29.46</td>\n",
       "      <td>30.09</td>\n",
       "      <td>11.2</td>\n",
       "      <td>7</td>\n",
       "      <td>11.5</td>\n",
       "    </tr>\n",
       "    <tr>\n",
       "      <th>10</th>\n",
       "      <td>1</td>\n",
       "      <td>2007-05-06</td>\n",
       "      <td>68</td>\n",
       "      <td>49</td>\n",
       "      <td>59</td>\n",
       "      <td>4</td>\n",
       "      <td>30</td>\n",
       "      <td>46</td>\n",
       "      <td>6</td>\n",
       "      <td>0</td>\n",
       "      <td>...</td>\n",
       "      <td></td>\n",
       "      <td>0</td>\n",
       "      <td>M</td>\n",
       "      <td>0.0</td>\n",
       "      <td>0.00</td>\n",
       "      <td>29.57</td>\n",
       "      <td>30.29</td>\n",
       "      <td>14.4</td>\n",
       "      <td>11</td>\n",
       "      <td>15.0</td>\n",
       "    </tr>\n",
       "    <tr>\n",
       "      <th>11</th>\n",
       "      <td>2</td>\n",
       "      <td>2007-05-06</td>\n",
       "      <td>68</td>\n",
       "      <td>52</td>\n",
       "      <td>60</td>\n",
       "      <td>M</td>\n",
       "      <td>30</td>\n",
       "      <td>46</td>\n",
       "      <td>5</td>\n",
       "      <td>0</td>\n",
       "      <td>...</td>\n",
       "      <td></td>\n",
       "      <td>M</td>\n",
       "      <td>M</td>\n",
       "      <td>M</td>\n",
       "      <td>0.00</td>\n",
       "      <td>29.62</td>\n",
       "      <td>30.28</td>\n",
       "      <td>13.8</td>\n",
       "      <td>10</td>\n",
       "      <td>14.5</td>\n",
       "    </tr>\n",
       "  </tbody>\n",
       "</table>\n",
       "<p>12 rows × 22 columns</p>\n",
       "</div>"
      ],
      "text/plain": [
       "    Station        Date  Tmax  Tmin Tavg Depart  DewPoint WetBulb Heat Cool  \\\n",
       "0         1  2007-05-01    83    50   67     14        51      56    0    2   \n",
       "1         2  2007-05-01    84    52   68      M        51      57    0    3   \n",
       "2         1  2007-05-02    59    42   51     -3        42      47   14    0   \n",
       "3         2  2007-05-02    60    43   52      M        42      47   13    0   \n",
       "4         1  2007-05-03    66    46   56      2        40      48    9    0   \n",
       "5         2  2007-05-03    67    48   58      M        40      50    7    0   \n",
       "6         1  2007-05-04    66    49   58      4        41      50    7    0   \n",
       "7         2  2007-05-04    78    51    M      M        42      50    M    M   \n",
       "8         1  2007-05-05    66    53   60      5        38      49    5    0   \n",
       "9         2  2007-05-05    66    54   60      M        39      50    5    0   \n",
       "10        1  2007-05-06    68    49   59      4        30      46    6    0   \n",
       "11        2  2007-05-06    68    52   60      M        30      46    5    0   \n",
       "\n",
       "    ... CodeSum Depth Water1 SnowFall PrecipTotal StnPressure SeaLevel  \\\n",
       "0   ...             0      M      0.0        0.00       29.10    29.82   \n",
       "1   ...             M      M        M        0.00       29.18    29.82   \n",
       "2   ...      BR     0      M      0.0        0.00       29.38    30.09   \n",
       "3   ...   BR HZ     M      M        M        0.00       29.44    30.08   \n",
       "4   ...             0      M      0.0        0.00       29.39    30.12   \n",
       "5   ...      HZ     M      M        M        0.00       29.46    30.12   \n",
       "6   ...      RA     0      M      0.0           T       29.31    30.05   \n",
       "7   ...             M      M        M        0.00       29.36    30.04   \n",
       "8   ...             0      M      0.0           T       29.40    30.10   \n",
       "9   ...             M      M        M           T       29.46    30.09   \n",
       "10  ...             0      M      0.0        0.00       29.57    30.29   \n",
       "11  ...             M      M        M        0.00       29.62    30.28   \n",
       "\n",
       "   ResultSpeed ResultDir  AvgSpeed  \n",
       "0          1.7        27       9.2  \n",
       "1          2.7        25       9.6  \n",
       "2         13.0         4      13.4  \n",
       "3         13.3         2      13.4  \n",
       "4         11.7         7      11.9  \n",
       "5         12.9         6      13.2  \n",
       "6         10.4         8      10.8  \n",
       "7         10.1         7      10.4  \n",
       "8         11.7         7      12.0  \n",
       "9         11.2         7      11.5  \n",
       "10        14.4        11      15.0  \n",
       "11        13.8        10      14.5  \n",
       "\n",
       "[12 rows x 22 columns]"
      ]
     },
     "execution_count": 6,
     "metadata": {},
     "output_type": "execute_result"
    }
   ],
   "source": [
    "weather_data.head(12)"
   ]
  },
  {
   "cell_type": "markdown",
   "id": "e8dc796a",
   "metadata": {},
   "source": [
    "### 3.2 Exploring <a id='3.2_Exploring'></a>"
   ]
  },
  {
   "cell_type": "code",
   "execution_count": 7,
   "id": "147459ee",
   "metadata": {},
   "outputs": [
    {
     "data": {
      "text/plain": [
       "Station          int64\n",
       "Date            object\n",
       "Tmax             int64\n",
       "Tmin             int64\n",
       "Tavg            object\n",
       "Depart          object\n",
       "DewPoint         int64\n",
       "WetBulb         object\n",
       "Heat            object\n",
       "Cool            object\n",
       "Sunrise         object\n",
       "Sunset          object\n",
       "CodeSum         object\n",
       "Depth           object\n",
       "Water1          object\n",
       "SnowFall        object\n",
       "PrecipTotal     object\n",
       "StnPressure     object\n",
       "SeaLevel        object\n",
       "ResultSpeed    float64\n",
       "ResultDir        int64\n",
       "AvgSpeed        object\n",
       "dtype: object"
      ]
     },
     "execution_count": 7,
     "metadata": {},
     "output_type": "execute_result"
    }
   ],
   "source": [
    "weather_data.dtypes"
   ]
  },
  {
   "cell_type": "code",
   "execution_count": 8,
   "id": "48fd8662",
   "metadata": {},
   "outputs": [
    {
     "data": {
      "text/plain": [
       "(2944, 22)"
      ]
     },
     "execution_count": 8,
     "metadata": {},
     "output_type": "execute_result"
    }
   ],
   "source": [
    "weather_data.shape"
   ]
  },
  {
   "cell_type": "markdown",
   "id": "4348adc6",
   "metadata": {},
   "source": [
    "### 3.3 Missing Data <a id='3.3_Missing Data'></a>"
   ]
  },
  {
   "cell_type": "code",
   "execution_count": 34,
   "id": "affd0105",
   "metadata": {},
   "outputs": [
    {
     "data": {
      "text/html": [
       "<div>\n",
       "<style scoped>\n",
       "    .dataframe tbody tr th:only-of-type {\n",
       "        vertical-align: middle;\n",
       "    }\n",
       "\n",
       "    .dataframe tbody tr th {\n",
       "        vertical-align: top;\n",
       "    }\n",
       "\n",
       "    .dataframe thead th {\n",
       "        text-align: right;\n",
       "    }\n",
       "</style>\n",
       "<table border=\"1\" class=\"dataframe\">\n",
       "  <thead>\n",
       "    <tr style=\"text-align: right;\">\n",
       "      <th></th>\n",
       "      <th>count</th>\n",
       "      <th>%</th>\n",
       "    </tr>\n",
       "  </thead>\n",
       "  <tbody>\n",
       "    <tr>\n",
       "      <th>Station</th>\n",
       "      <td>0</td>\n",
       "      <td>0.0</td>\n",
       "    </tr>\n",
       "    <tr>\n",
       "      <th>Date</th>\n",
       "      <td>0</td>\n",
       "      <td>0.0</td>\n",
       "    </tr>\n",
       "    <tr>\n",
       "      <th>ResultDir</th>\n",
       "      <td>0</td>\n",
       "      <td>0.0</td>\n",
       "    </tr>\n",
       "    <tr>\n",
       "      <th>ResultSpeed</th>\n",
       "      <td>0</td>\n",
       "      <td>0.0</td>\n",
       "    </tr>\n",
       "    <tr>\n",
       "      <th>SeaLevel</th>\n",
       "      <td>0</td>\n",
       "      <td>0.0</td>\n",
       "    </tr>\n",
       "    <tr>\n",
       "      <th>StnPressure</th>\n",
       "      <td>0</td>\n",
       "      <td>0.0</td>\n",
       "    </tr>\n",
       "    <tr>\n",
       "      <th>PrecipTotal</th>\n",
       "      <td>0</td>\n",
       "      <td>0.0</td>\n",
       "    </tr>\n",
       "    <tr>\n",
       "      <th>SnowFall</th>\n",
       "      <td>0</td>\n",
       "      <td>0.0</td>\n",
       "    </tr>\n",
       "    <tr>\n",
       "      <th>Water1</th>\n",
       "      <td>0</td>\n",
       "      <td>0.0</td>\n",
       "    </tr>\n",
       "    <tr>\n",
       "      <th>Depth</th>\n",
       "      <td>0</td>\n",
       "      <td>0.0</td>\n",
       "    </tr>\n",
       "    <tr>\n",
       "      <th>CodeSum</th>\n",
       "      <td>0</td>\n",
       "      <td>0.0</td>\n",
       "    </tr>\n",
       "    <tr>\n",
       "      <th>Sunset</th>\n",
       "      <td>0</td>\n",
       "      <td>0.0</td>\n",
       "    </tr>\n",
       "    <tr>\n",
       "      <th>Sunrise</th>\n",
       "      <td>0</td>\n",
       "      <td>0.0</td>\n",
       "    </tr>\n",
       "    <tr>\n",
       "      <th>Cool</th>\n",
       "      <td>0</td>\n",
       "      <td>0.0</td>\n",
       "    </tr>\n",
       "    <tr>\n",
       "      <th>Heat</th>\n",
       "      <td>0</td>\n",
       "      <td>0.0</td>\n",
       "    </tr>\n",
       "    <tr>\n",
       "      <th>WetBulb</th>\n",
       "      <td>0</td>\n",
       "      <td>0.0</td>\n",
       "    </tr>\n",
       "    <tr>\n",
       "      <th>DewPoint</th>\n",
       "      <td>0</td>\n",
       "      <td>0.0</td>\n",
       "    </tr>\n",
       "    <tr>\n",
       "      <th>Depart</th>\n",
       "      <td>0</td>\n",
       "      <td>0.0</td>\n",
       "    </tr>\n",
       "    <tr>\n",
       "      <th>Tavg</th>\n",
       "      <td>0</td>\n",
       "      <td>0.0</td>\n",
       "    </tr>\n",
       "    <tr>\n",
       "      <th>Tmin</th>\n",
       "      <td>0</td>\n",
       "      <td>0.0</td>\n",
       "    </tr>\n",
       "    <tr>\n",
       "      <th>Tmax</th>\n",
       "      <td>0</td>\n",
       "      <td>0.0</td>\n",
       "    </tr>\n",
       "    <tr>\n",
       "      <th>AvgSpeed</th>\n",
       "      <td>0</td>\n",
       "      <td>0.0</td>\n",
       "    </tr>\n",
       "  </tbody>\n",
       "</table>\n",
       "</div>"
      ],
      "text/plain": [
       "             count    %\n",
       "Station          0  0.0\n",
       "Date             0  0.0\n",
       "ResultDir        0  0.0\n",
       "ResultSpeed      0  0.0\n",
       "SeaLevel         0  0.0\n",
       "StnPressure      0  0.0\n",
       "PrecipTotal      0  0.0\n",
       "SnowFall         0  0.0\n",
       "Water1           0  0.0\n",
       "Depth            0  0.0\n",
       "CodeSum          0  0.0\n",
       "Sunset           0  0.0\n",
       "Sunrise          0  0.0\n",
       "Cool             0  0.0\n",
       "Heat             0  0.0\n",
       "WetBulb          0  0.0\n",
       "DewPoint         0  0.0\n",
       "Depart           0  0.0\n",
       "Tavg             0  0.0\n",
       "Tmin             0  0.0\n",
       "Tmax             0  0.0\n",
       "AvgSpeed         0  0.0"
      ]
     },
     "execution_count": 34,
     "metadata": {},
     "output_type": "execute_result"
    }
   ],
   "source": [
    "missing = pd.concat([weather_data.isnull().sum(), 100 * weather_data.isnull().mean()], axis=1)\n",
    "missing.columns=['count', '%']\n",
    "\n",
    "missing.sort_values(by='count',  ascending=False)"
   ]
  },
  {
   "cell_type": "markdown",
   "id": "2808f018",
   "metadata": {},
   "source": [
    "#### 3.3.1 Tempature <a id='3.3.1_Tempature'></a>"
   ]
  },
  {
   "cell_type": "code",
   "execution_count": 9,
   "id": "cc73af4e",
   "metadata": {},
   "outputs": [
    {
     "data": {
      "text/plain": [
       "array(['67', '68', '51', '52', '56', '58', 'M', '60', '59', '65', '70',\n",
       "       '69', '71', '61', '55', '57', '73', '72', '53', '62', '63', '74',\n",
       "       '75', '78', '76', '77', '66', '80', '64', '81', '82', '79', '85',\n",
       "       '84', '83', '50', '49', '46', '48', '45', '54', '47', '44', '40',\n",
       "       '41', '38', '39', '42', '37', '43', '86', '87', '89', '92', '88',\n",
       "       '91', '93', '94', '90', '36'], dtype=object)"
      ]
     },
     "execution_count": 9,
     "metadata": {},
     "output_type": "execute_result"
    }
   ],
   "source": [
    "weather_data.Tavg.unique()"
   ]
  },
  {
   "cell_type": "markdown",
   "id": "c454f2da",
   "metadata": {},
   "source": [
    "According to the NOA documentation M stands for missing data, after preliminary investigation there is missing data everywhere so first we shall try and replace where we can."
   ]
  },
  {
   "cell_type": "code",
   "execution_count": 28,
   "id": "6c8cbf38",
   "metadata": {},
   "outputs": [],
   "source": [
    "weather_data['Tavg'] = (weather_data.Tmax + weather_data.Tmin)/2"
   ]
  },
  {
   "cell_type": "markdown",
   "id": "3afbbc9f",
   "metadata": {},
   "source": [
    "Apparantly I need to review how .mean() interacts with everything, everytime I use it, it does the mean of the whole col"
   ]
  },
  {
   "cell_type": "code",
   "execution_count": 30,
   "id": "f2042de4",
   "metadata": {},
   "outputs": [
    {
     "data": {
      "text/plain": [
       "0    66.5\n",
       "1    68.0\n",
       "2    50.5\n",
       "3    51.5\n",
       "4    56.0\n",
       "5    57.5\n",
       "6    57.5\n",
       "7    64.5\n",
       "Name: Tavg, dtype: float64"
      ]
     },
     "execution_count": 30,
     "metadata": {},
     "output_type": "execute_result"
    }
   ],
   "source": [
    "weather_data.Tavg.head(8)"
   ]
  },
  {
   "cell_type": "code",
   "execution_count": 31,
   "id": "e5e02dd6",
   "metadata": {},
   "outputs": [
    {
     "data": {
      "text/plain": [
       "array([66.5, 68. , 50.5, 51.5, 56. , 57.5, 64.5, 59.5, 60. , 58.5, 65. ,\n",
       "       67. , 70. , 69. , 69.5, 71. , 60.5, 61. , 55. , 56.5, 73. , 72. ,\n",
       "       68.5, 54.5, 52.5, 62. , 62.5, 73.5, 74.5, 77.5, 75.5, 77. , 63. ,\n",
       "       61.5, 57. , 66. , 74. , 76.5, 79.5, 71.5, 70.5, 64. , 55.5, 81. ,\n",
       "       81.5, 65.5, 75. , 72.5, 78.5, 78. , 80. , 80.5, 79. , 82. , 63.5,\n",
       "       67.5, 76. , 84.5, 84. , 82.5, 50. , 52. , 48.5, 51. , 49.5, 59. ,\n",
       "       49. , 46. , 48. , 45. , 53.5, 54. , 53. , 47. , 58. , 46.5, 43.5,\n",
       "       40. , 40.5, 38. , 38.5, 41.5, 42. , 83.5, 83. , 45.5, 39.5, 36.5,\n",
       "       37. , 44.5, 42.5, 43. , 44. , 47.5, 85.5, 86.5, 86. , 87. , 88.5,\n",
       "       91.5, 85. , 88. , 89. , 90.5, 91. , 92.5, 93.5, 87.5, 89.5, 41. ,\n",
       "       35.5, 36. , 39. , 37.5])"
      ]
     },
     "execution_count": 31,
     "metadata": {},
     "output_type": "execute_result"
    }
   ],
   "source": [
    "weather_data.Tavg.unique()"
   ]
  },
  {
   "cell_type": "markdown",
   "id": "49d85a62",
   "metadata": {},
   "source": [
    "### 3.3.2 Precipitation"
   ]
  },
  {
   "cell_type": "code",
   "execution_count": 17,
   "id": "fa609efa",
   "metadata": {},
   "outputs": [
    {
     "data": {
      "text/plain": [
       "array(['0.00', '  T', '0.13', '0.02', '0.38', '0.60', '0.14', '0.07',\n",
       "       '0.11', '0.09', '1.01', '0.28', '0.04', '0.08', '0.01', '0.53',\n",
       "       '0.19', '0.21', '0.32', '0.39', '0.31', '0.42', '0.27', '0.16',\n",
       "       '0.58', '0.93', '0.05', '0.34', '0.15', '0.35', 'M', '0.40',\n",
       "       '0.66', '0.30', '0.24', '0.43', '1.55', '0.92', '0.89', '0.17',\n",
       "       '0.03', '1.43', '0.97', '0.26', '1.31', '0.06', '0.46', '0.29',\n",
       "       '0.23', '0.41', '0.45', '0.83', '1.33', '0.91', '0.48', '0.37',\n",
       "       '0.88', '2.35', '1.96', '0.20', '0.25', '0.18', '0.67', '0.36',\n",
       "       '0.33', '1.28', '0.74', '0.76', '0.71', '0.95', '1.46', '0.12',\n",
       "       '0.52', '0.64', '0.22', '1.24', '0.72', '0.73', '0.65', '1.61',\n",
       "       '1.22', '0.50', '1.05', '2.43', '0.59', '2.90', '2.68', '1.23',\n",
       "       '0.62', '6.64', '3.07', '1.44', '1.75', '0.82', '0.80', '0.86',\n",
       "       '0.63', '0.55', '1.03', '0.70', '1.73', '1.38', '0.44', '1.14',\n",
       "       '1.07', '3.97', '0.87', '0.78', '1.12', '0.68', '0.10', '0.61',\n",
       "       '0.54', '1.19', '0.75', '0.84', '1.29', '0.81', '1.15', '1.49',\n",
       "       '1.57', '1.02', '1.30', '0.51', '0.85', '0.79', '0.77', '2.79',\n",
       "       '3.15', '3.64', '4.73', '1.60', '0.57', '2.24', '1.90', '1.06',\n",
       "       '1.88', '0.69', '2.17', '6.86', '0.49', '1.11', '1.21', '0.90',\n",
       "       '1.34', '0.47', '0.56', '3.66', '1.09', '1.25', '1.35', '2.20',\n",
       "       '1.48', '0.96', '1.16', '1.04', '2.03', '2.09', '1.26', '2.60',\n",
       "       '2.06', '3.31', '2.76', '1.82', '0.98', '1.58', '3.17', '1.18'],\n",
       "      dtype=object)"
      ]
     },
     "execution_count": 17,
     "metadata": {},
     "output_type": "execute_result"
    }
   ],
   "source": [
    "weather_data.PrecipTotal.unique()"
   ]
  },
  {
   "cell_type": "markdown",
   "id": "6eb570b9",
   "metadata": {},
   "source": [
    "According to the NOA records, T stands for Trace, which likely means less than 0.01. As for dealing with M, if we have the relavent data from other locations on the same datetime, take the mean for that datetime. Otherwise remove?"
   ]
  },
  {
   "cell_type": "code",
   "execution_count": null,
   "id": "8b5c51fc",
   "metadata": {},
   "outputs": [],
   "source": []
  }
 ],
 "metadata": {
  "kernelspec": {
   "display_name": "Python 3",
   "language": "python",
   "name": "python3"
  },
  "language_info": {
   "codemirror_mode": {
    "name": "ipython",
    "version": 3
   },
   "file_extension": ".py",
   "mimetype": "text/x-python",
   "name": "python",
   "nbconvert_exporter": "python",
   "pygments_lexer": "ipython3",
   "version": "3.7.10"
  }
 },
 "nbformat": 4,
 "nbformat_minor": 5
}
