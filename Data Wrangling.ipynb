{
 "cells": [
  {
   "cell_type": "markdown",
   "id": "2b20b20f",
   "metadata": {},
   "source": [
    "## 1. Data Wrangling - West Nile Virus<a id='1_Data Wrangling'></a>"
   ]
  },
  {
   "cell_type": "markdown",
   "id": "ade2c3ab",
   "metadata": {},
   "source": [
    "### 1.1 Table of Contents <a id='1.1_Table_of_Contents'></a>\n",
    "* [1 Data wrangling - West Nile Virus](#1_Data_wrangling)\n",
    "     * [1.1 Table of Contents](#1.1_Table_of_Contents)\n",
    "     * [1.2 Recap Of Data Science Problem](#1.2_Recap_Of_Data_Science_Problem)\n",
    "     * [1.3 Imports](#1.3_Imports)\n",
    "     * [1.4 Objects](#1.4_Objects)\n",
    "* [2. Spray Data](#2_Spray_Data)\n",
    "     * [2.1 Loading](#2.1_Loading)\n",
    "     * [2.2 Exploring ](#2.2_Exploring)\n",
    "     * [2.3 Missing Data](#2.3_Missing_Data)\n",
    "     * [2.4 Datetime Modification](#2.4_Datetime_Modification)\n",
    "     * [2.5 Check for Zero](#2.5_Check_for_Zero)\n",
    "     * [2.6 Check for Duplicates](#2.6_Check_for_Duplicates)\n",
    "* [3. Weather Data](#3_Weather_Data)\n",
    "     * [3.1 Loading](#3.1_Loading)\n",
    "     * [3.2 Exploring](#3.2_Exploring)\n",
    "     * [3.3 Missing Data](#3.3_Missing_Data)\n",
    "          * [3.3.1 Tempature](#3.3.1_Tempature)\n",
    "          * [3.3.2 Precipitation](#3.3.2_Precipitation)\n",
    "          * [3.3.3 Dew Point](#3.3.3_Dew_Point)\n",
    "          * [3.3.4 Wet Bulb](#3.3.4_Wet_Bulb)\n",
    "          * [3.3.5 Heat](#3.3.5_Heat)\n",
    "          * [3.3.6 Cool](#3.3.6_Cool)\n",
    "          * [3.3.7 StnPressure](#3.3.7_StnPressure)\n",
    "          * [3.3.8 Dew Point](#3.3.8_Dew_Point)\n",
    "          * [3.3.9 SeaLevel](#3.3.9_SeaLevel)\n",
    "          * [3.3.10 ResultSpeed](#3.3.10_ResultSpeed)\n",
    "          * [3.3.11 ResultDir](#3.3.11_ResultDir)\n",
    "          * [3.3.12 AvgSpeed](#3.3.12_AvgSpeed)\n",
    "          * [3.3.13 SnowFall](#3.3.13_SnowFall)\n",
    "          * [3.3.14 Sunrise](#3.3.9_Sunrise)\n",
    "          * [3.3.15 Sunset](#3.3.10_Sunset)\n",
    "          * [3.3.16 Depth](#3.3.11_Depth)\n",
    "          * [3.3.17 CodeSum](#3.3.12_CodeSum)\n",
    "          * [3.3.18 Final Check](#3.3.18_Final_Check)\n",
    "     * [3.4 Relitive Humidity](#3.4_Relitive_Humidity)\n",
    "          * [3.4.1 Convert to Celsius](#3.4.1_Convert_to_Celsius)\n",
    "          * [3.4.2 Calculate Relative Humidity](#3.4.2_Calculate_Relative_Humidity)\n",
    "     * [3.5 Stations Dates and Format](#3.5_Stations)            \n",
    "     * [3.6 Shift Values](#3.6_Shift_Values) \n",
    "          * [3.6.1 Convert to Celsius](#3.4.1_Convert_to_Celsius)\n",
    "          * [3.6.2 Calculate Relative Humidity](#3.6.2_Calculate_Relative_Humidity)\n",
    "          * [3.6.3 Convert to Celsius](#3.6.3_Convert_to_Celsius)\n",
    "          * [3.6.4 Joining](#3.6.4_Joining)"
   ]
  },
  {
   "cell_type": "markdown",
   "id": "a4230020",
   "metadata": {},
   "source": [
    "### 1.2 Recap Of Data Science Problem <a id='1.2_Recap_Of_Data_Science_Problem'></a>"
   ]
  },
  {
   "cell_type": "markdown",
   "id": "08d43141",
   "metadata": {},
   "source": [
    "### 1.3 Imports <a id='1.3_Imports'></a>"
   ]
  },
  {
   "cell_type": "code",
   "execution_count": 1,
   "id": "ecd289c6",
   "metadata": {},
   "outputs": [],
   "source": [
    "import pandas as pd\n",
    "import matplotlib.pyplot as plt\n",
    "import seaborn as sns\n",
    "import pyreadr\n",
    "import datetime\n",
    "from geopy import distance"
   ]
  },
  {
   "cell_type": "markdown",
   "id": "d355948a",
   "metadata": {},
   "source": [
    "### 1.4 Objects <a id='1.4_Objects'></a>"
   ]
  },
  {
   "cell_type": "markdown",
   "id": "137b3b35",
   "metadata": {},
   "source": [
    "## 2. Spray Data <a id='2_Spray_Data'></a>"
   ]
  },
  {
   "cell_type": "markdown",
   "id": "244c8e91",
   "metadata": {},
   "source": [
    "### 2.1 Loading <a id='2.1_Loading'></a>"
   ]
  },
  {
   "cell_type": "code",
   "execution_count": 2,
   "id": "9f0d9ecb",
   "metadata": {},
   "outputs": [],
   "source": [
    "spray_data = pd.read_csv('data/spray.csv')"
   ]
  },
  {
   "cell_type": "markdown",
   "id": "a2da59cb",
   "metadata": {},
   "source": [
    "### 2.2 Exploring <a id='2.2_Exploring'></a>"
   ]
  },
  {
   "cell_type": "code",
   "execution_count": 3,
   "id": "4f4915e2",
   "metadata": {},
   "outputs": [
    {
     "data": {
      "text/html": [
       "<div>\n",
       "<style scoped>\n",
       "    .dataframe tbody tr th:only-of-type {\n",
       "        vertical-align: middle;\n",
       "    }\n",
       "\n",
       "    .dataframe tbody tr th {\n",
       "        vertical-align: top;\n",
       "    }\n",
       "\n",
       "    .dataframe thead th {\n",
       "        text-align: right;\n",
       "    }\n",
       "</style>\n",
       "<table border=\"1\" class=\"dataframe\">\n",
       "  <thead>\n",
       "    <tr style=\"text-align: right;\">\n",
       "      <th></th>\n",
       "      <th>Date</th>\n",
       "      <th>Time</th>\n",
       "      <th>Latitude</th>\n",
       "      <th>Longitude</th>\n",
       "    </tr>\n",
       "  </thead>\n",
       "  <tbody>\n",
       "    <tr>\n",
       "      <th>0</th>\n",
       "      <td>2011-08-29</td>\n",
       "      <td>6:56:58 PM</td>\n",
       "      <td>42.391623</td>\n",
       "      <td>-88.089163</td>\n",
       "    </tr>\n",
       "    <tr>\n",
       "      <th>1</th>\n",
       "      <td>2011-08-29</td>\n",
       "      <td>6:57:08 PM</td>\n",
       "      <td>42.391348</td>\n",
       "      <td>-88.089163</td>\n",
       "    </tr>\n",
       "    <tr>\n",
       "      <th>2</th>\n",
       "      <td>2011-08-29</td>\n",
       "      <td>6:57:18 PM</td>\n",
       "      <td>42.391022</td>\n",
       "      <td>-88.089157</td>\n",
       "    </tr>\n",
       "    <tr>\n",
       "      <th>3</th>\n",
       "      <td>2011-08-29</td>\n",
       "      <td>6:57:28 PM</td>\n",
       "      <td>42.390637</td>\n",
       "      <td>-88.089158</td>\n",
       "    </tr>\n",
       "    <tr>\n",
       "      <th>4</th>\n",
       "      <td>2011-08-29</td>\n",
       "      <td>6:57:38 PM</td>\n",
       "      <td>42.390410</td>\n",
       "      <td>-88.088858</td>\n",
       "    </tr>\n",
       "  </tbody>\n",
       "</table>\n",
       "</div>"
      ],
      "text/plain": [
       "         Date        Time   Latitude  Longitude\n",
       "0  2011-08-29  6:56:58 PM  42.391623 -88.089163\n",
       "1  2011-08-29  6:57:08 PM  42.391348 -88.089163\n",
       "2  2011-08-29  6:57:18 PM  42.391022 -88.089157\n",
       "3  2011-08-29  6:57:28 PM  42.390637 -88.089158\n",
       "4  2011-08-29  6:57:38 PM  42.390410 -88.088858"
      ]
     },
     "execution_count": 3,
     "metadata": {},
     "output_type": "execute_result"
    }
   ],
   "source": [
    "spray_data.head()"
   ]
  },
  {
   "cell_type": "code",
   "execution_count": 4,
   "id": "bd4601fe",
   "metadata": {},
   "outputs": [
    {
     "data": {
      "text/plain": [
       "Date          object\n",
       "Time          object\n",
       "Latitude     float64\n",
       "Longitude    float64\n",
       "dtype: object"
      ]
     },
     "execution_count": 4,
     "metadata": {},
     "output_type": "execute_result"
    }
   ],
   "source": [
    "spray_data.dtypes"
   ]
  },
  {
   "cell_type": "code",
   "execution_count": 5,
   "id": "8930114b",
   "metadata": {},
   "outputs": [
    {
     "data": {
      "text/plain": [
       "(14835, 4)"
      ]
     },
     "execution_count": 5,
     "metadata": {},
     "output_type": "execute_result"
    }
   ],
   "source": [
    "spray_data.shape"
   ]
  },
  {
   "cell_type": "markdown",
   "id": "d5e588e8",
   "metadata": {},
   "source": [
    "### 2.3 Missing Data <a id='2.3_Missing_Data'></a>"
   ]
  },
  {
   "cell_type": "code",
   "execution_count": 6,
   "id": "be038bb5",
   "metadata": {},
   "outputs": [
    {
     "data": {
      "text/html": [
       "<div>\n",
       "<style scoped>\n",
       "    .dataframe tbody tr th:only-of-type {\n",
       "        vertical-align: middle;\n",
       "    }\n",
       "\n",
       "    .dataframe tbody tr th {\n",
       "        vertical-align: top;\n",
       "    }\n",
       "\n",
       "    .dataframe thead th {\n",
       "        text-align: right;\n",
       "    }\n",
       "</style>\n",
       "<table border=\"1\" class=\"dataframe\">\n",
       "  <thead>\n",
       "    <tr style=\"text-align: right;\">\n",
       "      <th></th>\n",
       "      <th>count</th>\n",
       "      <th>%</th>\n",
       "    </tr>\n",
       "  </thead>\n",
       "  <tbody>\n",
       "    <tr>\n",
       "      <th>Time</th>\n",
       "      <td>584</td>\n",
       "      <td>3.936636</td>\n",
       "    </tr>\n",
       "    <tr>\n",
       "      <th>Date</th>\n",
       "      <td>0</td>\n",
       "      <td>0.000000</td>\n",
       "    </tr>\n",
       "    <tr>\n",
       "      <th>Latitude</th>\n",
       "      <td>0</td>\n",
       "      <td>0.000000</td>\n",
       "    </tr>\n",
       "    <tr>\n",
       "      <th>Longitude</th>\n",
       "      <td>0</td>\n",
       "      <td>0.000000</td>\n",
       "    </tr>\n",
       "  </tbody>\n",
       "</table>\n",
       "</div>"
      ],
      "text/plain": [
       "           count         %\n",
       "Time         584  3.936636\n",
       "Date           0  0.000000\n",
       "Latitude       0  0.000000\n",
       "Longitude      0  0.000000"
      ]
     },
     "execution_count": 6,
     "metadata": {},
     "output_type": "execute_result"
    }
   ],
   "source": [
    "missing = pd.concat([spray_data.isnull().sum(), 100 * spray_data.isnull().mean()], axis=1)\n",
    "missing.columns=['count', '%']\n",
    "\n",
    "missing.sort_values(by='count',  ascending=False)"
   ]
  },
  {
   "cell_type": "code",
   "execution_count": 7,
   "id": "805e6060",
   "metadata": {},
   "outputs": [
    {
     "data": {
      "text/html": [
       "<div>\n",
       "<style scoped>\n",
       "    .dataframe tbody tr th:only-of-type {\n",
       "        vertical-align: middle;\n",
       "    }\n",
       "\n",
       "    .dataframe tbody tr th {\n",
       "        vertical-align: top;\n",
       "    }\n",
       "\n",
       "    .dataframe thead th {\n",
       "        text-align: right;\n",
       "    }\n",
       "</style>\n",
       "<table border=\"1\" class=\"dataframe\">\n",
       "  <thead>\n",
       "    <tr style=\"text-align: right;\">\n",
       "      <th></th>\n",
       "      <th>Date</th>\n",
       "      <th>Time</th>\n",
       "      <th>Latitude</th>\n",
       "      <th>Longitude</th>\n",
       "    </tr>\n",
       "  </thead>\n",
       "  <tbody>\n",
       "    <tr>\n",
       "      <th>1030</th>\n",
       "      <td>2011-09-07</td>\n",
       "      <td>NaN</td>\n",
       "      <td>41.987092</td>\n",
       "      <td>-87.794286</td>\n",
       "    </tr>\n",
       "    <tr>\n",
       "      <th>1031</th>\n",
       "      <td>2011-09-07</td>\n",
       "      <td>NaN</td>\n",
       "      <td>41.987620</td>\n",
       "      <td>-87.794382</td>\n",
       "    </tr>\n",
       "    <tr>\n",
       "      <th>1032</th>\n",
       "      <td>2011-09-07</td>\n",
       "      <td>NaN</td>\n",
       "      <td>41.988004</td>\n",
       "      <td>-87.794574</td>\n",
       "    </tr>\n",
       "    <tr>\n",
       "      <th>1033</th>\n",
       "      <td>2011-09-07</td>\n",
       "      <td>NaN</td>\n",
       "      <td>41.988292</td>\n",
       "      <td>-87.795486</td>\n",
       "    </tr>\n",
       "    <tr>\n",
       "      <th>1034</th>\n",
       "      <td>2011-09-07</td>\n",
       "      <td>NaN</td>\n",
       "      <td>41.988100</td>\n",
       "      <td>-87.796014</td>\n",
       "    </tr>\n",
       "  </tbody>\n",
       "</table>\n",
       "</div>"
      ],
      "text/plain": [
       "            Date Time   Latitude  Longitude\n",
       "1030  2011-09-07  NaN  41.987092 -87.794286\n",
       "1031  2011-09-07  NaN  41.987620 -87.794382\n",
       "1032  2011-09-07  NaN  41.988004 -87.794574\n",
       "1033  2011-09-07  NaN  41.988292 -87.795486\n",
       "1034  2011-09-07  NaN  41.988100 -87.796014"
      ]
     },
     "execution_count": 7,
     "metadata": {},
     "output_type": "execute_result"
    }
   ],
   "source": [
    "null_data = spray_data[spray_data.isnull().any(axis=1)]\n",
    "null_data.head()"
   ]
  },
  {
   "cell_type": "code",
   "execution_count": 8,
   "id": "e0a05bc7",
   "metadata": {},
   "outputs": [
    {
     "data": {
      "text/plain": [
       "array(['2011-09-07'], dtype=object)"
      ]
     },
     "execution_count": 8,
     "metadata": {},
     "output_type": "execute_result"
    }
   ],
   "source": [
    "null_data.Date.unique()"
   ]
  },
  {
   "cell_type": "markdown",
   "id": "57091dce",
   "metadata": {},
   "source": [
    "Just to double check:"
   ]
  },
  {
   "cell_type": "code",
   "execution_count": 9,
   "id": "7d897b9b",
   "metadata": {},
   "outputs": [
    {
     "data": {
      "text/plain": [
       "(584, 4)"
      ]
     },
     "execution_count": 9,
     "metadata": {},
     "output_type": "execute_result"
    }
   ],
   "source": [
    "datetimecheck = null_data[null_data['Date'] == '2011-09-07']\n",
    "datetimecheck.shape"
   ]
  },
  {
   "cell_type": "markdown",
   "id": "a8593d97",
   "metadata": {},
   "source": [
    "All missing values are on the data 2011-09-07, it is unlikely we would be able to recover or solve this issue."
   ]
  },
  {
   "cell_type": "code",
   "execution_count": 10,
   "id": "acf07a3e",
   "metadata": {},
   "outputs": [
    {
     "data": {
      "text/plain": [
       "(14251, 4)"
      ]
     },
     "execution_count": 10,
     "metadata": {},
     "output_type": "execute_result"
    }
   ],
   "source": [
    "spray_data = spray_data[spray_data['Time'].notna()]\n",
    "spray_data.shape"
   ]
  },
  {
   "cell_type": "markdown",
   "id": "2467442a",
   "metadata": {},
   "source": [
    "14835 - 14251 = 584"
   ]
  },
  {
   "cell_type": "code",
   "execution_count": 11,
   "id": "5ca454bc",
   "metadata": {},
   "outputs": [
    {
     "data": {
      "text/html": [
       "<div>\n",
       "<style scoped>\n",
       "    .dataframe tbody tr th:only-of-type {\n",
       "        vertical-align: middle;\n",
       "    }\n",
       "\n",
       "    .dataframe tbody tr th {\n",
       "        vertical-align: top;\n",
       "    }\n",
       "\n",
       "    .dataframe thead th {\n",
       "        text-align: right;\n",
       "    }\n",
       "</style>\n",
       "<table border=\"1\" class=\"dataframe\">\n",
       "  <thead>\n",
       "    <tr style=\"text-align: right;\">\n",
       "      <th></th>\n",
       "      <th>Date</th>\n",
       "      <th>Time</th>\n",
       "      <th>Latitude</th>\n",
       "      <th>Longitude</th>\n",
       "    </tr>\n",
       "  </thead>\n",
       "  <tbody>\n",
       "  </tbody>\n",
       "</table>\n",
       "</div>"
      ],
      "text/plain": [
       "Empty DataFrame\n",
       "Columns: [Date, Time, Latitude, Longitude]\n",
       "Index: []"
      ]
     },
     "execution_count": 11,
     "metadata": {},
     "output_type": "execute_result"
    }
   ],
   "source": [
    "null_data = spray_data[spray_data.isnull().any(axis=1)]\n",
    "null_data.head()"
   ]
  },
  {
   "cell_type": "markdown",
   "id": "0bd7343d",
   "metadata": {},
   "source": [
    "### 2.4 Datetime Modification <a id='2.4_Datetime Modification'></a>"
   ]
  },
  {
   "cell_type": "code",
   "execution_count": 12,
   "id": "9490f4b0",
   "metadata": {},
   "outputs": [],
   "source": [
    "spray_data['Datetime'] = pd.to_datetime(spray_data[['Date', 'Time']].astype(str).apply(' '.join, 1), infer_datetime_format=True)"
   ]
  },
  {
   "cell_type": "code",
   "execution_count": 13,
   "id": "494bae5b",
   "metadata": {},
   "outputs": [
    {
     "data": {
      "text/plain": [
       "0   2011-08-29 18:56:58\n",
       "1   2011-08-29 18:57:08\n",
       "2   2011-08-29 18:57:18\n",
       "3   2011-08-29 18:57:28\n",
       "4   2011-08-29 18:57:38\n",
       "Name: Datetime, dtype: datetime64[ns]"
      ]
     },
     "execution_count": 13,
     "metadata": {},
     "output_type": "execute_result"
    }
   ],
   "source": [
    "spray_data['Datetime'].head()"
   ]
  },
  {
   "cell_type": "code",
   "execution_count": 14,
   "id": "fcd187e4",
   "metadata": {},
   "outputs": [],
   "source": [
    "spray_data = spray_data.drop(['Date', 'Time'], axis = 1)"
   ]
  },
  {
   "cell_type": "code",
   "execution_count": 15,
   "id": "05caf7d6",
   "metadata": {},
   "outputs": [
    {
     "data": {
      "text/plain": [
       "Latitude            float64\n",
       "Longitude           float64\n",
       "Datetime     datetime64[ns]\n",
       "dtype: object"
      ]
     },
     "execution_count": 15,
     "metadata": {},
     "output_type": "execute_result"
    }
   ],
   "source": [
    "spray_data.dtypes"
   ]
  },
  {
   "cell_type": "markdown",
   "id": "36a96764",
   "metadata": {},
   "source": [
    "### 2.5 Check for Zero <a id='2.5_Check_for_Zero'></a>"
   ]
  },
  {
   "cell_type": "code",
   "execution_count": 16,
   "id": "dff96e69",
   "metadata": {
    "scrolled": true
   },
   "outputs": [
    {
     "data": {
      "text/plain": [
       "Series([], Name: Datetime, dtype: datetime64[ns])"
      ]
     },
     "execution_count": 16,
     "metadata": {},
     "output_type": "execute_result"
    }
   ],
   "source": [
    "spray_data.Datetime[spray_data['Datetime'] == 0]"
   ]
  },
  {
   "cell_type": "code",
   "execution_count": 17,
   "id": "d7177c70",
   "metadata": {},
   "outputs": [
    {
     "data": {
      "text/plain": [
       "Series([], Name: Latitude, dtype: float64)"
      ]
     },
     "execution_count": 17,
     "metadata": {},
     "output_type": "execute_result"
    }
   ],
   "source": [
    "spray_data.Latitude[spray_data['Latitude'] == 0]"
   ]
  },
  {
   "cell_type": "code",
   "execution_count": 18,
   "id": "bd30c53c",
   "metadata": {},
   "outputs": [
    {
     "data": {
      "text/plain": [
       "Series([], Name: Longitude, dtype: float64)"
      ]
     },
     "execution_count": 18,
     "metadata": {},
     "output_type": "execute_result"
    }
   ],
   "source": [
    "spray_data.Longitude[spray_data['Longitude'] == 0]"
   ]
  },
  {
   "cell_type": "markdown",
   "id": "2c9f9fee",
   "metadata": {},
   "source": [
    "### 2.6 Check for Duplicates<a id='2.6_Check_for_Duplicates'></a>"
   ]
  },
  {
   "cell_type": "code",
   "execution_count": 19,
   "id": "1cdba17e",
   "metadata": {},
   "outputs": [
    {
     "data": {
      "text/html": [
       "<div>\n",
       "<style scoped>\n",
       "    .dataframe tbody tr th:only-of-type {\n",
       "        vertical-align: middle;\n",
       "    }\n",
       "\n",
       "    .dataframe tbody tr th {\n",
       "        vertical-align: top;\n",
       "    }\n",
       "\n",
       "    .dataframe thead th {\n",
       "        text-align: right;\n",
       "    }\n",
       "</style>\n",
       "<table border=\"1\" class=\"dataframe\">\n",
       "  <thead>\n",
       "    <tr style=\"text-align: right;\">\n",
       "      <th></th>\n",
       "      <th>Latitude</th>\n",
       "      <th>Longitude</th>\n",
       "      <th>Datetime</th>\n",
       "    </tr>\n",
       "  </thead>\n",
       "  <tbody>\n",
       "    <tr>\n",
       "      <th>485</th>\n",
       "      <td>41.983917</td>\n",
       "      <td>-87.793088</td>\n",
       "      <td>2011-09-07 19:43:40</td>\n",
       "    </tr>\n",
       "    <tr>\n",
       "      <th>490</th>\n",
       "      <td>41.986460</td>\n",
       "      <td>-87.794225</td>\n",
       "      <td>2011-09-07 19:44:32</td>\n",
       "    </tr>\n",
       "    <tr>\n",
       "      <th>491</th>\n",
       "      <td>41.986460</td>\n",
       "      <td>-87.794225</td>\n",
       "      <td>2011-09-07 19:44:32</td>\n",
       "    </tr>\n",
       "    <tr>\n",
       "      <th>492</th>\n",
       "      <td>41.986460</td>\n",
       "      <td>-87.794225</td>\n",
       "      <td>2011-09-07 19:44:32</td>\n",
       "    </tr>\n",
       "    <tr>\n",
       "      <th>493</th>\n",
       "      <td>41.986460</td>\n",
       "      <td>-87.794225</td>\n",
       "      <td>2011-09-07 19:44:32</td>\n",
       "    </tr>\n",
       "    <tr>\n",
       "      <th>...</th>\n",
       "      <td>...</td>\n",
       "      <td>...</td>\n",
       "      <td>...</td>\n",
       "    </tr>\n",
       "    <tr>\n",
       "      <th>1025</th>\n",
       "      <td>41.986460</td>\n",
       "      <td>-87.794225</td>\n",
       "      <td>2011-09-07 19:44:32</td>\n",
       "    </tr>\n",
       "    <tr>\n",
       "      <th>1026</th>\n",
       "      <td>41.986460</td>\n",
       "      <td>-87.794225</td>\n",
       "      <td>2011-09-07 19:44:32</td>\n",
       "    </tr>\n",
       "    <tr>\n",
       "      <th>1027</th>\n",
       "      <td>41.986460</td>\n",
       "      <td>-87.794225</td>\n",
       "      <td>2011-09-07 19:44:32</td>\n",
       "    </tr>\n",
       "    <tr>\n",
       "      <th>1028</th>\n",
       "      <td>41.986460</td>\n",
       "      <td>-87.794225</td>\n",
       "      <td>2011-09-07 19:44:32</td>\n",
       "    </tr>\n",
       "    <tr>\n",
       "      <th>1029</th>\n",
       "      <td>41.986460</td>\n",
       "      <td>-87.794225</td>\n",
       "      <td>2011-09-07 19:44:32</td>\n",
       "    </tr>\n",
       "  </tbody>\n",
       "</table>\n",
       "<p>541 rows × 3 columns</p>\n",
       "</div>"
      ],
      "text/plain": [
       "       Latitude  Longitude            Datetime\n",
       "485   41.983917 -87.793088 2011-09-07 19:43:40\n",
       "490   41.986460 -87.794225 2011-09-07 19:44:32\n",
       "491   41.986460 -87.794225 2011-09-07 19:44:32\n",
       "492   41.986460 -87.794225 2011-09-07 19:44:32\n",
       "493   41.986460 -87.794225 2011-09-07 19:44:32\n",
       "...         ...        ...                 ...\n",
       "1025  41.986460 -87.794225 2011-09-07 19:44:32\n",
       "1026  41.986460 -87.794225 2011-09-07 19:44:32\n",
       "1027  41.986460 -87.794225 2011-09-07 19:44:32\n",
       "1028  41.986460 -87.794225 2011-09-07 19:44:32\n",
       "1029  41.986460 -87.794225 2011-09-07 19:44:32\n",
       "\n",
       "[541 rows x 3 columns]"
      ]
     },
     "execution_count": 19,
     "metadata": {},
     "output_type": "execute_result"
    }
   ],
   "source": [
    "duplicates = spray_data.duplicated()\n",
    "spray_data[duplicates]"
   ]
  },
  {
   "cell_type": "code",
   "execution_count": 20,
   "id": "34d2221e",
   "metadata": {},
   "outputs": [
    {
     "data": {
      "text/plain": [
       "<bound method DataFrame.info of         Latitude  Longitude            Datetime\n",
       "0      42.391623 -88.089163 2011-08-29 18:56:58\n",
       "1      42.391348 -88.089163 2011-08-29 18:57:08\n",
       "2      42.391022 -88.089157 2011-08-29 18:57:18\n",
       "3      42.390637 -88.089158 2011-08-29 18:57:28\n",
       "4      42.390410 -88.088858 2011-08-29 18:57:38\n",
       "...          ...        ...                 ...\n",
       "14830  42.006587 -87.812355 2013-09-05 20:34:11\n",
       "14831  42.006192 -87.816015 2013-09-05 20:35:01\n",
       "14832  42.006022 -87.817392 2013-09-05 20:35:21\n",
       "14833  42.005453 -87.817423 2013-09-05 20:35:31\n",
       "14834  42.004805 -87.817460 2013-09-05 20:35:41\n",
       "\n",
       "[13710 rows x 3 columns]>"
      ]
     },
     "execution_count": 20,
     "metadata": {},
     "output_type": "execute_result"
    }
   ],
   "source": [
    "spray_data.drop_duplicates(inplace = True, keep = 'first')\n",
    "spray_data.info"
   ]
  },
  {
   "cell_type": "code",
   "execution_count": 21,
   "id": "3c8d320d",
   "metadata": {},
   "outputs": [],
   "source": [
    "spray = spray_data.set_index(pd.to_datetime(spray_data['Datetime']))\n",
    "\n",
    "# Add Week and Year cols\n",
    "spray['Week'] = (spray['Datetime'].dt.strftime('%W')).astype(int)\n",
    "spray['Year'] = (spray['Datetime'].dt.strftime('%Y')).astype(int)\n",
    "\n",
    "# remove Datetime col\n",
    "spray = spray.drop(['Datetime'], axis = 1)"
   ]
  },
  {
   "cell_type": "code",
   "execution_count": 22,
   "id": "fca6082d",
   "metadata": {},
   "outputs": [
    {
     "name": "stdout",
     "output_type": "stream",
     "text": [
      "Stored 'spray' (DataFrame)\n"
     ]
    }
   ],
   "source": [
    "%store spray"
   ]
  },
  {
   "cell_type": "markdown",
   "id": "7b40cce0",
   "metadata": {},
   "source": [
    "## 3. Weather Data <a id='3_Weather_Data'></a>"
   ]
  },
  {
   "cell_type": "markdown",
   "id": "41831930",
   "metadata": {},
   "source": [
    "### 3.1 Loading <a id='3.1_Loading'></a>"
   ]
  },
  {
   "cell_type": "code",
   "execution_count": 23,
   "id": "4ebcd238",
   "metadata": {},
   "outputs": [],
   "source": [
    "weather_data = pd.read_csv('data/weather.csv', na_values=['M', '-'])"
   ]
  },
  {
   "cell_type": "markdown",
   "id": "b10e44a4",
   "metadata": {},
   "source": [
    "Thats not weird having two spaces before the T? But lets not remove Trace amounts out yet, We may want to infer values or make them a legit 0."
   ]
  },
  {
   "cell_type": "markdown",
   "id": "572a1cd1",
   "metadata": {},
   "source": [
    "### 3.2 Exploring <a id='3.2_Exploring'></a>"
   ]
  },
  {
   "cell_type": "code",
   "execution_count": 24,
   "id": "6c5d8db3",
   "metadata": {},
   "outputs": [
    {
     "data": {
      "text/html": [
       "<div>\n",
       "<style scoped>\n",
       "    .dataframe tbody tr th:only-of-type {\n",
       "        vertical-align: middle;\n",
       "    }\n",
       "\n",
       "    .dataframe tbody tr th {\n",
       "        vertical-align: top;\n",
       "    }\n",
       "\n",
       "    .dataframe thead th {\n",
       "        text-align: right;\n",
       "    }\n",
       "</style>\n",
       "<table border=\"1\" class=\"dataframe\">\n",
       "  <thead>\n",
       "    <tr style=\"text-align: right;\">\n",
       "      <th></th>\n",
       "      <th>Station</th>\n",
       "      <th>Date</th>\n",
       "      <th>Tmax</th>\n",
       "      <th>Tmin</th>\n",
       "      <th>Tavg</th>\n",
       "      <th>Depart</th>\n",
       "      <th>DewPoint</th>\n",
       "      <th>WetBulb</th>\n",
       "      <th>Heat</th>\n",
       "      <th>Cool</th>\n",
       "      <th>...</th>\n",
       "      <th>CodeSum</th>\n",
       "      <th>Depth</th>\n",
       "      <th>Water1</th>\n",
       "      <th>SnowFall</th>\n",
       "      <th>PrecipTotal</th>\n",
       "      <th>StnPressure</th>\n",
       "      <th>SeaLevel</th>\n",
       "      <th>ResultSpeed</th>\n",
       "      <th>ResultDir</th>\n",
       "      <th>AvgSpeed</th>\n",
       "    </tr>\n",
       "  </thead>\n",
       "  <tbody>\n",
       "    <tr>\n",
       "      <th>0</th>\n",
       "      <td>1</td>\n",
       "      <td>2007-05-01</td>\n",
       "      <td>83</td>\n",
       "      <td>50</td>\n",
       "      <td>67.0</td>\n",
       "      <td>14.0</td>\n",
       "      <td>51</td>\n",
       "      <td>56.0</td>\n",
       "      <td>0.0</td>\n",
       "      <td>2.0</td>\n",
       "      <td>...</td>\n",
       "      <td></td>\n",
       "      <td>0.0</td>\n",
       "      <td>NaN</td>\n",
       "      <td>0.0</td>\n",
       "      <td>0.00</td>\n",
       "      <td>29.10</td>\n",
       "      <td>29.82</td>\n",
       "      <td>1.7</td>\n",
       "      <td>27</td>\n",
       "      <td>9.2</td>\n",
       "    </tr>\n",
       "    <tr>\n",
       "      <th>1</th>\n",
       "      <td>2</td>\n",
       "      <td>2007-05-01</td>\n",
       "      <td>84</td>\n",
       "      <td>52</td>\n",
       "      <td>68.0</td>\n",
       "      <td>NaN</td>\n",
       "      <td>51</td>\n",
       "      <td>57.0</td>\n",
       "      <td>0.0</td>\n",
       "      <td>3.0</td>\n",
       "      <td>...</td>\n",
       "      <td></td>\n",
       "      <td>NaN</td>\n",
       "      <td>NaN</td>\n",
       "      <td>NaN</td>\n",
       "      <td>0.00</td>\n",
       "      <td>29.18</td>\n",
       "      <td>29.82</td>\n",
       "      <td>2.7</td>\n",
       "      <td>25</td>\n",
       "      <td>9.6</td>\n",
       "    </tr>\n",
       "    <tr>\n",
       "      <th>2</th>\n",
       "      <td>1</td>\n",
       "      <td>2007-05-02</td>\n",
       "      <td>59</td>\n",
       "      <td>42</td>\n",
       "      <td>51.0</td>\n",
       "      <td>-3.0</td>\n",
       "      <td>42</td>\n",
       "      <td>47.0</td>\n",
       "      <td>14.0</td>\n",
       "      <td>0.0</td>\n",
       "      <td>...</td>\n",
       "      <td>BR</td>\n",
       "      <td>0.0</td>\n",
       "      <td>NaN</td>\n",
       "      <td>0.0</td>\n",
       "      <td>0.00</td>\n",
       "      <td>29.38</td>\n",
       "      <td>30.09</td>\n",
       "      <td>13.0</td>\n",
       "      <td>4</td>\n",
       "      <td>13.4</td>\n",
       "    </tr>\n",
       "    <tr>\n",
       "      <th>3</th>\n",
       "      <td>2</td>\n",
       "      <td>2007-05-02</td>\n",
       "      <td>60</td>\n",
       "      <td>43</td>\n",
       "      <td>52.0</td>\n",
       "      <td>NaN</td>\n",
       "      <td>42</td>\n",
       "      <td>47.0</td>\n",
       "      <td>13.0</td>\n",
       "      <td>0.0</td>\n",
       "      <td>...</td>\n",
       "      <td>BR HZ</td>\n",
       "      <td>NaN</td>\n",
       "      <td>NaN</td>\n",
       "      <td>NaN</td>\n",
       "      <td>0.00</td>\n",
       "      <td>29.44</td>\n",
       "      <td>30.08</td>\n",
       "      <td>13.3</td>\n",
       "      <td>2</td>\n",
       "      <td>13.4</td>\n",
       "    </tr>\n",
       "    <tr>\n",
       "      <th>4</th>\n",
       "      <td>1</td>\n",
       "      <td>2007-05-03</td>\n",
       "      <td>66</td>\n",
       "      <td>46</td>\n",
       "      <td>56.0</td>\n",
       "      <td>2.0</td>\n",
       "      <td>40</td>\n",
       "      <td>48.0</td>\n",
       "      <td>9.0</td>\n",
       "      <td>0.0</td>\n",
       "      <td>...</td>\n",
       "      <td></td>\n",
       "      <td>0.0</td>\n",
       "      <td>NaN</td>\n",
       "      <td>0.0</td>\n",
       "      <td>0.00</td>\n",
       "      <td>29.39</td>\n",
       "      <td>30.12</td>\n",
       "      <td>11.7</td>\n",
       "      <td>7</td>\n",
       "      <td>11.9</td>\n",
       "    </tr>\n",
       "    <tr>\n",
       "      <th>5</th>\n",
       "      <td>2</td>\n",
       "      <td>2007-05-03</td>\n",
       "      <td>67</td>\n",
       "      <td>48</td>\n",
       "      <td>58.0</td>\n",
       "      <td>NaN</td>\n",
       "      <td>40</td>\n",
       "      <td>50.0</td>\n",
       "      <td>7.0</td>\n",
       "      <td>0.0</td>\n",
       "      <td>...</td>\n",
       "      <td>HZ</td>\n",
       "      <td>NaN</td>\n",
       "      <td>NaN</td>\n",
       "      <td>NaN</td>\n",
       "      <td>0.00</td>\n",
       "      <td>29.46</td>\n",
       "      <td>30.12</td>\n",
       "      <td>12.9</td>\n",
       "      <td>6</td>\n",
       "      <td>13.2</td>\n",
       "    </tr>\n",
       "    <tr>\n",
       "      <th>6</th>\n",
       "      <td>1</td>\n",
       "      <td>2007-05-04</td>\n",
       "      <td>66</td>\n",
       "      <td>49</td>\n",
       "      <td>58.0</td>\n",
       "      <td>4.0</td>\n",
       "      <td>41</td>\n",
       "      <td>50.0</td>\n",
       "      <td>7.0</td>\n",
       "      <td>0.0</td>\n",
       "      <td>...</td>\n",
       "      <td>RA</td>\n",
       "      <td>0.0</td>\n",
       "      <td>NaN</td>\n",
       "      <td>0.0</td>\n",
       "      <td>T</td>\n",
       "      <td>29.31</td>\n",
       "      <td>30.05</td>\n",
       "      <td>10.4</td>\n",
       "      <td>8</td>\n",
       "      <td>10.8</td>\n",
       "    </tr>\n",
       "    <tr>\n",
       "      <th>7</th>\n",
       "      <td>2</td>\n",
       "      <td>2007-05-04</td>\n",
       "      <td>78</td>\n",
       "      <td>51</td>\n",
       "      <td>NaN</td>\n",
       "      <td>NaN</td>\n",
       "      <td>42</td>\n",
       "      <td>50.0</td>\n",
       "      <td>NaN</td>\n",
       "      <td>NaN</td>\n",
       "      <td>...</td>\n",
       "      <td></td>\n",
       "      <td>NaN</td>\n",
       "      <td>NaN</td>\n",
       "      <td>NaN</td>\n",
       "      <td>0.00</td>\n",
       "      <td>29.36</td>\n",
       "      <td>30.04</td>\n",
       "      <td>10.1</td>\n",
       "      <td>7</td>\n",
       "      <td>10.4</td>\n",
       "    </tr>\n",
       "  </tbody>\n",
       "</table>\n",
       "<p>8 rows × 22 columns</p>\n",
       "</div>"
      ],
      "text/plain": [
       "   Station        Date  Tmax  Tmin  Tavg  Depart  DewPoint  WetBulb  Heat  \\\n",
       "0        1  2007-05-01    83    50  67.0    14.0        51     56.0   0.0   \n",
       "1        2  2007-05-01    84    52  68.0     NaN        51     57.0   0.0   \n",
       "2        1  2007-05-02    59    42  51.0    -3.0        42     47.0  14.0   \n",
       "3        2  2007-05-02    60    43  52.0     NaN        42     47.0  13.0   \n",
       "4        1  2007-05-03    66    46  56.0     2.0        40     48.0   9.0   \n",
       "5        2  2007-05-03    67    48  58.0     NaN        40     50.0   7.0   \n",
       "6        1  2007-05-04    66    49  58.0     4.0        41     50.0   7.0   \n",
       "7        2  2007-05-04    78    51   NaN     NaN        42     50.0   NaN   \n",
       "\n",
       "   Cool  ...  CodeSum  Depth Water1  SnowFall  PrecipTotal StnPressure  \\\n",
       "0   2.0  ...             0.0    NaN       0.0         0.00       29.10   \n",
       "1   3.0  ...             NaN    NaN       NaN         0.00       29.18   \n",
       "2   0.0  ...       BR    0.0    NaN       0.0         0.00       29.38   \n",
       "3   0.0  ...    BR HZ    NaN    NaN       NaN         0.00       29.44   \n",
       "4   0.0  ...             0.0    NaN       0.0         0.00       29.39   \n",
       "5   0.0  ...       HZ    NaN    NaN       NaN         0.00       29.46   \n",
       "6   0.0  ...       RA    0.0    NaN       0.0            T       29.31   \n",
       "7   NaN  ...             NaN    NaN       NaN         0.00       29.36   \n",
       "\n",
       "  SeaLevel  ResultSpeed  ResultDir  AvgSpeed  \n",
       "0    29.82          1.7         27       9.2  \n",
       "1    29.82          2.7         25       9.6  \n",
       "2    30.09         13.0          4      13.4  \n",
       "3    30.08         13.3          2      13.4  \n",
       "4    30.12         11.7          7      11.9  \n",
       "5    30.12         12.9          6      13.2  \n",
       "6    30.05         10.4          8      10.8  \n",
       "7    30.04         10.1          7      10.4  \n",
       "\n",
       "[8 rows x 22 columns]"
      ]
     },
     "execution_count": 24,
     "metadata": {},
     "output_type": "execute_result"
    }
   ],
   "source": [
    "weather_data.head(8)"
   ]
  },
  {
   "cell_type": "code",
   "execution_count": 25,
   "id": "97e5dbaa",
   "metadata": {},
   "outputs": [
    {
     "data": {
      "text/plain": [
       "Station          int64\n",
       "Date            object\n",
       "Tmax             int64\n",
       "Tmin             int64\n",
       "Tavg           float64\n",
       "Depart         float64\n",
       "DewPoint         int64\n",
       "WetBulb        float64\n",
       "Heat           float64\n",
       "Cool           float64\n",
       "Sunrise        float64\n",
       "Sunset         float64\n",
       "CodeSum         object\n",
       "Depth          float64\n",
       "Water1         float64\n",
       "SnowFall        object\n",
       "PrecipTotal     object\n",
       "StnPressure    float64\n",
       "SeaLevel       float64\n",
       "ResultSpeed    float64\n",
       "ResultDir        int64\n",
       "AvgSpeed       float64\n",
       "dtype: object"
      ]
     },
     "execution_count": 25,
     "metadata": {},
     "output_type": "execute_result"
    }
   ],
   "source": [
    "weather_data.dtypes"
   ]
  },
  {
   "cell_type": "code",
   "execution_count": 26,
   "id": "4d10f012",
   "metadata": {},
   "outputs": [
    {
     "data": {
      "text/plain": [
       "(2944, 22)"
      ]
     },
     "execution_count": 26,
     "metadata": {},
     "output_type": "execute_result"
    }
   ],
   "source": [
    "weather_data.shape"
   ]
  },
  {
   "cell_type": "markdown",
   "id": "b894231b",
   "metadata": {},
   "source": [
    "### 3.3 Missing Data <a id='3.3_Missing Data'></a>"
   ]
  },
  {
   "cell_type": "code",
   "execution_count": 27,
   "id": "5a9b8b95",
   "metadata": {},
   "outputs": [
    {
     "data": {
      "text/html": [
       "<div>\n",
       "<style scoped>\n",
       "    .dataframe tbody tr th:only-of-type {\n",
       "        vertical-align: middle;\n",
       "    }\n",
       "\n",
       "    .dataframe tbody tr th {\n",
       "        vertical-align: top;\n",
       "    }\n",
       "\n",
       "    .dataframe thead th {\n",
       "        text-align: right;\n",
       "    }\n",
       "</style>\n",
       "<table border=\"1\" class=\"dataframe\">\n",
       "  <thead>\n",
       "    <tr style=\"text-align: right;\">\n",
       "      <th></th>\n",
       "      <th>count</th>\n",
       "      <th>%</th>\n",
       "    </tr>\n",
       "  </thead>\n",
       "  <tbody>\n",
       "    <tr>\n",
       "      <th>Water1</th>\n",
       "      <td>2944</td>\n",
       "      <td>100.000000</td>\n",
       "    </tr>\n",
       "    <tr>\n",
       "      <th>Sunset</th>\n",
       "      <td>1472</td>\n",
       "      <td>50.000000</td>\n",
       "    </tr>\n",
       "    <tr>\n",
       "      <th>Depth</th>\n",
       "      <td>1472</td>\n",
       "      <td>50.000000</td>\n",
       "    </tr>\n",
       "    <tr>\n",
       "      <th>Depart</th>\n",
       "      <td>1472</td>\n",
       "      <td>50.000000</td>\n",
       "    </tr>\n",
       "    <tr>\n",
       "      <th>SnowFall</th>\n",
       "      <td>1472</td>\n",
       "      <td>50.000000</td>\n",
       "    </tr>\n",
       "    <tr>\n",
       "      <th>Sunrise</th>\n",
       "      <td>1472</td>\n",
       "      <td>50.000000</td>\n",
       "    </tr>\n",
       "    <tr>\n",
       "      <th>Tavg</th>\n",
       "      <td>11</td>\n",
       "      <td>0.373641</td>\n",
       "    </tr>\n",
       "    <tr>\n",
       "      <th>Heat</th>\n",
       "      <td>11</td>\n",
       "      <td>0.373641</td>\n",
       "    </tr>\n",
       "    <tr>\n",
       "      <th>Cool</th>\n",
       "      <td>11</td>\n",
       "      <td>0.373641</td>\n",
       "    </tr>\n",
       "    <tr>\n",
       "      <th>SeaLevel</th>\n",
       "      <td>9</td>\n",
       "      <td>0.305707</td>\n",
       "    </tr>\n",
       "    <tr>\n",
       "      <th>StnPressure</th>\n",
       "      <td>4</td>\n",
       "      <td>0.135870</td>\n",
       "    </tr>\n",
       "    <tr>\n",
       "      <th>WetBulb</th>\n",
       "      <td>4</td>\n",
       "      <td>0.135870</td>\n",
       "    </tr>\n",
       "    <tr>\n",
       "      <th>AvgSpeed</th>\n",
       "      <td>3</td>\n",
       "      <td>0.101902</td>\n",
       "    </tr>\n",
       "    <tr>\n",
       "      <th>PrecipTotal</th>\n",
       "      <td>2</td>\n",
       "      <td>0.067935</td>\n",
       "    </tr>\n",
       "    <tr>\n",
       "      <th>CodeSum</th>\n",
       "      <td>0</td>\n",
       "      <td>0.000000</td>\n",
       "    </tr>\n",
       "    <tr>\n",
       "      <th>Date</th>\n",
       "      <td>0</td>\n",
       "      <td>0.000000</td>\n",
       "    </tr>\n",
       "    <tr>\n",
       "      <th>DewPoint</th>\n",
       "      <td>0</td>\n",
       "      <td>0.000000</td>\n",
       "    </tr>\n",
       "    <tr>\n",
       "      <th>Tmin</th>\n",
       "      <td>0</td>\n",
       "      <td>0.000000</td>\n",
       "    </tr>\n",
       "    <tr>\n",
       "      <th>Tmax</th>\n",
       "      <td>0</td>\n",
       "      <td>0.000000</td>\n",
       "    </tr>\n",
       "    <tr>\n",
       "      <th>ResultSpeed</th>\n",
       "      <td>0</td>\n",
       "      <td>0.000000</td>\n",
       "    </tr>\n",
       "    <tr>\n",
       "      <th>ResultDir</th>\n",
       "      <td>0</td>\n",
       "      <td>0.000000</td>\n",
       "    </tr>\n",
       "    <tr>\n",
       "      <th>Station</th>\n",
       "      <td>0</td>\n",
       "      <td>0.000000</td>\n",
       "    </tr>\n",
       "  </tbody>\n",
       "</table>\n",
       "</div>"
      ],
      "text/plain": [
       "             count           %\n",
       "Water1        2944  100.000000\n",
       "Sunset        1472   50.000000\n",
       "Depth         1472   50.000000\n",
       "Depart        1472   50.000000\n",
       "SnowFall      1472   50.000000\n",
       "Sunrise       1472   50.000000\n",
       "Tavg            11    0.373641\n",
       "Heat            11    0.373641\n",
       "Cool            11    0.373641\n",
       "SeaLevel         9    0.305707\n",
       "StnPressure      4    0.135870\n",
       "WetBulb          4    0.135870\n",
       "AvgSpeed         3    0.101902\n",
       "PrecipTotal      2    0.067935\n",
       "CodeSum          0    0.000000\n",
       "Date             0    0.000000\n",
       "DewPoint         0    0.000000\n",
       "Tmin             0    0.000000\n",
       "Tmax             0    0.000000\n",
       "ResultSpeed      0    0.000000\n",
       "ResultDir        0    0.000000\n",
       "Station          0    0.000000"
      ]
     },
     "execution_count": 27,
     "metadata": {},
     "output_type": "execute_result"
    }
   ],
   "source": [
    "missing = pd.concat([weather_data.isnull().sum(), 100 * weather_data.isnull().mean()], axis=1)\n",
    "missing.columns=['count', '%']\n",
    "\n",
    "missing.sort_values(by='count',  ascending=False)"
   ]
  },
  {
   "cell_type": "markdown",
   "id": "ccded5c0",
   "metadata": {},
   "source": [
    "Too many missing data points from Water1. Off with their Cols! \n",
    "Depart, SnowFall, Sunrise, Sunset, and Depth have half their data missing, lets investigate that.\n",
    "Codesum has a bunch of different values, none numeric, but perhaps we can adjust that"
   ]
  },
  {
   "cell_type": "code",
   "execution_count": 28,
   "id": "0116ac27",
   "metadata": {},
   "outputs": [],
   "source": [
    "weather_data = weather_data.drop(['Water1'], axis = 1)"
   ]
  },
  {
   "cell_type": "code",
   "execution_count": 29,
   "id": "32b13085",
   "metadata": {},
   "outputs": [
    {
     "data": {
      "text/html": [
       "<div>\n",
       "<style scoped>\n",
       "    .dataframe tbody tr th:only-of-type {\n",
       "        vertical-align: middle;\n",
       "    }\n",
       "\n",
       "    .dataframe tbody tr th {\n",
       "        vertical-align: top;\n",
       "    }\n",
       "\n",
       "    .dataframe thead th {\n",
       "        text-align: right;\n",
       "    }\n",
       "</style>\n",
       "<table border=\"1\" class=\"dataframe\">\n",
       "  <thead>\n",
       "    <tr style=\"text-align: right;\">\n",
       "      <th></th>\n",
       "      <th>count</th>\n",
       "      <th>%</th>\n",
       "    </tr>\n",
       "  </thead>\n",
       "  <tbody>\n",
       "    <tr>\n",
       "      <th>Sunrise</th>\n",
       "      <td>1472</td>\n",
       "      <td>50.000000</td>\n",
       "    </tr>\n",
       "    <tr>\n",
       "      <th>Sunset</th>\n",
       "      <td>1472</td>\n",
       "      <td>50.000000</td>\n",
       "    </tr>\n",
       "    <tr>\n",
       "      <th>Depart</th>\n",
       "      <td>1472</td>\n",
       "      <td>50.000000</td>\n",
       "    </tr>\n",
       "    <tr>\n",
       "      <th>SnowFall</th>\n",
       "      <td>1472</td>\n",
       "      <td>50.000000</td>\n",
       "    </tr>\n",
       "    <tr>\n",
       "      <th>Depth</th>\n",
       "      <td>1472</td>\n",
       "      <td>50.000000</td>\n",
       "    </tr>\n",
       "    <tr>\n",
       "      <th>Tavg</th>\n",
       "      <td>11</td>\n",
       "      <td>0.373641</td>\n",
       "    </tr>\n",
       "    <tr>\n",
       "      <th>Heat</th>\n",
       "      <td>11</td>\n",
       "      <td>0.373641</td>\n",
       "    </tr>\n",
       "    <tr>\n",
       "      <th>Cool</th>\n",
       "      <td>11</td>\n",
       "      <td>0.373641</td>\n",
       "    </tr>\n",
       "    <tr>\n",
       "      <th>SeaLevel</th>\n",
       "      <td>9</td>\n",
       "      <td>0.305707</td>\n",
       "    </tr>\n",
       "    <tr>\n",
       "      <th>StnPressure</th>\n",
       "      <td>4</td>\n",
       "      <td>0.135870</td>\n",
       "    </tr>\n",
       "    <tr>\n",
       "      <th>WetBulb</th>\n",
       "      <td>4</td>\n",
       "      <td>0.135870</td>\n",
       "    </tr>\n",
       "    <tr>\n",
       "      <th>AvgSpeed</th>\n",
       "      <td>3</td>\n",
       "      <td>0.101902</td>\n",
       "    </tr>\n",
       "    <tr>\n",
       "      <th>PrecipTotal</th>\n",
       "      <td>2</td>\n",
       "      <td>0.067935</td>\n",
       "    </tr>\n",
       "    <tr>\n",
       "      <th>CodeSum</th>\n",
       "      <td>0</td>\n",
       "      <td>0.000000</td>\n",
       "    </tr>\n",
       "    <tr>\n",
       "      <th>Date</th>\n",
       "      <td>0</td>\n",
       "      <td>0.000000</td>\n",
       "    </tr>\n",
       "    <tr>\n",
       "      <th>DewPoint</th>\n",
       "      <td>0</td>\n",
       "      <td>0.000000</td>\n",
       "    </tr>\n",
       "    <tr>\n",
       "      <th>Tmin</th>\n",
       "      <td>0</td>\n",
       "      <td>0.000000</td>\n",
       "    </tr>\n",
       "    <tr>\n",
       "      <th>Tmax</th>\n",
       "      <td>0</td>\n",
       "      <td>0.000000</td>\n",
       "    </tr>\n",
       "    <tr>\n",
       "      <th>ResultSpeed</th>\n",
       "      <td>0</td>\n",
       "      <td>0.000000</td>\n",
       "    </tr>\n",
       "    <tr>\n",
       "      <th>ResultDir</th>\n",
       "      <td>0</td>\n",
       "      <td>0.000000</td>\n",
       "    </tr>\n",
       "    <tr>\n",
       "      <th>Station</th>\n",
       "      <td>0</td>\n",
       "      <td>0.000000</td>\n",
       "    </tr>\n",
       "  </tbody>\n",
       "</table>\n",
       "</div>"
      ],
      "text/plain": [
       "             count          %\n",
       "Sunrise       1472  50.000000\n",
       "Sunset        1472  50.000000\n",
       "Depart        1472  50.000000\n",
       "SnowFall      1472  50.000000\n",
       "Depth         1472  50.000000\n",
       "Tavg            11   0.373641\n",
       "Heat            11   0.373641\n",
       "Cool            11   0.373641\n",
       "SeaLevel         9   0.305707\n",
       "StnPressure      4   0.135870\n",
       "WetBulb          4   0.135870\n",
       "AvgSpeed         3   0.101902\n",
       "PrecipTotal      2   0.067935\n",
       "CodeSum          0   0.000000\n",
       "Date             0   0.000000\n",
       "DewPoint         0   0.000000\n",
       "Tmin             0   0.000000\n",
       "Tmax             0   0.000000\n",
       "ResultSpeed      0   0.000000\n",
       "ResultDir        0   0.000000\n",
       "Station          0   0.000000"
      ]
     },
     "execution_count": 29,
     "metadata": {},
     "output_type": "execute_result"
    }
   ],
   "source": [
    "missing = pd.concat([weather_data.isnull().sum(), 100 * weather_data.isnull().mean()], axis=1)\n",
    "missing.columns=['count', '%']\n",
    "\n",
    "missing.sort_values(by='count',  ascending=False)"
   ]
  },
  {
   "cell_type": "markdown",
   "id": "3d485d66",
   "metadata": {},
   "source": []
  },
  {
   "cell_type": "markdown",
   "id": "f93f5232",
   "metadata": {},
   "source": [
    "#### 3.3.1 Tempature <a id='3.3.1_Tempature'></a>"
   ]
  },
  {
   "cell_type": "code",
   "execution_count": 30,
   "id": "61f95ba7",
   "metadata": {},
   "outputs": [
    {
     "data": {
      "text/plain": [
       "array([67., 68., 51., 52., 56., 58., nan, 60., 59., 65., 70., 69., 71.,\n",
       "       61., 55., 57., 73., 72., 53., 62., 63., 74., 75., 78., 76., 77.,\n",
       "       66., 80., 64., 81., 82., 79., 85., 84., 83., 50., 49., 46., 48.,\n",
       "       45., 54., 47., 44., 40., 41., 38., 39., 42., 37., 43., 86., 87.,\n",
       "       89., 92., 88., 91., 93., 94., 90., 36.])"
      ]
     },
     "execution_count": 30,
     "metadata": {},
     "output_type": "execute_result"
    }
   ],
   "source": [
    "weather_data.Tavg.unique()"
   ]
  },
  {
   "cell_type": "code",
   "execution_count": 31,
   "id": "f060ce3b",
   "metadata": {},
   "outputs": [],
   "source": [
    "weather_data['Tavg'] = (weather_data.Tmax + weather_data.Tmin)/2"
   ]
  },
  {
   "cell_type": "markdown",
   "id": "510fb25a",
   "metadata": {},
   "source": [
    "Apparantly I need to review how .mean() interacts with everything, everytime I use it, it does the mean of the whole col"
   ]
  },
  {
   "cell_type": "code",
   "execution_count": 32,
   "id": "cbdbad44",
   "metadata": {},
   "outputs": [
    {
     "data": {
      "text/plain": [
       "0    66.5\n",
       "1    68.0\n",
       "2    50.5\n",
       "3    51.5\n",
       "4    56.0\n",
       "5    57.5\n",
       "6    57.5\n",
       "7    64.5\n",
       "Name: Tavg, dtype: float64"
      ]
     },
     "execution_count": 32,
     "metadata": {},
     "output_type": "execute_result"
    }
   ],
   "source": [
    "weather_data.Tavg.head(8)"
   ]
  },
  {
   "cell_type": "code",
   "execution_count": 33,
   "id": "bf588148",
   "metadata": {},
   "outputs": [
    {
     "data": {
      "text/plain": [
       "array([66.5, 68. , 50.5, 51.5, 56. , 57.5, 64.5, 59.5, 60. , 58.5, 65. ,\n",
       "       67. , 70. , 69. , 69.5, 71. , 60.5, 61. , 55. , 56.5, 73. , 72. ,\n",
       "       68.5, 54.5, 52.5, 62. , 62.5, 73.5, 74.5, 77.5, 75.5, 77. , 63. ,\n",
       "       61.5, 57. , 66. , 74. , 76.5, 79.5, 71.5, 70.5, 64. , 55.5, 81. ,\n",
       "       81.5, 65.5, 75. , 72.5, 78.5, 78. , 80. , 80.5, 79. , 82. , 63.5,\n",
       "       67.5, 76. , 84.5, 84. , 82.5, 50. , 52. , 48.5, 51. , 49.5, 59. ,\n",
       "       49. , 46. , 48. , 45. , 53.5, 54. , 53. , 47. , 58. , 46.5, 43.5,\n",
       "       40. , 40.5, 38. , 38.5, 41.5, 42. , 83.5, 83. , 45.5, 39.5, 36.5,\n",
       "       37. , 44.5, 42.5, 43. , 44. , 47.5, 85.5, 86.5, 86. , 87. , 88.5,\n",
       "       91.5, 85. , 88. , 89. , 90.5, 91. , 92.5, 93.5, 87.5, 89.5, 41. ,\n",
       "       35.5, 36. , 39. , 37.5])"
      ]
     },
     "execution_count": 33,
     "metadata": {},
     "output_type": "execute_result"
    }
   ],
   "source": [
    "weather_data.Tavg.unique()"
   ]
  },
  {
   "cell_type": "code",
   "execution_count": 34,
   "id": "a296f3d4",
   "metadata": {},
   "outputs": [
    {
     "data": {
      "text/plain": [
       "<AxesSubplot:>"
      ]
     },
     "execution_count": 34,
     "metadata": {},
     "output_type": "execute_result"
    },
    {
     "data": {
      "image/png": "[encoded data removed]",
      "text/plain": [
       "<Figure size 432x288 with 1 Axes>"
      ]
     },
     "metadata": {
      "needs_background": "light"
     },
     "output_type": "display_data"
    }
   ],
   "source": [
    "weather_data.Tavg.plot()"
   ]
  },
  {
   "cell_type": "markdown",
   "id": "1c91aa0a",
   "metadata": {},
   "source": [
    "#### 3.3.2 Precipitation <a id='3.3.2_Precipitation'></a>"
   ]
  },
  {
   "cell_type": "code",
   "execution_count": 35,
   "id": "75756bdc",
   "metadata": {},
   "outputs": [
    {
     "data": {
      "text/plain": [
       "array(['0.00', '  T', '0.13', '0.02', '0.38', '0.60', '0.14', '0.07',\n",
       "       '0.11', '0.09', '1.01', '0.28', '0.04', '0.08', '0.01', '0.53',\n",
       "       '0.19', '0.21', '0.32', '0.39', '0.31', '0.42', '0.27', '0.16',\n",
       "       '0.58', '0.93', '0.05', '0.34', '0.15', '0.35', nan, '0.40',\n",
       "       '0.66', '0.30', '0.24', '0.43', '1.55', '0.92', '0.89', '0.17',\n",
       "       '0.03', '1.43', '0.97', '0.26', '1.31', '0.06', '0.46', '0.29',\n",
       "       '0.23', '0.41', '0.45', '0.83', '1.33', '0.91', '0.48', '0.37',\n",
       "       '0.88', '2.35', '1.96', '0.20', '0.25', '0.18', '0.67', '0.36',\n",
       "       '0.33', '1.28', '0.74', '0.76', '0.71', '0.95', '1.46', '0.12',\n",
       "       '0.52', '0.64', '0.22', '1.24', '0.72', '0.73', '0.65', '1.61',\n",
       "       '1.22', '0.50', '1.05', '2.43', '0.59', '2.90', '2.68', '1.23',\n",
       "       '0.62', '6.64', '3.07', '1.44', '1.75', '0.82', '0.80', '0.86',\n",
       "       '0.63', '0.55', '1.03', '0.70', '1.73', '1.38', '0.44', '1.14',\n",
       "       '1.07', '3.97', '0.87', '0.78', '1.12', '0.68', '0.10', '0.61',\n",
       "       '0.54', '1.19', '0.75', '0.84', '1.29', '0.81', '1.15', '1.49',\n",
       "       '1.57', '1.02', '1.30', '0.51', '0.85', '0.79', '0.77', '2.79',\n",
       "       '3.15', '3.64', '4.73', '1.60', '0.57', '2.24', '1.90', '1.06',\n",
       "       '1.88', '0.69', '2.17', '6.86', '0.49', '1.11', '1.21', '0.90',\n",
       "       '1.34', '0.47', '0.56', '3.66', '1.09', '1.25', '1.35', '2.20',\n",
       "       '1.48', '0.96', '1.16', '1.04', '2.03', '2.09', '1.26', '2.60',\n",
       "       '2.06', '3.31', '2.76', '1.82', '0.98', '1.58', '3.17', '1.18'],\n",
       "      dtype=object)"
      ]
     },
     "execution_count": 35,
     "metadata": {},
     "output_type": "execute_result"
    }
   ],
   "source": [
    "weather_data.PrecipTotal.unique()"
   ]
  },
  {
   "cell_type": "markdown",
   "id": "af605bfd",
   "metadata": {},
   "source": [
    "According to the NOA records, T stands for Trace, which likely means less than 0.01. As for dealing with M, if we have the relavent data from other locations on the same datetime, take the mean for that datetime. Otherwise remove?"
   ]
  },
  {
   "cell_type": "code",
   "execution_count": 36,
   "id": "18fc4c68",
   "metadata": {},
   "outputs": [
    {
     "data": {
      "text/plain": [
       "318.0"
      ]
     },
     "execution_count": 36,
     "metadata": {},
     "output_type": "execute_result"
    }
   ],
   "source": [
    "# Count the number of M's and T's\n",
    "\n",
    "weather_data.PrecipTotal.str.count(\"T\").sum()"
   ]
  },
  {
   "cell_type": "code",
   "execution_count": 37,
   "id": "bd93310c",
   "metadata": {},
   "outputs": [
    {
     "data": {
      "text/plain": [
       "0.0"
      ]
     },
     "execution_count": 37,
     "metadata": {},
     "output_type": "execute_result"
    }
   ],
   "source": [
    "# Arbitrarily choosing T to be 0.001\n",
    "weather_data['PrecipTotal'] = weather_data['PrecipTotal'].replace('  T', '0.001')\n",
    "weather_data.PrecipTotal.str.count(\"T\").sum()"
   ]
  },
  {
   "cell_type": "code",
   "execution_count": 38,
   "id": "83ccb190",
   "metadata": {},
   "outputs": [
    {
     "data": {
      "text/plain": [
       "2"
      ]
     },
     "execution_count": 38,
     "metadata": {},
     "output_type": "execute_result"
    }
   ],
   "source": [
    "weather_data.PrecipTotal.isnull().sum()"
   ]
  },
  {
   "cell_type": "code",
   "execution_count": 39,
   "id": "d5dd9c72",
   "metadata": {},
   "outputs": [
    {
     "data": {
      "text/plain": [
       "0"
      ]
     },
     "execution_count": 39,
     "metadata": {},
     "output_type": "execute_result"
    }
   ],
   "source": [
    "# Simple Mean fill\n",
    "\n",
    "weather_data.PrecipTotal.fillna(value=pd.to_numeric(weather_data.PrecipTotal,errors='coerce').mean(), inplace=True)\n",
    "weather_data.PrecipTotal.isnull().sum()"
   ]
  },
  {
   "cell_type": "code",
   "execution_count": 40,
   "id": "a32a7ae1",
   "metadata": {},
   "outputs": [
    {
     "data": {
      "text/plain": [
       "array(['0.00', '0.001', '0.13', '0.02', '0.38', '0.60', '0.14', '0.07',\n",
       "       '0.11', '0.09', '1.01', '0.28', '0.04', '0.08', '0.01', '0.53',\n",
       "       '0.19', '0.21', '0.32', '0.39', '0.31', '0.42', '0.27', '0.16',\n",
       "       '0.58', '0.93', '0.05', '0.34', '0.15', '0.35', 0.1314371176070689,\n",
       "       '0.40', '0.66', '0.30', '0.24', '0.43', '1.55', '0.92', '0.89',\n",
       "       '0.17', '0.03', '1.43', '0.97', '0.26', '1.31', '0.06', '0.46',\n",
       "       '0.29', '0.23', '0.41', '0.45', '0.83', '1.33', '0.91', '0.48',\n",
       "       '0.37', '0.88', '2.35', '1.96', '0.20', '0.25', '0.18', '0.67',\n",
       "       '0.36', '0.33', '1.28', '0.74', '0.76', '0.71', '0.95', '1.46',\n",
       "       '0.12', '0.52', '0.64', '0.22', '1.24', '0.72', '0.73', '0.65',\n",
       "       '1.61', '1.22', '0.50', '1.05', '2.43', '0.59', '2.90', '2.68',\n",
       "       '1.23', '0.62', '6.64', '3.07', '1.44', '1.75', '0.82', '0.80',\n",
       "       '0.86', '0.63', '0.55', '1.03', '0.70', '1.73', '1.38', '0.44',\n",
       "       '1.14', '1.07', '3.97', '0.87', '0.78', '1.12', '0.68', '0.10',\n",
       "       '0.61', '0.54', '1.19', '0.75', '0.84', '1.29', '0.81', '1.15',\n",
       "       '1.49', '1.57', '1.02', '1.30', '0.51', '0.85', '0.79', '0.77',\n",
       "       '2.79', '3.15', '3.64', '4.73', '1.60', '0.57', '2.24', '1.90',\n",
       "       '1.06', '1.88', '0.69', '2.17', '6.86', '0.49', '1.11', '1.21',\n",
       "       '0.90', '1.34', '0.47', '0.56', '3.66', '1.09', '1.25', '1.35',\n",
       "       '2.20', '1.48', '0.96', '1.16', '1.04', '2.03', '2.09', '1.26',\n",
       "       '2.60', '2.06', '3.31', '2.76', '1.82', '0.98', '1.58', '3.17',\n",
       "       '1.18'], dtype=object)"
      ]
     },
     "execution_count": 40,
     "metadata": {},
     "output_type": "execute_result"
    }
   ],
   "source": [
    "weather_data.PrecipTotal.unique()"
   ]
  },
  {
   "cell_type": "code",
   "execution_count": 41,
   "id": "dec66867",
   "metadata": {},
   "outputs": [],
   "source": [
    "weather_data['PrecipTotal'] = pd.to_numeric(weather_data['PrecipTotal'], downcast=\"float\")"
   ]
  },
  {
   "cell_type": "code",
   "execution_count": 42,
   "id": "5565aa9c",
   "metadata": {},
   "outputs": [
    {
     "data": {
      "text/plain": [
       "dtype('float32')"
      ]
     },
     "execution_count": 42,
     "metadata": {},
     "output_type": "execute_result"
    }
   ],
   "source": [
    "weather_data['PrecipTotal'].dtypes"
   ]
  },
  {
   "cell_type": "markdown",
   "id": "628a6c84",
   "metadata": {},
   "source": [
    "#### 3.3.3 Dew Point <a id='3.3.3_Dew_Point'></a>"
   ]
  },
  {
   "cell_type": "code",
   "execution_count": 43,
   "id": "4bbb21b8",
   "metadata": {},
   "outputs": [
    {
     "data": {
      "text/plain": [
       "array([51, 42, 40, 41, 38, 39, 30, 58, 57, 59, 60, 52, 44, 36, 37, 33, 32,\n",
       "       47, 45, 56, 43, 31, 50, 46, 49, 48, 54, 53, 55, 61, 63, 62, 64, 65,\n",
       "       66, 67, 69, 70, 68, 71, 72, 73, 35, 34, 29, 27, 28, 23, 24, 25, 22,\n",
       "       26, 75, 74], dtype=int64)"
      ]
     },
     "execution_count": 43,
     "metadata": {},
     "output_type": "execute_result"
    }
   ],
   "source": [
    "weather_data.DewPoint.unique()"
   ]
  },
  {
   "cell_type": "code",
   "execution_count": 44,
   "id": "6592d423",
   "metadata": {},
   "outputs": [
    {
     "data": {
      "text/plain": [
       "<AxesSubplot:>"
      ]
     },
     "execution_count": 44,
     "metadata": {},
     "output_type": "execute_result"
    },
    {
     "data": {
      "image/png": "[encoded data removed]",
      "text/plain": [
       "<Figure size 432x288 with 1 Axes>"
      ]
     },
     "metadata": {
      "needs_background": "light"
     },
     "output_type": "display_data"
    }
   ],
   "source": [
    "weather_data.DewPoint.plot()"
   ]
  },
  {
   "cell_type": "markdown",
   "id": "57bc0da8",
   "metadata": {},
   "source": [
    "Nothing obviously weird here"
   ]
  },
  {
   "cell_type": "markdown",
   "id": "81083e7a",
   "metadata": {},
   "source": [
    "#### 3.3.4 WetBulb <a id='3.3.4_WetBulb'></a>"
   ]
  },
  {
   "cell_type": "code",
   "execution_count": 45,
   "id": "3b5dc0e2",
   "metadata": {},
   "outputs": [
    {
     "data": {
      "text/plain": [
       "array([56., 57., 47., 48., 50., 49., 46., 54., 53., 62., 63., 60., 61.,\n",
       "       51., 59., 58., 43., 44., 45., 65., 66., 67., 64., 52., 55., 69.,\n",
       "       68., 70., 72., 71., 73., 74., 76., 42., 39., 40., 41., 35., 33.,\n",
       "       34., nan, 75., 36., 32., 38., 78., 77., 37.])"
      ]
     },
     "execution_count": 45,
     "metadata": {},
     "output_type": "execute_result"
    }
   ],
   "source": [
    "weather_data.WetBulb.unique()"
   ]
  },
  {
   "cell_type": "code",
   "execution_count": 46,
   "id": "f2a7dcd8",
   "metadata": {},
   "outputs": [
    {
     "data": {
      "text/plain": [
       "0"
      ]
     },
     "execution_count": 46,
     "metadata": {},
     "output_type": "execute_result"
    }
   ],
   "source": [
    "# Simple Mean fill\n",
    "\n",
    "weather_data.WetBulb.fillna(value=weather_data.WetBulb.mean(), inplace=True)\n",
    "weather_data.WetBulb.isnull().sum()"
   ]
  },
  {
   "cell_type": "code",
   "execution_count": 47,
   "id": "35dc730a",
   "metadata": {},
   "outputs": [
    {
     "data": {
      "text/plain": [
       "<AxesSubplot:>"
      ]
     },
     "execution_count": 47,
     "metadata": {},
     "output_type": "execute_result"
    },
    {
     "data": {
      "image/png": "[encoded data removed]",
      "text/plain": [
       "<Figure size 432x288 with 1 Axes>"
      ]
     },
     "metadata": {
      "needs_background": "light"
     },
     "output_type": "display_data"
    }
   ],
   "source": [
    "weather_data.WetBulb.plot()"
   ]
  },
  {
   "cell_type": "markdown",
   "id": "09aeb354",
   "metadata": {},
   "source": [
    "#### 3.3.5 Heat"
   ]
  },
  {
   "cell_type": "code",
   "execution_count": 48,
   "id": "524c924f",
   "metadata": {},
   "outputs": [
    {
     "data": {
      "text/plain": [
       "array([ 0., 14., 13.,  9.,  7., nan,  5.,  6.,  4., 10.,  8., 12.,  3.,\n",
       "        2.,  1., 15., 16., 19., 17., 20., 11., 18., 21., 25., 24., 27.,\n",
       "       26., 23., 28., 22., 29.])"
      ]
     },
     "execution_count": 48,
     "metadata": {},
     "output_type": "execute_result"
    }
   ],
   "source": [
    "weather_data.Heat.unique()"
   ]
  },
  {
   "cell_type": "code",
   "execution_count": 49,
   "id": "074acd0b",
   "metadata": {},
   "outputs": [
    {
     "data": {
      "text/plain": [
       "0"
      ]
     },
     "execution_count": 49,
     "metadata": {},
     "output_type": "execute_result"
    }
   ],
   "source": [
    "# Simple Mean fill\n",
    "\n",
    "weather_data.Heat.fillna(value=weather_data.Heat.mean(), inplace=True)\n",
    "weather_data.Heat.isnull().sum()"
   ]
  },
  {
   "cell_type": "code",
   "execution_count": 50,
   "id": "93385eff",
   "metadata": {},
   "outputs": [
    {
     "data": {
      "text/plain": [
       "<AxesSubplot:>"
      ]
     },
     "execution_count": 50,
     "metadata": {},
     "output_type": "execute_result"
    },
    {
     "data": {
      "image/png": "[encoded data removed]",
      "text/plain": [
       "<Figure size 432x288 with 1 Axes>"
      ]
     },
     "metadata": {
      "needs_background": "light"
     },
     "output_type": "display_data"
    }
   ],
   "source": [
    "weather_data.Heat.plot()"
   ]
  },
  {
   "cell_type": "markdown",
   "id": "0dace633",
   "metadata": {},
   "source": [
    "#### 3.3.6 Cool"
   ]
  },
  {
   "cell_type": "code",
   "execution_count": 51,
   "id": "ad8624fc",
   "metadata": {},
   "outputs": [
    {
     "data": {
      "text/plain": [
       "array([ 2.,  3.,  0., nan,  5.,  4.,  6.,  8.,  7.,  9., 10., 13., 11.,\n",
       "       12.,  1., 15., 16., 17., 14., 20., 19., 18., 21., 22., 24., 27.,\n",
       "       23., 26., 28., 29., 25.])"
      ]
     },
     "execution_count": 51,
     "metadata": {},
     "output_type": "execute_result"
    }
   ],
   "source": [
    "weather_data.Cool.unique()"
   ]
  },
  {
   "cell_type": "code",
   "execution_count": 52,
   "id": "b642a5d7",
   "metadata": {},
   "outputs": [
    {
     "data": {
      "text/plain": [
       "0"
      ]
     },
     "execution_count": 52,
     "metadata": {},
     "output_type": "execute_result"
    }
   ],
   "source": [
    "# Simple Mean fill\n",
    "\n",
    "weather_data.Cool.fillna(value=weather_data.Cool.mean(), inplace=True)\n",
    "weather_data.Cool.isnull().sum()"
   ]
  },
  {
   "cell_type": "code",
   "execution_count": 53,
   "id": "feeb9dda",
   "metadata": {},
   "outputs": [
    {
     "data": {
      "text/plain": [
       "<AxesSubplot:>"
      ]
     },
     "execution_count": 53,
     "metadata": {},
     "output_type": "execute_result"
    },
    {
     "data": {
      "image/png": "[encoded data removed]",
      "text/plain": [
       "<Figure size 432x288 with 1 Axes>"
      ]
     },
     "metadata": {
      "needs_background": "light"
     },
     "output_type": "display_data"
    }
   ],
   "source": [
    "weather_data.Cool.plot()"
   ]
  },
  {
   "cell_type": "markdown",
   "id": "0a640620",
   "metadata": {},
   "source": [
    "#### 3.3.7 StnPressure <a id='3.3.7_StnPressure'></a>"
   ]
  },
  {
   "cell_type": "code",
   "execution_count": 54,
   "id": "a1df93c2",
   "metadata": {},
   "outputs": [
    {
     "data": {
      "text/plain": [
       "array([29.1 , 29.18, 29.38, 29.44, 29.39, 29.46, 29.31, 29.36, 29.4 ,\n",
       "       29.57, 29.62, 29.29, 29.21, 29.28, 29.2 , 29.26, 29.33, 29.49,\n",
       "       29.54, 29.55, 29.23, 29.13, 29.19, 29.53, 29.6 , 29.34, 29.41,\n",
       "       29.47, 29.51, 29.42, 29.43, 29.25, 29.03, 28.82, 28.87, 28.88,\n",
       "       29.16, 29.07, 28.84, 28.91, 29.24,   nan, 29.3 , 29.12, 29.45,\n",
       "       29.56, 29.32, 29.05, 29.11, 29.06, 29.22, 29.08, 29.14, 29.37,\n",
       "       29.35, 29.15, 29.17, 29.48, 29.52, 29.27, 29.5 , 28.59, 28.67,\n",
       "       28.75, 29.02, 29.79, 29.86, 29.63, 29.7 , 28.95, 29.01, 28.79,\n",
       "       28.85, 28.97, 28.89, 28.94, 28.93, 28.98, 28.96, 29.  , 29.66,\n",
       "       29.09, 28.9 , 29.04, 29.59, 29.65, 29.58, 29.61, 29.64, 29.71,\n",
       "       29.67, 28.8 , 28.73, 29.68, 28.74, 28.55, 28.63, 28.92, 28.99,\n",
       "       28.81, 28.71, 28.69, 28.77, 28.83])"
      ]
     },
     "execution_count": 54,
     "metadata": {},
     "output_type": "execute_result"
    }
   ],
   "source": [
    "weather_data.StnPressure.unique()"
   ]
  },
  {
   "cell_type": "code",
   "execution_count": 55,
   "id": "8ead68f2",
   "metadata": {},
   "outputs": [
    {
     "data": {
      "text/plain": [
       "0"
      ]
     },
     "execution_count": 55,
     "metadata": {},
     "output_type": "execute_result"
    }
   ],
   "source": [
    "# Simple Mean fill\n",
    "\n",
    "weather_data.StnPressure.fillna(value=weather_data.StnPressure.mean(), inplace=True)\n",
    "weather_data.StnPressure.isnull().sum()"
   ]
  },
  {
   "cell_type": "code",
   "execution_count": 56,
   "id": "14f5e089",
   "metadata": {},
   "outputs": [
    {
     "data": {
      "text/plain": [
       "<AxesSubplot:>"
      ]
     },
     "execution_count": 56,
     "metadata": {},
     "output_type": "execute_result"
    },
    {
     "data": {
      "image/png": "[encoded data removed]",
      "text/plain": [
       "<Figure size 432x288 with 1 Axes>"
      ]
     },
     "metadata": {
      "needs_background": "light"
     },
     "output_type": "display_data"
    }
   ],
   "source": [
    "weather_data.StnPressure.plot()"
   ]
  },
  {
   "cell_type": "markdown",
   "id": "f55a0ad0",
   "metadata": {},
   "source": [
    "#### 3.3.8 SeaLevel <a id='3.3.8_SeaLevel'></a>"
   ]
  },
  {
   "cell_type": "code",
   "execution_count": 57,
   "id": "01b2d5e4",
   "metadata": {},
   "outputs": [
    {
     "data": {
      "text/plain": [
       "array([29.82, 30.09, 30.08, 30.12, 30.05, 30.04, 30.1 , 30.29, 30.28,\n",
       "       30.03, 30.02, 29.94, 29.93, 29.92, 29.91, 30.2 , 30.19, 30.24,\n",
       "       29.97, 29.98, 29.84, 29.83, 30.27, 30.25, 30.26, 30.11, 30.06,\n",
       "       30.23, 30.15, 30.14, 30.  , 29.99, 29.9 , 29.77, 29.76, 29.56,\n",
       "       29.54, 29.52, 29.51, 29.79, 29.78, 29.81, 29.55, 29.85, 30.07,\n",
       "       30.16,   nan, 29.96, 29.95, 30.13, 30.21, 30.22, 29.88, 30.01,\n",
       "       29.8 , 29.89, 29.74, 29.87, 29.86, 30.18, 30.17, 29.34, 29.44,\n",
       "       29.45, 29.71, 29.72, 30.52, 30.53, 30.4 , 30.41, 29.67, 29.53,\n",
       "       29.69, 29.61, 29.64, 29.63, 29.66, 29.7 , 30.34, 30.33, 29.62,\n",
       "       29.6 , 29.75, 29.68, 29.73, 30.31, 30.3 , 30.32, 30.37, 30.39,\n",
       "       29.59, 29.65, 30.35, 30.36, 29.48, 30.38, 29.5 , 29.25, 29.23,\n",
       "       29.46, 29.43, 29.47])"
      ]
     },
     "execution_count": 57,
     "metadata": {},
     "output_type": "execute_result"
    }
   ],
   "source": [
    "weather_data.SeaLevel.unique()"
   ]
  },
  {
   "cell_type": "code",
   "execution_count": 58,
   "id": "d477dcba",
   "metadata": {},
   "outputs": [
    {
     "data": {
      "text/plain": [
       "0"
      ]
     },
     "execution_count": 58,
     "metadata": {},
     "output_type": "execute_result"
    }
   ],
   "source": [
    "# Simple Mean fill\n",
    "\n",
    "weather_data.SeaLevel.fillna(value=weather_data.SeaLevel.mean(), inplace=True)\n",
    "weather_data.SeaLevel.isnull().sum()"
   ]
  },
  {
   "cell_type": "code",
   "execution_count": 59,
   "id": "a97aa456",
   "metadata": {},
   "outputs": [
    {
     "data": {
      "text/plain": [
       "<AxesSubplot:>"
      ]
     },
     "execution_count": 59,
     "metadata": {},
     "output_type": "execute_result"
    },
    {
     "data": {
      "image/png": "[encoded data removed]",
      "text/plain": [
       "<Figure size 432x288 with 1 Axes>"
      ]
     },
     "metadata": {
      "needs_background": "light"
     },
     "output_type": "display_data"
    }
   ],
   "source": [
    "weather_data.SeaLevel.plot()"
   ]
  },
  {
   "cell_type": "markdown",
   "id": "0f202b90",
   "metadata": {},
   "source": [
    "#### 3.3.9 ResultSpeed <a id='3.3.9_ResultSpeed'></a>"
   ]
  },
  {
   "cell_type": "code",
   "execution_count": 60,
   "id": "1e08b724",
   "metadata": {},
   "outputs": [
    {
     "data": {
      "text/plain": [
       "array([ 1.7,  2.7, 13. , 13.3, 11.7, 12.9, 10.4, 10.1, 11.2, 14.4, 13.8,\n",
       "        8.6,  8.5,  2.5,  3.9,  0.7,  2. , 11.3, 12.4, 12.7,  6.6,  6.4,\n",
       "       16.9, 14.1,  8.1,  7.8,  8. , 10.5,  5.4,  3.4, 11.1,  6.3, 10. ,\n",
       "       11.4, 10.9, 14.9,  4.9,  4.5,  2.8,  8.9,  8.2,  4.8,  4.7,  5.8,\n",
       "       10.3,  9.7,  9.3,  4.2,  6.5,  7.5,  5.2,  7.9,  6.2, 10.8,  9.6,\n",
       "       22.7, 20.3,  0.3,  2.4,  4.6,  8.3,  9.4,  7.2,  7. ,  5.6,  5.9,\n",
       "        4.1,  3.8,  2.1,  4. , 14. , 12.2, 10.7,  3.5,  3.7,  7.6,  7.3,\n",
       "        6.1, 11.9,  7.4,  5.1,  9.5,  6.7,  3.1,  4.3,  3.2,  3.3,  8.4,\n",
       "       12.6,  8.8,  9.1,  1.4,  1.2,  4.4,  7.7,  1.9,  2.9,  1.1,  3. ,\n",
       "       10.6,  5.5,  5.7,  1.6,  2.6,  1.5,  6.9,  3.6,  6. ,  0.5,  5.3,\n",
       "        9. ,  2.2, 12.8,  9.2, 12.1,  1.8,  7.1,  6.8, 12.5,  5. ,  9.8,\n",
       "        2.3, 11.5, 15.1, 14.6, 17.2, 15.5, 16.2, 17.7, 18. , 16.7, 16. ,\n",
       "       13.9, 14.5, 10.2, 14.3, 13.7, 19.2, 13.2, 21.1, 11.8, 16.1, 14.8,\n",
       "        8.7, 11.6, 13.6,  1. , 12. , 17.5, 13.4,  9.9, 11. ,  0.2, 13.5,\n",
       "       12.3,  1.3,  0.1,  0.6,  0.8, 19.8, 15.6, 15.7, 15. , 14.7, 15.3,\n",
       "       14.2, 17.4, 16.6, 15.2, 24.1, 21.8, 20.8, 17. , 21.4, 18.8, 13.1,\n",
       "       15.9,  0.9, 15.4, 17.1, 19.6, 15.8, 16.8, 19.4, 19.3, 17.9,  0.4,\n",
       "       16.4, 22.6, 21.7])"
      ]
     },
     "execution_count": 60,
     "metadata": {},
     "output_type": "execute_result"
    }
   ],
   "source": [
    "weather_data.ResultSpeed.unique()"
   ]
  },
  {
   "cell_type": "code",
   "execution_count": 61,
   "id": "23972c65",
   "metadata": {},
   "outputs": [
    {
     "data": {
      "text/plain": [
       "<AxesSubplot:>"
      ]
     },
     "execution_count": 61,
     "metadata": {},
     "output_type": "execute_result"
    },
    {
     "data": {
      "image/png": "[encoded data removed]",
      "text/plain": [
       "<Figure size 432x288 with 1 Axes>"
      ]
     },
     "metadata": {
      "needs_background": "light"
     },
     "output_type": "display_data"
    }
   ],
   "source": [
    "weather_data.ResultSpeed.plot()"
   ]
  },
  {
   "cell_type": "markdown",
   "id": "4a0c04c8",
   "metadata": {},
   "source": [
    "#### 3.3.10 ResultDir <a id='3.3.10_ResultDir'></a>"
   ]
  },
  {
   "cell_type": "code",
   "execution_count": 62,
   "id": "c789ca14",
   "metadata": {},
   "outputs": [
    {
     "data": {
      "text/plain": [
       "array([27, 25,  4,  2,  7,  6,  8, 11, 10, 18, 17,  9,  3, 36,  1, 14, 21,\n",
       "       22, 24, 23, 16, 19, 20,  5, 15, 26, 31, 30, 28, 33, 29, 12, 13, 32,\n",
       "       35, 34], dtype=int64)"
      ]
     },
     "execution_count": 62,
     "metadata": {},
     "output_type": "execute_result"
    }
   ],
   "source": [
    "weather_data.ResultDir.unique()"
   ]
  },
  {
   "cell_type": "code",
   "execution_count": 63,
   "id": "16ee904d",
   "metadata": {},
   "outputs": [
    {
     "data": {
      "text/plain": [
       "<AxesSubplot:>"
      ]
     },
     "execution_count": 63,
     "metadata": {},
     "output_type": "execute_result"
    },
    {
     "data": {
      "image/png": "[encoded data removed]",
      "text/plain": [
       "<Figure size 432x288 with 1 Axes>"
      ]
     },
     "metadata": {
      "needs_background": "light"
     },
     "output_type": "display_data"
    }
   ],
   "source": [
    "weather_data.ResultDir.plot()"
   ]
  },
  {
   "cell_type": "markdown",
   "id": "34637a65",
   "metadata": {},
   "source": [
    "#### 3.3.11 AvgSpeed <a id='3.3.11_AvgSpeed'></a>"
   ]
  },
  {
   "cell_type": "code",
   "execution_count": 64,
   "id": "f34734f0",
   "metadata": {},
   "outputs": [
    {
     "data": {
      "text/plain": [
       "array([ 9.2,  9.6, 13.4, 11.9, 13.2, 10.8, 10.4, 12. , 11.5, 15. , 14.5,\n",
       "       10.5,  9.9,  5.8,  5.4,  6.2,  5.9,  4.1,  3.9, 12.9, 12.8, 13. ,\n",
       "        8.1,  7.6, 17.3, 14.6, 12.3, 12.2, 11.8, 11.3,  7.5,  5.5, 11.4,\n",
       "       10.7,  9.7,  8.2,  7.8, 10.2, 10.6, 11.2, 15.2,  8.8,  7.2,  9.5,\n",
       "        5.3,  5.2,  6.5,  7.4, 10.1,  6.4,  6.7, 23.1, 20.7, 13.8, 12.4,\n",
       "        5. ,  4.7,  5.6,  6.9,  8.4, 10. ,  8.6,  nan,  6.8,  4.9,  6.1,\n",
       "        6.3, 15.1, 12.6,  7.7,  8.7,  9. ,  8. ,  6. ,  7.1,  8.5, 12.5,\n",
       "       13.3,  8.3,  7.3, 13.1, 12.7, 10.9, 11.1, 13.9,  6.6, 14.4,  9.1,\n",
       "        3.3,  3.5,  4. ,  7. ,  9.4,  7.9,  5.7,  4.3,  4.6,  3.7, 11.7,\n",
       "        4.4, 12.1, 13.5, 13.7, 11. ,  9.8,  8.9, 10.3, 15.5, 18.9, 17.2,\n",
       "       16.7, 18. , 18.2, 16.8, 14.1, 14.7,  4.2,  9.3, 14.3, 17.7, 17.8,\n",
       "       15.9, 19.3, 17.4,  3.8,  4.8, 14. , 21.5, 19.5, 16.3,  5.1,  3.6,\n",
       "        3.2,  4.5,  2.9,  3.1,  2.7, 18.4, 16.4, 14.8, 11.6, 13.6,  2.4,\n",
       "        2.6,  3.4,  3. ,  2.1, 20.2, 14.9, 16.2, 15.4, 17.9, 14.2, 15.3,\n",
       "       15.7, 16.1, 18.8, 17.1, 16.6, 26.3, 21.4, 23.2, 22.1, 15.6, 16.9,\n",
       "        2. ,  2.3,  1.7, 19.9, 17.6, 18.5, 18.1, 16. , 15.8,  2.8,  1.9,\n",
       "       22.9, 22.6])"
      ]
     },
     "execution_count": 64,
     "metadata": {},
     "output_type": "execute_result"
    }
   ],
   "source": [
    "weather_data.AvgSpeed.unique()"
   ]
  },
  {
   "cell_type": "code",
   "execution_count": 65,
   "id": "029fb57f",
   "metadata": {},
   "outputs": [
    {
     "data": {
      "text/plain": [
       "0"
      ]
     },
     "execution_count": 65,
     "metadata": {},
     "output_type": "execute_result"
    }
   ],
   "source": [
    "# Simple Mean fill\n",
    "\n",
    "weather_data.AvgSpeed.fillna(value=weather_data.AvgSpeed.mean(), inplace=True)\n",
    "weather_data.AvgSpeed.isnull().sum()"
   ]
  },
  {
   "cell_type": "code",
   "execution_count": 66,
   "id": "de718b9a",
   "metadata": {},
   "outputs": [
    {
     "data": {
      "text/plain": [
       "<AxesSubplot:>"
      ]
     },
     "execution_count": 66,
     "metadata": {},
     "output_type": "execute_result"
    },
    {
     "data": {
      "image/png": "[encoded data removed]",
      "text/plain": [
       "<Figure size 432x288 with 1 Axes>"
      ]
     },
     "metadata": {
      "needs_background": "light"
     },
     "output_type": "display_data"
    }
   ],
   "source": [
    "weather_data.AvgSpeed.plot()"
   ]
  },
  {
   "cell_type": "markdown",
   "id": "4ccc39d5",
   "metadata": {},
   "source": [
    "#### 3.3.12 Depart <a id='3.3.12_SnowFall'></a>"
   ]
  },
  {
   "cell_type": "code",
   "execution_count": 67,
   "id": "97fd1fb8",
   "metadata": {},
   "outputs": [
    {
     "name": "stdout",
     "output_type": "stream",
     "text": [
      "1472 0\n"
     ]
    }
   ],
   "source": [
    "Temp = weather_data[['Station', 'Depart']]\n",
    "val1 = Temp.Depart[Temp.Station == 2].isnull().sum()\n",
    "val2 = Temp.Depart[Temp.Station == 1].isnull().sum()\n",
    "print(val1, val2)"
   ]
  },
  {
   "cell_type": "code",
   "execution_count": 68,
   "id": "b70c14fd",
   "metadata": {},
   "outputs": [],
   "source": [
    "# As of yet we do not know how to adequately solve all missing values for station2's Depart so, remove col\n",
    "\n",
    "weather_data = weather_data.drop(['Depart'], axis = 1)"
   ]
  },
  {
   "cell_type": "markdown",
   "id": "5924012d",
   "metadata": {},
   "source": [
    "#### 3.3.13 SnowFall <a id='3.3.13_SnowFall'></a>"
   ]
  },
  {
   "cell_type": "code",
   "execution_count": 69,
   "id": "0d1b4b44",
   "metadata": {},
   "outputs": [
    {
     "name": "stdout",
     "output_type": "stream",
     "text": [
      "1472 0\n"
     ]
    }
   ],
   "source": [
    "Temp2 = weather_data[['Station', 'SnowFall']]\n",
    "val1 = Temp2.SnowFall[Temp2.Station == 2].isnull().sum()\n",
    "val2 = Temp2.SnowFall[Temp2.Station == 1].isnull().sum()\n",
    "print(val1, val2)"
   ]
  },
  {
   "cell_type": "code",
   "execution_count": 70,
   "id": "3923b8fb",
   "metadata": {},
   "outputs": [],
   "source": [
    "# As of yet we do not know how to adequately solve all missing values for station2's Snowfall so, remove col\n",
    "\n",
    "weather_data = weather_data.drop(['SnowFall'], axis = 1)"
   ]
  },
  {
   "cell_type": "markdown",
   "id": "82aa3bcb",
   "metadata": {},
   "source": [
    "#### 3.3.14 Sunrise <a id='3.3.14_Sunrise'></a>"
   ]
  },
  {
   "cell_type": "code",
   "execution_count": 71,
   "id": "a5c8b628",
   "metadata": {},
   "outputs": [
    {
     "name": "stdout",
     "output_type": "stream",
     "text": [
      "1472 0\n"
     ]
    }
   ],
   "source": [
    "Temp3 = weather_data[['Station', 'Sunrise']]\n",
    "val1 = Temp3.Sunrise[Temp3.Station == 2].isnull().sum()\n",
    "val2 = Temp3.Sunrise[Temp3.Station == 1].isnull().sum()\n",
    "print(val1, val2)"
   ]
  },
  {
   "cell_type": "markdown",
   "id": "6c72777a",
   "metadata": {},
   "source": [
    "Sunrise is going to be virtually identical due to how close they are so...but lets check Sunset as well\n"
   ]
  },
  {
   "cell_type": "markdown",
   "id": "119b18fd",
   "metadata": {},
   "source": [
    "#### 3.3.15 Sunset <a id='3.3.15_Sunset'></a>"
   ]
  },
  {
   "cell_type": "code",
   "execution_count": 72,
   "id": "d8acbb55",
   "metadata": {},
   "outputs": [
    {
     "name": "stdout",
     "output_type": "stream",
     "text": [
      "1472 0\n"
     ]
    }
   ],
   "source": [
    "Temp4 = weather_data[['Station', 'Sunset']]\n",
    "val1 = Temp4.Sunset[Temp4.Station == 2].isnull().sum()\n",
    "val2 = Temp4.Sunset[Temp4.Station == 1].isnull().sum()\n",
    "print(val1, val2)"
   ]
  },
  {
   "cell_type": "markdown",
   "id": "3de4d31b",
   "metadata": {},
   "source": [
    "Lets impute sunrise and sunset"
   ]
  },
  {
   "cell_type": "code",
   "execution_count": 73,
   "id": "fa73e5df",
   "metadata": {},
   "outputs": [],
   "source": [
    "def impute_sun(row):\n",
    "    if row['Station'] == 2:\n",
    "        row['Sunrise'] = weather_data[(weather_data['Date'] == row['Date']) & (weather_data['Station'] == 1)]['Sunrise'].values[0]\n",
    "        row['Sunset'] = weather_data[(weather_data['Date'] == row['Date']) & (weather_data['Station'] == 1)]['Sunset'].values[0]\n",
    "    return row"
   ]
  },
  {
   "cell_type": "code",
   "execution_count": 74,
   "id": "8e2dc215",
   "metadata": {},
   "outputs": [],
   "source": [
    "weather_data = weather_data.apply(impute_sun, axis=1)"
   ]
  },
  {
   "cell_type": "markdown",
   "id": "dd17ef5c",
   "metadata": {},
   "source": [
    "#### 3.3.16 Depth <a id='3.3.16_Depth'></a>"
   ]
  },
  {
   "cell_type": "code",
   "execution_count": 75,
   "id": "e9a36e03",
   "metadata": {},
   "outputs": [
    {
     "name": "stdout",
     "output_type": "stream",
     "text": [
      "1472 0\n"
     ]
    }
   ],
   "source": [
    "Temp5 = weather_data[['Station', 'Depth']]\n",
    "val1 = Temp5.Depth[Temp5.Station == 2].isnull().sum()\n",
    "val2 = Temp5.Depth[Temp5.Station == 1].isnull().sum()\n",
    "print(val1, val2)"
   ]
  },
  {
   "cell_type": "code",
   "execution_count": 76,
   "id": "0619db25",
   "metadata": {},
   "outputs": [],
   "source": [
    "# As of yet we do not know how to adequately solve all missing values for station2's Depth so, remove col\n",
    "\n",
    "weather_data = weather_data.drop(['Depth'], axis = 1)"
   ]
  },
  {
   "cell_type": "markdown",
   "id": "56963678",
   "metadata": {},
   "source": [
    "#### 3.3.17 Codesum <a id='3.3.17_CodeSum'></a>"
   ]
  },
  {
   "cell_type": "code",
   "execution_count": 77,
   "id": "7676de7f",
   "metadata": {},
   "outputs": [
    {
     "data": {
      "text/plain": [
       "array([' ', 'BR', 'BR HZ', 'HZ', 'RA', 'RA BR', 'TSRA RA BR', 'RA VCTS',\n",
       "       'TSRA RA', 'RA HZ', 'TSRA RA BR HZ', 'TSRA BR HZ', 'RA BR HZ VCTS',\n",
       "       'TSRA RA HZ', 'TSRA BR HZ VCTS', 'TSRA', 'TSRA BR HZ FU',\n",
       "       'TSRA RA HZ FU', 'BR HZ FU', 'TSRA RA VCTS', 'HZ VCTS', 'TSRA HZ',\n",
       "       'VCTS', 'RA BR VCTS', 'TSRA RA BR VCTS', 'TS TSRA RA BR HZ VCTS',\n",
       "       'DZ BR', 'TS TSRA RA BR HZ', 'TS TSRA BR HZ', 'RA BR HZ',\n",
       "       'TSRA RA DZ BR HZ', 'TS TSRA RA BR', 'TS RA BR', 'TS TSRA RA',\n",
       "       'TS TSRA RA BR VCTS', 'TS TSRA BR', 'TS RA', 'RA BCFG BR',\n",
       "       'TSRA BR', 'RA DZ FG+ BCFG BR', 'RA FG+ MIFG BR', 'RA DZ',\n",
       "       'RA DZ BR', 'TS TSRA RA HZ', 'TSRA RA FG+ FG BR',\n",
       "       'TSRA DZ FG+ FG BR HZ', 'TS BR', 'RA BR SQ', 'TS TSRA',\n",
       "       'TSRA RA BR HZ VCTS', 'BR VCTS', 'TS', 'FG+ BR HZ', 'RA SN',\n",
       "       'TSRA RA DZ BR', 'DZ BR HZ', 'RA BR FU', 'TS BR HZ', 'DZ',\n",
       "       'FG+ BR', 'FG+ FG BR', 'FG+ MIFG BR', 'TSRA RA FG BR',\n",
       "       'TSRA FG+ BR', 'RA DZ BR HZ', 'RA DZ SN', 'FG+ FG BR HZ',\n",
       "       'TS TSRA RA FG BR', 'BR HZ VCFG', 'TS RA FG+ FG BR',\n",
       "       'TSRA RA FG+ BR', 'RA DZ FG+ FG BR', 'TS TSRA RA VCTS', 'FU',\n",
       "       'TS TSRA VCFG', 'TS TSRA HZ', 'TS TSRA GR RA BR', 'RA FG BR',\n",
       "       'HZ FU', 'RA BR HZ FU', 'MIFG BCFG BR', 'FG+ BCFG BR',\n",
       "       'TSRA RA FG+ FG BR HZ', 'FG+', 'TSRA BR SQ', 'TSRA DZ BR HZ',\n",
       "       'RA BR HZ VCFG', 'RA FG+ BR', 'FG BR HZ', 'TS HZ',\n",
       "       'TS TSRA RA FG BR HZ', 'RA DZ FG+ BR', 'RA DZ FG+ BR HZ',\n",
       "       'TSRA FG+ BR HZ', 'RA BR VCFG', 'TS RA BR HZ', 'BCFG BR',\n",
       "       'RA SN BR'], dtype=object)"
      ]
     },
     "execution_count": 77,
     "metadata": {},
     "output_type": "execute_result"
    }
   ],
   "source": [
    "weather_data.CodeSum.unique()"
   ]
  },
  {
   "cell_type": "markdown",
   "id": "c7ffc3be",
   "metadata": {},
   "source": [
    "This isn't going to be a nightmare to deal, with. Fortunatelty we can do this step by step. First we need to split the information by adding spaces where it is needed. As seen above, some codes are in 4 letter strings, which when reviewing documentation from NOAA, does not exist. Then we will turn it categorical. However, many of these codes imply similiar weather types so we will also be converging some of these into the same categories."
   ]
  },
  {
   "cell_type": "code",
   "execution_count": 78,
   "id": "ea10f4ec",
   "metadata": {},
   "outputs": [],
   "source": [
    "# Splitting\n",
    "\n",
    "codes = ['+FC','FC', 'TS', 'GR', 'RA', 'DZ', 'SN', 'SG', 'GS', 'PL',\n",
    "         'IC', 'FG+', 'FG', 'BR', 'UP', 'HZ', 'FU', 'VA', 'DU', 'DS',\n",
    "         'PO', 'SA', 'SS', 'PY', 'SQ', 'DR', 'SH', 'FZ', 'MI', 'PR',\n",
    "         'BC', 'BL', 'VC']\n",
    "\n",
    "weather_data.CodeSum = weather_data.CodeSum.apply(lambda x: ' '.join([t for t in x.split(' ') if t in codes]))"
   ]
  },
  {
   "cell_type": "markdown",
   "id": "00b8f2af",
   "metadata": {},
   "source": [
    "NOAA codes:\n",
    "\n",
    "* +FC TORNADO/WATERSPOUT\n",
    "* FC FUNNEL CLOUD\n",
    "* TS THUNDERSTORM\n",
    "* GR HAIL\n",
    "* RA RAIN \n",
    "* DZ DRIZZLE\n",
    "* SN SNOW\n",
    "* SG SNOW GRAINS\n",
    "* GS SMALL HAIL &/OR SNOW PELLETS\n",
    "* PL ICE PELLETS\n",
    "* IC ICE CRYSTALS\n",
    "* FG+ HEAVY FOG (FG & LE.25 MILES VISIBILITY)\n",
    "* FG FOG\n",
    "* BR MIST\n",
    "* UP UNKNOWN PRECIPITATION\n",
    "* HZ HAZE\n",
    "* FU SMOKE\n",
    "* VA VOLCANIC ASH\n",
    "* DU WIDESPREAD DUST\n",
    "* DS DUSTSTORM\n",
    "* PO SAND/DUST WHIRLS\n",
    "* SA SAND\n",
    "* SS SANDSTORM\n",
    "* PY SPRAY\n",
    "* SQ SQUALL\n",
    "* DR LOW DRIFTING\n",
    "* SH SHOWER\n",
    "* FZ FREEZING\n",
    "* MI SHALLOW\n",
    "* PR PARTIAL\n",
    "* BC PATCHES\n",
    "* BL BLOWING\n",
    "* VC VICINITY\n",
    "* - LIGHT\n",
    "* + HEAVY\n",
    "* \"NO SIGN\" MODERATE \n",
    "\n",
    "Water is water and Ice is ice. Following some tips found elsewhere and wholely based on opinion for the moment, we will make larger buckets for these to fit into"
   ]
  },
  {
   "cell_type": "code",
   "execution_count": 79,
   "id": "6787b0fb",
   "metadata": {},
   "outputs": [],
   "source": [
    "# The split\n",
    "weather_data['split_codesum'] = weather_data['CodeSum'].apply(lambda x: len(x.split()))\n",
    "\n",
    "# The Buckets\n",
    "snow = ['SN', 'SG', 'GS', 'PL', 'IC', 'DR', 'BC']\n",
    "wind = ['SQ', 'DS', 'SS', 'PO', 'BL']\n",
    "rain = ['TS', 'GR', 'RA', 'DZ', 'SH']\n",
    "low_vis = ['FG+', 'FG', 'BR', 'HZ']\n",
    "other = ['UP', 'VA', 'DU', 'SA', 'FZ']\n",
    "\n",
    "# Bucketification\n",
    "def codesum_buckets(row):\n",
    "    codes = row['CodeSum'].split()\n",
    "    \n",
    "    # Check for weather conditions\n",
    "    if any(code in codes for code in snow):\n",
    "        row['snow'] = 1\n",
    "    if any(code in codes for code in wind):\n",
    "        row['wind'] = 1 \n",
    "    if any(code in codes for code in rain):\n",
    "        row['rain'] = 1 \n",
    "    if any(code in codes for code in low_vis):\n",
    "        row['low_vis'] = 1\n",
    "    if any(code in codes for code in other):\n",
    "        row['other'] = 1\n",
    "        \n",
    "    return row\n",
    "\n",
    "weather_data = weather_data.apply(codesum_buckets, axis=1)"
   ]
  },
  {
   "cell_type": "code",
   "execution_count": 80,
   "id": "8b8b5246",
   "metadata": {},
   "outputs": [
    {
     "data": {
      "text/plain": [
       "snow          6.0\n",
       "wind          3.0\n",
       "rain       1007.0\n",
       "low_vis     882.0\n",
       "dtype: float64"
      ]
     },
     "execution_count": 80,
     "metadata": {},
     "output_type": "execute_result"
    }
   ],
   "source": [
    "weather_data[['snow', 'wind', 'rain', 'low_vis']].sum()"
   ]
  },
  {
   "cell_type": "code",
   "execution_count": 81,
   "id": "d327634a",
   "metadata": {},
   "outputs": [
    {
     "data": {
      "text/plain": [
       "array([nan,  1.])"
      ]
     },
     "execution_count": 81,
     "metadata": {},
     "output_type": "execute_result"
    }
   ],
   "source": [
    "weather_data['snow'].unique()"
   ]
  },
  {
   "cell_type": "markdown",
   "id": "c54823a7",
   "metadata": {},
   "source": [
    "Normally I would assume everyone would already know the nan would be there, but in any case lets replace nan with 0"
   ]
  },
  {
   "cell_type": "code",
   "execution_count": 82,
   "id": "c7bf476e",
   "metadata": {},
   "outputs": [
    {
     "data": {
      "text/plain": [
       "array([0., 1.])"
      ]
     },
     "execution_count": 82,
     "metadata": {},
     "output_type": "execute_result"
    }
   ],
   "source": [
    "weather_data[['snow', 'wind', 'rain', 'low_vis']] = weather_data[['snow', 'wind', 'rain', 'low_vis']].fillna(0)\n",
    "weather_data['snow'].unique()"
   ]
  },
  {
   "cell_type": "code",
   "execution_count": 83,
   "id": "b502dd29",
   "metadata": {},
   "outputs": [
    {
     "data": {
      "text/plain": [
       "AvgSpeed         float64\n",
       "CodeSum           object\n",
       "Cool             float64\n",
       "Date              object\n",
       "DewPoint           int64\n",
       "Heat             float64\n",
       "PrecipTotal      float64\n",
       "ResultDir          int64\n",
       "ResultSpeed      float64\n",
       "SeaLevel         float64\n",
       "Station            int64\n",
       "StnPressure      float64\n",
       "Sunrise          float64\n",
       "Sunset           float64\n",
       "Tavg             float64\n",
       "Tmax               int64\n",
       "Tmin               int64\n",
       "WetBulb          float64\n",
       "low_vis          float64\n",
       "rain             float64\n",
       "snow             float64\n",
       "split_codesum      int64\n",
       "wind             float64\n",
       "dtype: object"
      ]
     },
     "execution_count": 83,
     "metadata": {},
     "output_type": "execute_result"
    }
   ],
   "source": [
    "weather_data.dtypes"
   ]
  },
  {
   "cell_type": "code",
   "execution_count": 84,
   "id": "674a93a9",
   "metadata": {},
   "outputs": [],
   "source": [
    "# Drop original CodeSum and according to convention, Snow and Wind have such a small count, it is better to remove those \n",
    "# apparantly. Also for whatever reason we have another extra col?\n",
    "\n",
    "weather_data = weather_data.drop('CodeSum', axis = 1)\n",
    "weather_data = weather_data.drop('snow', axis = 1)\n",
    "weather_data = weather_data.drop('wind', axis = 1)\n",
    "weather_data = weather_data.drop('split_codesum', axis = 1)"
   ]
  },
  {
   "cell_type": "markdown",
   "id": "de2ec0e9",
   "metadata": {},
   "source": [
    "#### 3.3.18 Final Check <a id='3.3.18_Final_Check'></a>"
   ]
  },
  {
   "cell_type": "code",
   "execution_count": 85,
   "id": "cf95fbe2",
   "metadata": {},
   "outputs": [
    {
     "data": {
      "text/html": [
       "<div>\n",
       "<style scoped>\n",
       "    .dataframe tbody tr th:only-of-type {\n",
       "        vertical-align: middle;\n",
       "    }\n",
       "\n",
       "    .dataframe tbody tr th {\n",
       "        vertical-align: top;\n",
       "    }\n",
       "\n",
       "    .dataframe thead th {\n",
       "        text-align: right;\n",
       "    }\n",
       "</style>\n",
       "<table border=\"1\" class=\"dataframe\">\n",
       "  <thead>\n",
       "    <tr style=\"text-align: right;\">\n",
       "      <th></th>\n",
       "      <th>count</th>\n",
       "      <th>%</th>\n",
       "    </tr>\n",
       "  </thead>\n",
       "  <tbody>\n",
       "    <tr>\n",
       "      <th>AvgSpeed</th>\n",
       "      <td>0</td>\n",
       "      <td>0.0</td>\n",
       "    </tr>\n",
       "    <tr>\n",
       "      <th>StnPressure</th>\n",
       "      <td>0</td>\n",
       "      <td>0.0</td>\n",
       "    </tr>\n",
       "    <tr>\n",
       "      <th>low_vis</th>\n",
       "      <td>0</td>\n",
       "      <td>0.0</td>\n",
       "    </tr>\n",
       "    <tr>\n",
       "      <th>WetBulb</th>\n",
       "      <td>0</td>\n",
       "      <td>0.0</td>\n",
       "    </tr>\n",
       "    <tr>\n",
       "      <th>Tmin</th>\n",
       "      <td>0</td>\n",
       "      <td>0.0</td>\n",
       "    </tr>\n",
       "    <tr>\n",
       "      <th>Tmax</th>\n",
       "      <td>0</td>\n",
       "      <td>0.0</td>\n",
       "    </tr>\n",
       "    <tr>\n",
       "      <th>Tavg</th>\n",
       "      <td>0</td>\n",
       "      <td>0.0</td>\n",
       "    </tr>\n",
       "    <tr>\n",
       "      <th>Sunset</th>\n",
       "      <td>0</td>\n",
       "      <td>0.0</td>\n",
       "    </tr>\n",
       "    <tr>\n",
       "      <th>Sunrise</th>\n",
       "      <td>0</td>\n",
       "      <td>0.0</td>\n",
       "    </tr>\n",
       "    <tr>\n",
       "      <th>Station</th>\n",
       "      <td>0</td>\n",
       "      <td>0.0</td>\n",
       "    </tr>\n",
       "    <tr>\n",
       "      <th>Cool</th>\n",
       "      <td>0</td>\n",
       "      <td>0.0</td>\n",
       "    </tr>\n",
       "    <tr>\n",
       "      <th>SeaLevel</th>\n",
       "      <td>0</td>\n",
       "      <td>0.0</td>\n",
       "    </tr>\n",
       "    <tr>\n",
       "      <th>ResultSpeed</th>\n",
       "      <td>0</td>\n",
       "      <td>0.0</td>\n",
       "    </tr>\n",
       "    <tr>\n",
       "      <th>ResultDir</th>\n",
       "      <td>0</td>\n",
       "      <td>0.0</td>\n",
       "    </tr>\n",
       "    <tr>\n",
       "      <th>PrecipTotal</th>\n",
       "      <td>0</td>\n",
       "      <td>0.0</td>\n",
       "    </tr>\n",
       "    <tr>\n",
       "      <th>Heat</th>\n",
       "      <td>0</td>\n",
       "      <td>0.0</td>\n",
       "    </tr>\n",
       "    <tr>\n",
       "      <th>DewPoint</th>\n",
       "      <td>0</td>\n",
       "      <td>0.0</td>\n",
       "    </tr>\n",
       "    <tr>\n",
       "      <th>Date</th>\n",
       "      <td>0</td>\n",
       "      <td>0.0</td>\n",
       "    </tr>\n",
       "    <tr>\n",
       "      <th>rain</th>\n",
       "      <td>0</td>\n",
       "      <td>0.0</td>\n",
       "    </tr>\n",
       "  </tbody>\n",
       "</table>\n",
       "</div>"
      ],
      "text/plain": [
       "             count    %\n",
       "AvgSpeed         0  0.0\n",
       "StnPressure      0  0.0\n",
       "low_vis          0  0.0\n",
       "WetBulb          0  0.0\n",
       "Tmin             0  0.0\n",
       "Tmax             0  0.0\n",
       "Tavg             0  0.0\n",
       "Sunset           0  0.0\n",
       "Sunrise          0  0.0\n",
       "Station          0  0.0\n",
       "Cool             0  0.0\n",
       "SeaLevel         0  0.0\n",
       "ResultSpeed      0  0.0\n",
       "ResultDir        0  0.0\n",
       "PrecipTotal      0  0.0\n",
       "Heat             0  0.0\n",
       "DewPoint         0  0.0\n",
       "Date             0  0.0\n",
       "rain             0  0.0"
      ]
     },
     "execution_count": 85,
     "metadata": {},
     "output_type": "execute_result"
    }
   ],
   "source": [
    "missing = pd.concat([weather_data.isnull().sum(), 100 * weather_data.isnull().mean()], axis=1)\n",
    "missing.columns=['count', '%']\n",
    "\n",
    "missing.sort_values(by='count',  ascending=False)"
   ]
  },
  {
   "cell_type": "markdown",
   "id": "ae691944",
   "metadata": {},
   "source": [
    "### 3.4 Relitive Humidity <a id='3.4_Relitive_Humidity'></a>"
   ]
  },
  {
   "cell_type": "markdown",
   "id": "6427df8e",
   "metadata": {},
   "source": [
    "Calculation Notes for relative humidity:\n",
    "\n",
    "Saturation Vapor Pressure :\n",
    "\n",
    "Temputure = T (in celsius) \n",
    "Dewpoint Temp = Td (in celsius)\n",
    "\n",
    "* es = 6.11E( ( 7.5 * T ) / ( 273.3 + T ) )  [eq. 1]\n",
    "\n",
    "Vapor Pressure :\n",
    "\n",
    "* e = 6.11E( ( 7.5 * Td ) / ( 273.3 + Td ) ) [eq. 2]\n",
    "\n",
    "Relative Humidity:\n",
    "\n",
    "* RH = ( e / es ) * 100 [eq. 3]\n",
    "\n",
    "F to C conversion:\n",
    "\n",
    "* C = ( F - 32 ) * ( 5 / 9 ) [eq. 4]"
   ]
  },
  {
   "cell_type": "markdown",
   "id": "37c6e169",
   "metadata": {},
   "source": [
    "Primary Sources:\n",
    "\n",
    "* https://www.weather.gov/media/epz/wxcalc/vaporPressure.pdf <-- primary for equations\n",
    "\n",
    "* https://www.ncbi.nlm.nih.gov/pmc/articles/PMC7068582/ <-- Journal concerning primary weather conditions\n",
    "\n",
    "* https://www.ncbi.nlm.nih.gov/pmc/articles/PMC3750695/ <-- specific study attempting to determine mathmatical formula based on weather\n",
    "\n",
    "Secondary Sources:\n",
    "\n",
    "* https://www.theweatherprediction.com/habyhints/186/\n",
    "\n",
    "* https://snowball.millersville.edu/~adecaria/ESCI241/esci241_lesson06_humidity.pdf\n",
    "\n",
    "* https://www.omnicalculator.com/chemistry/vapour-pressure-of-water"
   ]
  },
  {
   "cell_type": "markdown",
   "id": "9a47dd8a",
   "metadata": {},
   "source": [
    "#### 3.4.1 Convert to Celsius <a id='3.4.1_Convert_to_Celsius'></a>"
   ]
  },
  {
   "cell_type": "code",
   "execution_count": 86,
   "id": "ec26a3f1",
   "metadata": {},
   "outputs": [],
   "source": [
    "# Double check format, NOAA is in F not C, need to convert. Using equation #4\n",
    "\n",
    "weather_data['TmaxC'] = (weather_data['Tmax'] - 32) * (5/9)\n",
    "weather_data['TminC'] = (weather_data['Tmin'] - 32) * (5/9)\n",
    "weather_data['TavgC'] = (weather_data['Tavg'] - 32) * (5/9)\n",
    "weather_data['DewPointC'] = (weather_data['DewPoint'] - 32) * (5/9)"
   ]
  },
  {
   "cell_type": "code",
   "execution_count": 87,
   "id": "76dd8b15",
   "metadata": {},
   "outputs": [
    {
     "data": {
      "text/plain": [
       "0    28.333333\n",
       "1    28.888889\n",
       "2    15.000000\n",
       "3    15.555556\n",
       "4    18.888889\n",
       "Name: TmaxC, dtype: float64"
      ]
     },
     "execution_count": 87,
     "metadata": {},
     "output_type": "execute_result"
    }
   ],
   "source": [
    "weather_data.TmaxC.head()"
   ]
  },
  {
   "cell_type": "code",
   "execution_count": 88,
   "id": "6a813138",
   "metadata": {},
   "outputs": [
    {
     "data": {
      "text/plain": [
       "0    10.000000\n",
       "1    11.111111\n",
       "2     5.555556\n",
       "3     6.111111\n",
       "4     7.777778\n",
       "Name: TminC, dtype: float64"
      ]
     },
     "execution_count": 88,
     "metadata": {},
     "output_type": "execute_result"
    }
   ],
   "source": [
    "weather_data.TminC.head()"
   ]
  },
  {
   "cell_type": "code",
   "execution_count": 89,
   "id": "51ffd588",
   "metadata": {},
   "outputs": [
    {
     "data": {
      "text/plain": [
       "0    19.166667\n",
       "1    20.000000\n",
       "2    10.277778\n",
       "3    10.833333\n",
       "4    13.333333\n",
       "Name: TavgC, dtype: float64"
      ]
     },
     "execution_count": 89,
     "metadata": {},
     "output_type": "execute_result"
    }
   ],
   "source": [
    "weather_data.TavgC.head()"
   ]
  },
  {
   "cell_type": "code",
   "execution_count": 90,
   "id": "4d7bf85e",
   "metadata": {},
   "outputs": [
    {
     "data": {
      "text/plain": [
       "0    10.555556\n",
       "1    10.555556\n",
       "2     5.555556\n",
       "3     5.555556\n",
       "4     4.444444\n",
       "Name: DewPointC, dtype: float64"
      ]
     },
     "execution_count": 90,
     "metadata": {},
     "output_type": "execute_result"
    }
   ],
   "source": [
    "weather_data.DewPointC.head()"
   ]
  },
  {
   "cell_type": "markdown",
   "id": "7587a263",
   "metadata": {},
   "source": [
    "#### 3.4.2 Calculate Relative Humidity <a id='3.4.2_Calculate_Relative_Humidity'></a>"
   ]
  },
  {
   "cell_type": "code",
   "execution_count": 91,
   "id": "52f70534",
   "metadata": {},
   "outputs": [],
   "source": [
    "# See Equations #1, 2, and 3\n",
    "\n",
    "weather_data['RHmax'] =(( 6.11 ** ((7.5 * weather_data['DewPointC']) / (273.3 + weather_data['DewPointC']))) / 6.11 ** ((7.5 * weather_data['TmaxC'])/(273.3 + weather_data['TmaxC']))) * 100\n",
    "weather_data['RHmin'] =(( 6.11 ** ((7.5 * weather_data['DewPointC']) / (273.3 + weather_data['DewPointC']))) / 6.11 ** ((7.5 * weather_data['TminC'])/(273.3 + weather_data['TminC']))) * 100\n",
    "weather_data['RHavg'] =(( 6.11 ** ((7.5 * weather_data['DewPointC']) / (273.3 + weather_data['DewPointC']))) / 6.11 ** ((7.5 * weather_data['TavgC'])/(273.3 + weather_data['TavgC']))) * 100"
   ]
  },
  {
   "cell_type": "code",
   "execution_count": 92,
   "id": "1088ea34",
   "metadata": {},
   "outputs": [
    {
     "data": {
      "text/plain": [
       "0    46.287193\n",
       "1    45.252309\n",
       "2    64.672944\n",
       "3    63.091975\n",
       "4    51.668659\n",
       "Name: RHmax, dtype: float64"
      ]
     },
     "execution_count": 92,
     "metadata": {},
     "output_type": "execute_result"
    }
   ],
   "source": [
    "weather_data.RHmax.head()"
   ]
  },
  {
   "cell_type": "code",
   "execution_count": 93,
   "id": "dc07e430",
   "metadata": {},
   "outputs": [
    {
     "data": {
      "text/plain": [
       "0    102.596108\n",
       "1     97.479344\n",
       "2    100.000000\n",
       "3     97.389432\n",
       "4     85.350408\n",
       "Name: RHmin, dtype: float64"
      ]
     },
     "execution_count": 93,
     "metadata": {},
     "output_type": "execute_result"
    }
   ],
   "source": [
    "weather_data.RHmin.head()"
   ]
  },
  {
   "cell_type": "code",
   "execution_count": 94,
   "id": "c7bea1dc",
   "metadata": {},
   "outputs": [
    {
     "data": {
      "text/plain": [
       "0    68.057935\n",
       "1    65.648760\n",
       "2    80.128196\n",
       "3    78.104535\n",
       "4    66.085162\n",
       "Name: RHavg, dtype: float64"
      ]
     },
     "execution_count": 94,
     "metadata": {},
     "output_type": "execute_result"
    }
   ],
   "source": [
    "weather_data.RHavg.head()"
   ]
  },
  {
   "cell_type": "code",
   "execution_count": 95,
   "id": "7e05a1bd",
   "metadata": {},
   "outputs": [],
   "source": [
    "# Drop all the pesky faherinheit temps\n",
    "\n",
    "weather_data = weather_data.drop('Tmax', axis = 1)\n",
    "weather_data = weather_data.drop('Tmin', axis = 1)\n",
    "weather_data = weather_data.drop('Tavg', axis = 1)"
   ]
  },
  {
   "cell_type": "markdown",
   "id": "df2343a6",
   "metadata": {},
   "source": [
    "### 3.5 Stations, Dates & Format<a id='3.5_Stations'></a>"
   ]
  },
  {
   "cell_type": "markdown",
   "id": "2cb36dd4",
   "metadata": {},
   "source": [
    "Back tracking a bit. To properly use shift we need to seperate the stations and reformat some cols"
   ]
  },
  {
   "cell_type": "code",
   "execution_count": 96,
   "id": "b0b6c622",
   "metadata": {},
   "outputs": [
    {
     "data": {
      "text/plain": [
       "array([1, 2], dtype=int64)"
      ]
     },
     "execution_count": 96,
     "metadata": {},
     "output_type": "execute_result"
    }
   ],
   "source": [
    "weather_data.Station.unique()"
   ]
  },
  {
   "cell_type": "code",
   "execution_count": 97,
   "id": "47f074a4",
   "metadata": {},
   "outputs": [
    {
     "data": {
      "text/plain": [
       "0   2007-05-01\n",
       "1   2007-05-01\n",
       "2   2007-05-02\n",
       "3   2007-05-02\n",
       "4   2007-05-03\n",
       "Name: Date, dtype: datetime64[ns]"
      ]
     },
     "execution_count": 97,
     "metadata": {},
     "output_type": "execute_result"
    }
   ],
   "source": [
    "weather_data['Date'] = pd.to_datetime(weather_data.Date)\n",
    "weather_data['Date'].head()"
   ]
  },
  {
   "cell_type": "code",
   "execution_count": 98,
   "id": "ceb5d466",
   "metadata": {},
   "outputs": [
    {
     "data": {
      "text/plain": [
       "AvgSpeed              float64\n",
       "Cool                  float64\n",
       "Date           datetime64[ns]\n",
       "DewPoint                int64\n",
       "Heat                  float64\n",
       "PrecipTotal           float64\n",
       "ResultDir               int64\n",
       "ResultSpeed           float64\n",
       "SeaLevel              float64\n",
       "Station                 int64\n",
       "StnPressure           float64\n",
       "Sunrise               float64\n",
       "Sunset                float64\n",
       "WetBulb               float64\n",
       "low_vis               float64\n",
       "rain                  float64\n",
       "TmaxC                 float64\n",
       "TminC                 float64\n",
       "TavgC                 float64\n",
       "DewPointC             float64\n",
       "RHmax                 float64\n",
       "RHmin                 float64\n",
       "RHavg                 float64\n",
       "dtype: object"
      ]
     },
     "execution_count": 98,
     "metadata": {},
     "output_type": "execute_result"
    }
   ],
   "source": [
    "weather_data.dtypes"
   ]
  },
  {
   "cell_type": "code",
   "execution_count": 99,
   "id": "cce4f170",
   "metadata": {},
   "outputs": [
    {
     "data": {
      "text/plain": [
       "dtype('float64')"
      ]
     },
     "execution_count": 99,
     "metadata": {},
     "output_type": "execute_result"
    }
   ],
   "source": [
    "weather_data.PrecipTotal.dtypes"
   ]
  },
  {
   "cell_type": "code",
   "execution_count": 100,
   "id": "74c31a13",
   "metadata": {},
   "outputs": [
    {
     "data": {
      "text/html": [
       "<div>\n",
       "<style scoped>\n",
       "    .dataframe tbody tr th:only-of-type {\n",
       "        vertical-align: middle;\n",
       "    }\n",
       "\n",
       "    .dataframe tbody tr th {\n",
       "        vertical-align: top;\n",
       "    }\n",
       "\n",
       "    .dataframe thead th {\n",
       "        text-align: right;\n",
       "    }\n",
       "</style>\n",
       "<table border=\"1\" class=\"dataframe\">\n",
       "  <thead>\n",
       "    <tr style=\"text-align: right;\">\n",
       "      <th></th>\n",
       "      <th>AvgSpeed</th>\n",
       "      <th>Cool</th>\n",
       "      <th>Date</th>\n",
       "      <th>DewPoint</th>\n",
       "      <th>Heat</th>\n",
       "      <th>PrecipTotal</th>\n",
       "      <th>ResultDir</th>\n",
       "      <th>ResultSpeed</th>\n",
       "      <th>SeaLevel</th>\n",
       "      <th>Station</th>\n",
       "      <th>...</th>\n",
       "      <th>WetBulb</th>\n",
       "      <th>low_vis</th>\n",
       "      <th>rain</th>\n",
       "      <th>TmaxC</th>\n",
       "      <th>TminC</th>\n",
       "      <th>TavgC</th>\n",
       "      <th>DewPointC</th>\n",
       "      <th>RHmax</th>\n",
       "      <th>RHmin</th>\n",
       "      <th>RHavg</th>\n",
       "    </tr>\n",
       "  </thead>\n",
       "  <tbody>\n",
       "    <tr>\n",
       "      <th>0</th>\n",
       "      <td>9.2</td>\n",
       "      <td>2.0</td>\n",
       "      <td>2007-05-01</td>\n",
       "      <td>51</td>\n",
       "      <td>0.0</td>\n",
       "      <td>0.000</td>\n",
       "      <td>27</td>\n",
       "      <td>1.7</td>\n",
       "      <td>29.82</td>\n",
       "      <td>1</td>\n",
       "      <td>...</td>\n",
       "      <td>56.0</td>\n",
       "      <td>0.0</td>\n",
       "      <td>0.0</td>\n",
       "      <td>28.333333</td>\n",
       "      <td>10.000000</td>\n",
       "      <td>19.166667</td>\n",
       "      <td>10.555556</td>\n",
       "      <td>46.287193</td>\n",
       "      <td>102.596108</td>\n",
       "      <td>68.057935</td>\n",
       "    </tr>\n",
       "    <tr>\n",
       "      <th>1</th>\n",
       "      <td>13.4</td>\n",
       "      <td>0.0</td>\n",
       "      <td>2007-05-02</td>\n",
       "      <td>42</td>\n",
       "      <td>14.0</td>\n",
       "      <td>0.000</td>\n",
       "      <td>4</td>\n",
       "      <td>13.0</td>\n",
       "      <td>30.09</td>\n",
       "      <td>1</td>\n",
       "      <td>...</td>\n",
       "      <td>47.0</td>\n",
       "      <td>1.0</td>\n",
       "      <td>0.0</td>\n",
       "      <td>15.000000</td>\n",
       "      <td>5.555556</td>\n",
       "      <td>10.277778</td>\n",
       "      <td>5.555556</td>\n",
       "      <td>64.672944</td>\n",
       "      <td>100.000000</td>\n",
       "      <td>80.128196</td>\n",
       "    </tr>\n",
       "    <tr>\n",
       "      <th>2</th>\n",
       "      <td>11.9</td>\n",
       "      <td>0.0</td>\n",
       "      <td>2007-05-03</td>\n",
       "      <td>40</td>\n",
       "      <td>9.0</td>\n",
       "      <td>0.000</td>\n",
       "      <td>7</td>\n",
       "      <td>11.7</td>\n",
       "      <td>30.12</td>\n",
       "      <td>1</td>\n",
       "      <td>...</td>\n",
       "      <td>48.0</td>\n",
       "      <td>0.0</td>\n",
       "      <td>0.0</td>\n",
       "      <td>18.888889</td>\n",
       "      <td>7.777778</td>\n",
       "      <td>13.333333</td>\n",
       "      <td>4.444444</td>\n",
       "      <td>51.668659</td>\n",
       "      <td>85.350408</td>\n",
       "      <td>66.085162</td>\n",
       "    </tr>\n",
       "    <tr>\n",
       "      <th>3</th>\n",
       "      <td>10.8</td>\n",
       "      <td>0.0</td>\n",
       "      <td>2007-05-04</td>\n",
       "      <td>41</td>\n",
       "      <td>7.0</td>\n",
       "      <td>0.001</td>\n",
       "      <td>8</td>\n",
       "      <td>10.4</td>\n",
       "      <td>30.05</td>\n",
       "      <td>1</td>\n",
       "      <td>...</td>\n",
       "      <td>50.0</td>\n",
       "      <td>0.0</td>\n",
       "      <td>1.0</td>\n",
       "      <td>18.888889</td>\n",
       "      <td>9.444444</td>\n",
       "      <td>14.166667</td>\n",
       "      <td>5.000000</td>\n",
       "      <td>53.064901</td>\n",
       "      <td>81.095518</td>\n",
       "      <td>65.371623</td>\n",
       "    </tr>\n",
       "    <tr>\n",
       "      <th>4</th>\n",
       "      <td>12.0</td>\n",
       "      <td>0.0</td>\n",
       "      <td>2007-05-05</td>\n",
       "      <td>38</td>\n",
       "      <td>5.0</td>\n",
       "      <td>0.001</td>\n",
       "      <td>7</td>\n",
       "      <td>11.7</td>\n",
       "      <td>30.10</td>\n",
       "      <td>1</td>\n",
       "      <td>...</td>\n",
       "      <td>49.0</td>\n",
       "      <td>0.0</td>\n",
       "      <td>0.0</td>\n",
       "      <td>18.888889</td>\n",
       "      <td>11.666667</td>\n",
       "      <td>15.277778</td>\n",
       "      <td>3.333333</td>\n",
       "      <td>48.969684</td>\n",
       "      <td>67.558455</td>\n",
       "      <td>57.402276</td>\n",
       "    </tr>\n",
       "  </tbody>\n",
       "</table>\n",
       "<p>5 rows × 23 columns</p>\n",
       "</div>"
      ],
      "text/plain": [
       "   AvgSpeed  Cool       Date  DewPoint  Heat  PrecipTotal  ResultDir  \\\n",
       "0       9.2   2.0 2007-05-01        51   0.0        0.000         27   \n",
       "1      13.4   0.0 2007-05-02        42  14.0        0.000          4   \n",
       "2      11.9   0.0 2007-05-03        40   9.0        0.000          7   \n",
       "3      10.8   0.0 2007-05-04        41   7.0        0.001          8   \n",
       "4      12.0   0.0 2007-05-05        38   5.0        0.001          7   \n",
       "\n",
       "   ResultSpeed  SeaLevel  Station  ...  WetBulb  low_vis  rain      TmaxC  \\\n",
       "0          1.7     29.82        1  ...     56.0      0.0   0.0  28.333333   \n",
       "1         13.0     30.09        1  ...     47.0      1.0   0.0  15.000000   \n",
       "2         11.7     30.12        1  ...     48.0      0.0   0.0  18.888889   \n",
       "3         10.4     30.05        1  ...     50.0      0.0   1.0  18.888889   \n",
       "4         11.7     30.10        1  ...     49.0      0.0   0.0  18.888889   \n",
       "\n",
       "       TminC      TavgC  DewPointC      RHmax       RHmin      RHavg  \n",
       "0  10.000000  19.166667  10.555556  46.287193  102.596108  68.057935  \n",
       "1   5.555556  10.277778   5.555556  64.672944  100.000000  80.128196  \n",
       "2   7.777778  13.333333   4.444444  51.668659   85.350408  66.085162  \n",
       "3   9.444444  14.166667   5.000000  53.064901   81.095518  65.371623  \n",
       "4  11.666667  15.277778   3.333333  48.969684   67.558455  57.402276  \n",
       "\n",
       "[5 rows x 23 columns]"
      ]
     },
     "execution_count": 100,
     "metadata": {},
     "output_type": "execute_result"
    }
   ],
   "source": [
    "station1 = weather_data[weather_data['Station'] == 1]\n",
    "station1.reset_index(drop=True, inplace=True)\n",
    "station2 = weather_data[weather_data['Station'] == 2]\n",
    "station2.reset_index(drop=True, inplace=True)\n",
    "station1.head()"
   ]
  },
  {
   "cell_type": "markdown",
   "id": "79703147",
   "metadata": {},
   "source": [
    "### 3.6 Shift Values<a id='3.6_Shift_Values'></a>"
   ]
  },
  {
   "cell_type": "markdown",
   "id": "b9430fa1",
   "metadata": {},
   "source": [
    "Use shift function to create lag variables\n",
    "\n",
    "Incubation Length Sources:\n",
    "* https://www.cdc.gov/dengue/resources/factsheets/mosquitolifecyclefinal.pdf\n",
    "\n",
    "Key Takeaways:\n",
    "* The entire life cycle, from an egg to an adult, takes approximately 8-10 days\n",
    "* Eggs are ready to hatch from a few days to several months after being laid.\n",
    "\n",
    "Research to be done:\n",
    "* Cx. restuans can develop from egg to adult in about 10 days\n",
    "* Life Cycle of Culex Species Mosquitoes: It takes about 7-10 days for an egg to develop into an adult mosquito.\n",
    "\n",
    "https://pubmed.ncbi.nlm.nih.gov/25284257/:\n",
    "The common house mosquito, Culex pipiens (Diptera: Culicidae), which is considered the primary bridge vector of West Nile Virus (WNV) to humans, is a wide spread insect pest with medical importance and consists of two distinct bioforms, Cx. pipiens f. pipiens and Cx. pipiens f. molestus. Here, we consider the adult lifespan of male and female Cx. pipiens f. pipiens under controlled conditions at five constant temperature regimes (15, 20, 25, 27.5, and 30 °C). Our results show that adult longevity was affected by temperature, as it significantly decreased with increase in temperature. At the highest tested temperature, mean adult longevity did not exceed 12 days for both sexes and thus makes impossible the risk of WNV transmission. On the other hand at the lowest temperature, longevity was extremely high with some individuals surviving up to 129 and 132 days, males and females, respectively, and thus enable them to function as potential vectors of WNV for a prolonged period of time."
   ]
  },
  {
   "cell_type": "markdown",
   "id": "eafe2fe8",
   "metadata": {},
   "source": [
    "#### 3.6.1 Station Seperation<a id='3.6.1_Station_Seperation'></a>"
   ]
  },
  {
   "cell_type": "code",
   "execution_count": 101,
   "id": "5008555f",
   "metadata": {},
   "outputs": [
    {
     "data": {
      "text/html": [
       "<div>\n",
       "<style scoped>\n",
       "    .dataframe tbody tr th:only-of-type {\n",
       "        vertical-align: middle;\n",
       "    }\n",
       "\n",
       "    .dataframe tbody tr th {\n",
       "        vertical-align: top;\n",
       "    }\n",
       "\n",
       "    .dataframe thead th {\n",
       "        text-align: right;\n",
       "    }\n",
       "</style>\n",
       "<table border=\"1\" class=\"dataframe\">\n",
       "  <thead>\n",
       "    <tr style=\"text-align: right;\">\n",
       "      <th></th>\n",
       "      <th>Week</th>\n",
       "      <th>Year</th>\n",
       "    </tr>\n",
       "    <tr>\n",
       "      <th>Date</th>\n",
       "      <th></th>\n",
       "      <th></th>\n",
       "    </tr>\n",
       "  </thead>\n",
       "  <tbody>\n",
       "    <tr>\n",
       "      <th>2007-05-01</th>\n",
       "      <td>18</td>\n",
       "      <td>2007</td>\n",
       "    </tr>\n",
       "    <tr>\n",
       "      <th>2007-05-02</th>\n",
       "      <td>18</td>\n",
       "      <td>2007</td>\n",
       "    </tr>\n",
       "    <tr>\n",
       "      <th>2007-05-03</th>\n",
       "      <td>18</td>\n",
       "      <td>2007</td>\n",
       "    </tr>\n",
       "    <tr>\n",
       "      <th>2007-05-04</th>\n",
       "      <td>18</td>\n",
       "      <td>2007</td>\n",
       "    </tr>\n",
       "    <tr>\n",
       "      <th>2007-05-05</th>\n",
       "      <td>18</td>\n",
       "      <td>2007</td>\n",
       "    </tr>\n",
       "  </tbody>\n",
       "</table>\n",
       "</div>"
      ],
      "text/plain": [
       "            Week  Year\n",
       "Date                  \n",
       "2007-05-01    18  2007\n",
       "2007-05-02    18  2007\n",
       "2007-05-03    18  2007\n",
       "2007-05-04    18  2007\n",
       "2007-05-05    18  2007"
      ]
     },
     "execution_count": 101,
     "metadata": {},
     "output_type": "execute_result"
    }
   ],
   "source": [
    "# Save the original Date Col for later\n",
    "date_col = pd.DataFrame(station1['Date'])\n",
    "date_col['Week'] = (date_col['Date'].dt.strftime('%W')).astype(int)\n",
    "date_col['Year'] = (date_col['Date'].dt.strftime('%Y')).astype(int)\n",
    "date_col.set_index(date_col['Date'], inplace=True)\n",
    "date_col = date_col.drop('Date', axis = 1)\n",
    "date_col.head()"
   ]
  },
  {
   "cell_type": "code",
   "execution_count": 102,
   "id": "f83e8f95",
   "metadata": {},
   "outputs": [
    {
     "data": {
      "text/plain": [
       "(1472, 2)"
      ]
     },
     "execution_count": 102,
     "metadata": {},
     "output_type": "execute_result"
    }
   ],
   "source": [
    "date_col.shape"
   ]
  },
  {
   "cell_type": "code",
   "execution_count": 103,
   "id": "1579d20a",
   "metadata": {},
   "outputs": [
    {
     "data": {
      "text/html": [
       "<div>\n",
       "<style scoped>\n",
       "    .dataframe tbody tr th:only-of-type {\n",
       "        vertical-align: middle;\n",
       "    }\n",
       "\n",
       "    .dataframe tbody tr th {\n",
       "        vertical-align: top;\n",
       "    }\n",
       "\n",
       "    .dataframe thead th {\n",
       "        text-align: right;\n",
       "    }\n",
       "</style>\n",
       "<table border=\"1\" class=\"dataframe\">\n",
       "  <thead>\n",
       "    <tr style=\"text-align: right;\">\n",
       "      <th></th>\n",
       "      <th>AvgSpeed</th>\n",
       "      <th>Cool</th>\n",
       "      <th>Date</th>\n",
       "      <th>DewPoint</th>\n",
       "      <th>Heat</th>\n",
       "      <th>PrecipTotal</th>\n",
       "      <th>ResultDir</th>\n",
       "      <th>ResultSpeed</th>\n",
       "      <th>SeaLevel</th>\n",
       "      <th>Station</th>\n",
       "      <th>...</th>\n",
       "      <th>WetBulb</th>\n",
       "      <th>low_vis</th>\n",
       "      <th>rain</th>\n",
       "      <th>TmaxC</th>\n",
       "      <th>TminC</th>\n",
       "      <th>TavgC</th>\n",
       "      <th>DewPointC</th>\n",
       "      <th>RHmax</th>\n",
       "      <th>RHmin</th>\n",
       "      <th>RHavg</th>\n",
       "    </tr>\n",
       "  </thead>\n",
       "  <tbody>\n",
       "    <tr>\n",
       "      <th>0</th>\n",
       "      <td>9.6</td>\n",
       "      <td>3.000000</td>\n",
       "      <td>2007-05-01</td>\n",
       "      <td>51</td>\n",
       "      <td>0.000000</td>\n",
       "      <td>0.000</td>\n",
       "      <td>25</td>\n",
       "      <td>2.7</td>\n",
       "      <td>29.82</td>\n",
       "      <td>2</td>\n",
       "      <td>...</td>\n",
       "      <td>57.0</td>\n",
       "      <td>0.0</td>\n",
       "      <td>0.0</td>\n",
       "      <td>28.888889</td>\n",
       "      <td>11.111111</td>\n",
       "      <td>20.000000</td>\n",
       "      <td>10.555556</td>\n",
       "      <td>45.252309</td>\n",
       "      <td>97.479344</td>\n",
       "      <td>65.648760</td>\n",
       "    </tr>\n",
       "    <tr>\n",
       "      <th>1</th>\n",
       "      <td>13.4</td>\n",
       "      <td>0.000000</td>\n",
       "      <td>2007-05-02</td>\n",
       "      <td>42</td>\n",
       "      <td>13.000000</td>\n",
       "      <td>0.000</td>\n",
       "      <td>2</td>\n",
       "      <td>13.3</td>\n",
       "      <td>30.08</td>\n",
       "      <td>2</td>\n",
       "      <td>...</td>\n",
       "      <td>47.0</td>\n",
       "      <td>1.0</td>\n",
       "      <td>0.0</td>\n",
       "      <td>15.555556</td>\n",
       "      <td>6.111111</td>\n",
       "      <td>10.833333</td>\n",
       "      <td>5.555556</td>\n",
       "      <td>63.091975</td>\n",
       "      <td>97.389432</td>\n",
       "      <td>78.104535</td>\n",
       "    </tr>\n",
       "    <tr>\n",
       "      <th>2</th>\n",
       "      <td>13.2</td>\n",
       "      <td>0.000000</td>\n",
       "      <td>2007-05-03</td>\n",
       "      <td>40</td>\n",
       "      <td>7.000000</td>\n",
       "      <td>0.000</td>\n",
       "      <td>6</td>\n",
       "      <td>12.9</td>\n",
       "      <td>30.12</td>\n",
       "      <td>2</td>\n",
       "      <td>...</td>\n",
       "      <td>50.0</td>\n",
       "      <td>1.0</td>\n",
       "      <td>0.0</td>\n",
       "      <td>19.444444</td>\n",
       "      <td>8.888889</td>\n",
       "      <td>14.166667</td>\n",
       "      <td>4.444444</td>\n",
       "      <td>50.438553</td>\n",
       "      <td>81.028035</td>\n",
       "      <td>63.651566</td>\n",
       "    </tr>\n",
       "    <tr>\n",
       "      <th>3</th>\n",
       "      <td>10.4</td>\n",
       "      <td>5.647119</td>\n",
       "      <td>2007-05-04</td>\n",
       "      <td>42</td>\n",
       "      <td>3.407092</td>\n",
       "      <td>0.000</td>\n",
       "      <td>7</td>\n",
       "      <td>10.1</td>\n",
       "      <td>30.04</td>\n",
       "      <td>2</td>\n",
       "      <td>...</td>\n",
       "      <td>50.0</td>\n",
       "      <td>0.0</td>\n",
       "      <td>0.0</td>\n",
       "      <td>25.555556</td>\n",
       "      <td>10.555556</td>\n",
       "      <td>18.055556</td>\n",
       "      <td>5.555556</td>\n",
       "      <td>41.052005</td>\n",
       "      <td>79.108905</td>\n",
       "      <td>56.508408</td>\n",
       "    </tr>\n",
       "    <tr>\n",
       "      <th>4</th>\n",
       "      <td>11.5</td>\n",
       "      <td>0.000000</td>\n",
       "      <td>2007-05-05</td>\n",
       "      <td>39</td>\n",
       "      <td>5.000000</td>\n",
       "      <td>0.001</td>\n",
       "      <td>7</td>\n",
       "      <td>11.2</td>\n",
       "      <td>30.09</td>\n",
       "      <td>2</td>\n",
       "      <td>...</td>\n",
       "      <td>50.0</td>\n",
       "      <td>0.0</td>\n",
       "      <td>0.0</td>\n",
       "      <td>18.888889</td>\n",
       "      <td>12.222222</td>\n",
       "      <td>15.555556</td>\n",
       "      <td>3.888889</td>\n",
       "      <td>50.303777</td>\n",
       "      <td>67.663087</td>\n",
       "      <td>58.241603</td>\n",
       "    </tr>\n",
       "  </tbody>\n",
       "</table>\n",
       "<p>5 rows × 23 columns</p>\n",
       "</div>"
      ],
      "text/plain": [
       "   AvgSpeed      Cool       Date  DewPoint       Heat  PrecipTotal  ResultDir  \\\n",
       "0       9.6  3.000000 2007-05-01        51   0.000000        0.000         25   \n",
       "1      13.4  0.000000 2007-05-02        42  13.000000        0.000          2   \n",
       "2      13.2  0.000000 2007-05-03        40   7.000000        0.000          6   \n",
       "3      10.4  5.647119 2007-05-04        42   3.407092        0.000          7   \n",
       "4      11.5  0.000000 2007-05-05        39   5.000000        0.001          7   \n",
       "\n",
       "   ResultSpeed  SeaLevel  Station  ...  WetBulb  low_vis  rain      TmaxC  \\\n",
       "0          2.7     29.82        2  ...     57.0      0.0   0.0  28.888889   \n",
       "1         13.3     30.08        2  ...     47.0      1.0   0.0  15.555556   \n",
       "2         12.9     30.12        2  ...     50.0      1.0   0.0  19.444444   \n",
       "3         10.1     30.04        2  ...     50.0      0.0   0.0  25.555556   \n",
       "4         11.2     30.09        2  ...     50.0      0.0   0.0  18.888889   \n",
       "\n",
       "       TminC      TavgC  DewPointC      RHmax      RHmin      RHavg  \n",
       "0  11.111111  20.000000  10.555556  45.252309  97.479344  65.648760  \n",
       "1   6.111111  10.833333   5.555556  63.091975  97.389432  78.104535  \n",
       "2   8.888889  14.166667   4.444444  50.438553  81.028035  63.651566  \n",
       "3  10.555556  18.055556   5.555556  41.052005  79.108905  56.508408  \n",
       "4  12.222222  15.555556   3.888889  50.303777  67.663087  58.241603  \n",
       "\n",
       "[5 rows x 23 columns]"
      ]
     },
     "execution_count": 103,
     "metadata": {},
     "output_type": "execute_result"
    }
   ],
   "source": [
    "station2.head()"
   ]
  },
  {
   "cell_type": "markdown",
   "id": "bd7d6558",
   "metadata": {},
   "source": [
    "#### 3.6.2 Shifting<a id='3.6.2_Station_Seperation'></a>"
   ]
  },
  {
   "cell_type": "code",
   "execution_count": 104,
   "id": "d487c5da",
   "metadata": {},
   "outputs": [],
   "source": [
    "#remove date for now\n",
    "station1 = station1.drop(['Date'], axis = 1)\n",
    "station2 = station2.drop(['Date'], axis = 1)"
   ]
  },
  {
   "cell_type": "code",
   "execution_count": 105,
   "id": "bf9dd345",
   "metadata": {},
   "outputs": [
    {
     "data": {
      "text/html": [
       "<div>\n",
       "<style scoped>\n",
       "    .dataframe tbody tr th:only-of-type {\n",
       "        vertical-align: middle;\n",
       "    }\n",
       "\n",
       "    .dataframe tbody tr th {\n",
       "        vertical-align: top;\n",
       "    }\n",
       "\n",
       "    .dataframe thead th {\n",
       "        text-align: right;\n",
       "    }\n",
       "</style>\n",
       "<table border=\"1\" class=\"dataframe\">\n",
       "  <thead>\n",
       "    <tr style=\"text-align: right;\">\n",
       "      <th></th>\n",
       "      <th>AvgSpeed</th>\n",
       "      <th>Cool</th>\n",
       "      <th>DewPoint</th>\n",
       "      <th>Heat</th>\n",
       "      <th>PrecipTotal</th>\n",
       "      <th>ResultDir</th>\n",
       "      <th>ResultSpeed</th>\n",
       "      <th>SeaLevel</th>\n",
       "      <th>Station</th>\n",
       "      <th>StnPressure</th>\n",
       "      <th>...</th>\n",
       "      <th>WetBulb</th>\n",
       "      <th>low_vis</th>\n",
       "      <th>rain</th>\n",
       "      <th>TmaxC</th>\n",
       "      <th>TminC</th>\n",
       "      <th>TavgC</th>\n",
       "      <th>DewPointC</th>\n",
       "      <th>RHmax</th>\n",
       "      <th>RHmin</th>\n",
       "      <th>RHavg</th>\n",
       "    </tr>\n",
       "  </thead>\n",
       "  <tbody>\n",
       "    <tr>\n",
       "      <th>0</th>\n",
       "      <td>NaN</td>\n",
       "      <td>NaN</td>\n",
       "      <td>NaN</td>\n",
       "      <td>NaN</td>\n",
       "      <td>NaN</td>\n",
       "      <td>NaN</td>\n",
       "      <td>NaN</td>\n",
       "      <td>NaN</td>\n",
       "      <td>NaN</td>\n",
       "      <td>NaN</td>\n",
       "      <td>...</td>\n",
       "      <td>NaN</td>\n",
       "      <td>NaN</td>\n",
       "      <td>NaN</td>\n",
       "      <td>NaN</td>\n",
       "      <td>NaN</td>\n",
       "      <td>NaN</td>\n",
       "      <td>NaN</td>\n",
       "      <td>NaN</td>\n",
       "      <td>NaN</td>\n",
       "      <td>NaN</td>\n",
       "    </tr>\n",
       "    <tr>\n",
       "      <th>1</th>\n",
       "      <td>NaN</td>\n",
       "      <td>NaN</td>\n",
       "      <td>NaN</td>\n",
       "      <td>NaN</td>\n",
       "      <td>NaN</td>\n",
       "      <td>NaN</td>\n",
       "      <td>NaN</td>\n",
       "      <td>NaN</td>\n",
       "      <td>NaN</td>\n",
       "      <td>NaN</td>\n",
       "      <td>...</td>\n",
       "      <td>NaN</td>\n",
       "      <td>NaN</td>\n",
       "      <td>NaN</td>\n",
       "      <td>NaN</td>\n",
       "      <td>NaN</td>\n",
       "      <td>NaN</td>\n",
       "      <td>NaN</td>\n",
       "      <td>NaN</td>\n",
       "      <td>NaN</td>\n",
       "      <td>NaN</td>\n",
       "    </tr>\n",
       "    <tr>\n",
       "      <th>2</th>\n",
       "      <td>NaN</td>\n",
       "      <td>NaN</td>\n",
       "      <td>NaN</td>\n",
       "      <td>NaN</td>\n",
       "      <td>NaN</td>\n",
       "      <td>NaN</td>\n",
       "      <td>NaN</td>\n",
       "      <td>NaN</td>\n",
       "      <td>NaN</td>\n",
       "      <td>NaN</td>\n",
       "      <td>...</td>\n",
       "      <td>NaN</td>\n",
       "      <td>NaN</td>\n",
       "      <td>NaN</td>\n",
       "      <td>NaN</td>\n",
       "      <td>NaN</td>\n",
       "      <td>NaN</td>\n",
       "      <td>NaN</td>\n",
       "      <td>NaN</td>\n",
       "      <td>NaN</td>\n",
       "      <td>NaN</td>\n",
       "    </tr>\n",
       "    <tr>\n",
       "      <th>3</th>\n",
       "      <td>NaN</td>\n",
       "      <td>NaN</td>\n",
       "      <td>NaN</td>\n",
       "      <td>NaN</td>\n",
       "      <td>NaN</td>\n",
       "      <td>NaN</td>\n",
       "      <td>NaN</td>\n",
       "      <td>NaN</td>\n",
       "      <td>NaN</td>\n",
       "      <td>NaN</td>\n",
       "      <td>...</td>\n",
       "      <td>NaN</td>\n",
       "      <td>NaN</td>\n",
       "      <td>NaN</td>\n",
       "      <td>NaN</td>\n",
       "      <td>NaN</td>\n",
       "      <td>NaN</td>\n",
       "      <td>NaN</td>\n",
       "      <td>NaN</td>\n",
       "      <td>NaN</td>\n",
       "      <td>NaN</td>\n",
       "    </tr>\n",
       "    <tr>\n",
       "      <th>4</th>\n",
       "      <td>NaN</td>\n",
       "      <td>NaN</td>\n",
       "      <td>NaN</td>\n",
       "      <td>NaN</td>\n",
       "      <td>NaN</td>\n",
       "      <td>NaN</td>\n",
       "      <td>NaN</td>\n",
       "      <td>NaN</td>\n",
       "      <td>NaN</td>\n",
       "      <td>NaN</td>\n",
       "      <td>...</td>\n",
       "      <td>NaN</td>\n",
       "      <td>NaN</td>\n",
       "      <td>NaN</td>\n",
       "      <td>NaN</td>\n",
       "      <td>NaN</td>\n",
       "      <td>NaN</td>\n",
       "      <td>NaN</td>\n",
       "      <td>NaN</td>\n",
       "      <td>NaN</td>\n",
       "      <td>NaN</td>\n",
       "    </tr>\n",
       "    <tr>\n",
       "      <th>5</th>\n",
       "      <td>NaN</td>\n",
       "      <td>NaN</td>\n",
       "      <td>NaN</td>\n",
       "      <td>NaN</td>\n",
       "      <td>NaN</td>\n",
       "      <td>NaN</td>\n",
       "      <td>NaN</td>\n",
       "      <td>NaN</td>\n",
       "      <td>NaN</td>\n",
       "      <td>NaN</td>\n",
       "      <td>...</td>\n",
       "      <td>NaN</td>\n",
       "      <td>NaN</td>\n",
       "      <td>NaN</td>\n",
       "      <td>NaN</td>\n",
       "      <td>NaN</td>\n",
       "      <td>NaN</td>\n",
       "      <td>NaN</td>\n",
       "      <td>NaN</td>\n",
       "      <td>NaN</td>\n",
       "      <td>NaN</td>\n",
       "    </tr>\n",
       "    <tr>\n",
       "      <th>6</th>\n",
       "      <td>NaN</td>\n",
       "      <td>NaN</td>\n",
       "      <td>NaN</td>\n",
       "      <td>NaN</td>\n",
       "      <td>NaN</td>\n",
       "      <td>NaN</td>\n",
       "      <td>NaN</td>\n",
       "      <td>NaN</td>\n",
       "      <td>NaN</td>\n",
       "      <td>NaN</td>\n",
       "      <td>...</td>\n",
       "      <td>NaN</td>\n",
       "      <td>NaN</td>\n",
       "      <td>NaN</td>\n",
       "      <td>NaN</td>\n",
       "      <td>NaN</td>\n",
       "      <td>NaN</td>\n",
       "      <td>NaN</td>\n",
       "      <td>NaN</td>\n",
       "      <td>NaN</td>\n",
       "      <td>NaN</td>\n",
       "    </tr>\n",
       "    <tr>\n",
       "      <th>7</th>\n",
       "      <td>9.2</td>\n",
       "      <td>2.0</td>\n",
       "      <td>51.0</td>\n",
       "      <td>0.0</td>\n",
       "      <td>0.0</td>\n",
       "      <td>27.0</td>\n",
       "      <td>1.7</td>\n",
       "      <td>29.82</td>\n",
       "      <td>1.0</td>\n",
       "      <td>29.10</td>\n",
       "      <td>...</td>\n",
       "      <td>56.0</td>\n",
       "      <td>0.0</td>\n",
       "      <td>0.0</td>\n",
       "      <td>28.333333</td>\n",
       "      <td>10.000000</td>\n",
       "      <td>19.166667</td>\n",
       "      <td>10.555556</td>\n",
       "      <td>46.287193</td>\n",
       "      <td>102.596108</td>\n",
       "      <td>68.057935</td>\n",
       "    </tr>\n",
       "    <tr>\n",
       "      <th>8</th>\n",
       "      <td>13.4</td>\n",
       "      <td>0.0</td>\n",
       "      <td>42.0</td>\n",
       "      <td>14.0</td>\n",
       "      <td>0.0</td>\n",
       "      <td>4.0</td>\n",
       "      <td>13.0</td>\n",
       "      <td>30.09</td>\n",
       "      <td>1.0</td>\n",
       "      <td>29.38</td>\n",
       "      <td>...</td>\n",
       "      <td>47.0</td>\n",
       "      <td>1.0</td>\n",
       "      <td>0.0</td>\n",
       "      <td>15.000000</td>\n",
       "      <td>5.555556</td>\n",
       "      <td>10.277778</td>\n",
       "      <td>5.555556</td>\n",
       "      <td>64.672944</td>\n",
       "      <td>100.000000</td>\n",
       "      <td>80.128196</td>\n",
       "    </tr>\n",
       "    <tr>\n",
       "      <th>9</th>\n",
       "      <td>11.9</td>\n",
       "      <td>0.0</td>\n",
       "      <td>40.0</td>\n",
       "      <td>9.0</td>\n",
       "      <td>0.0</td>\n",
       "      <td>7.0</td>\n",
       "      <td>11.7</td>\n",
       "      <td>30.12</td>\n",
       "      <td>1.0</td>\n",
       "      <td>29.39</td>\n",
       "      <td>...</td>\n",
       "      <td>48.0</td>\n",
       "      <td>0.0</td>\n",
       "      <td>0.0</td>\n",
       "      <td>18.888889</td>\n",
       "      <td>7.777778</td>\n",
       "      <td>13.333333</td>\n",
       "      <td>4.444444</td>\n",
       "      <td>51.668659</td>\n",
       "      <td>85.350408</td>\n",
       "      <td>66.085162</td>\n",
       "    </tr>\n",
       "  </tbody>\n",
       "</table>\n",
       "<p>10 rows × 22 columns</p>\n",
       "</div>"
      ],
      "text/plain": [
       "   AvgSpeed  Cool  DewPoint  Heat  PrecipTotal  ResultDir  ResultSpeed  \\\n",
       "0       NaN   NaN       NaN   NaN          NaN        NaN          NaN   \n",
       "1       NaN   NaN       NaN   NaN          NaN        NaN          NaN   \n",
       "2       NaN   NaN       NaN   NaN          NaN        NaN          NaN   \n",
       "3       NaN   NaN       NaN   NaN          NaN        NaN          NaN   \n",
       "4       NaN   NaN       NaN   NaN          NaN        NaN          NaN   \n",
       "5       NaN   NaN       NaN   NaN          NaN        NaN          NaN   \n",
       "6       NaN   NaN       NaN   NaN          NaN        NaN          NaN   \n",
       "7       9.2   2.0      51.0   0.0          0.0       27.0          1.7   \n",
       "8      13.4   0.0      42.0  14.0          0.0        4.0         13.0   \n",
       "9      11.9   0.0      40.0   9.0          0.0        7.0         11.7   \n",
       "\n",
       "   SeaLevel  Station  StnPressure  ...  WetBulb  low_vis  rain      TmaxC  \\\n",
       "0       NaN      NaN          NaN  ...      NaN      NaN   NaN        NaN   \n",
       "1       NaN      NaN          NaN  ...      NaN      NaN   NaN        NaN   \n",
       "2       NaN      NaN          NaN  ...      NaN      NaN   NaN        NaN   \n",
       "3       NaN      NaN          NaN  ...      NaN      NaN   NaN        NaN   \n",
       "4       NaN      NaN          NaN  ...      NaN      NaN   NaN        NaN   \n",
       "5       NaN      NaN          NaN  ...      NaN      NaN   NaN        NaN   \n",
       "6       NaN      NaN          NaN  ...      NaN      NaN   NaN        NaN   \n",
       "7     29.82      1.0        29.10  ...     56.0      0.0   0.0  28.333333   \n",
       "8     30.09      1.0        29.38  ...     47.0      1.0   0.0  15.000000   \n",
       "9     30.12      1.0        29.39  ...     48.0      0.0   0.0  18.888889   \n",
       "\n",
       "       TminC      TavgC  DewPointC      RHmax       RHmin      RHavg  \n",
       "0        NaN        NaN        NaN        NaN         NaN        NaN  \n",
       "1        NaN        NaN        NaN        NaN         NaN        NaN  \n",
       "2        NaN        NaN        NaN        NaN         NaN        NaN  \n",
       "3        NaN        NaN        NaN        NaN         NaN        NaN  \n",
       "4        NaN        NaN        NaN        NaN         NaN        NaN  \n",
       "5        NaN        NaN        NaN        NaN         NaN        NaN  \n",
       "6        NaN        NaN        NaN        NaN         NaN        NaN  \n",
       "7  10.000000  19.166667  10.555556  46.287193  102.596108  68.057935  \n",
       "8   5.555556  10.277778   5.555556  64.672944  100.000000  80.128196  \n",
       "9   7.777778  13.333333   4.444444  51.668659   85.350408  66.085162  \n",
       "\n",
       "[10 rows x 22 columns]"
      ]
     },
     "execution_count": 105,
     "metadata": {},
     "output_type": "execute_result"
    }
   ],
   "source": [
    "# One week later, least time from egg to adult\n",
    "d7_station1 = station1.shift(7)\n",
    "d7_station2 = station2.shift(7)\n",
    "\n",
    "# Two weeks later, a few days after longer time to adult.\n",
    "d14_station1 = station1.shift(14)\n",
    "d14_station2 = station2.shift(14)\n",
    "d7_station1.head(10)"
   ]
  },
  {
   "cell_type": "markdown",
   "id": "af948a77",
   "metadata": {},
   "source": [
    "#### 3.6.3 Reorganization<a id='3.6.3_Reorganization'></a>"
   ]
  },
  {
   "cell_type": "markdown",
   "id": "abb387cb",
   "metadata": {},
   "source": [
    "I'm sure I will find a better way to do this, but I wanted to simply get it done first, then I will come back and make a more automated processs, though for practical reasons, if you don't already know exactly how to make a function to do this, its faster to just type a little bit."
   ]
  },
  {
   "cell_type": "code",
   "execution_count": 106,
   "id": "dde6d139",
   "metadata": {},
   "outputs": [],
   "source": [
    "d7_station1.columns = [str(col) + '_d7' for col in d7_station1.columns]\n",
    "d7_station2.columns = [str(col) + '_d7' for col in d7_station2.columns]\n",
    "\n",
    "d14_station1.columns = [str(col) + '_d14' for col in d14_station1.columns]\n",
    "d14_station2.columns = [str(col) + '_d14' for col in d14_station2.columns]"
   ]
  },
  {
   "cell_type": "markdown",
   "id": "d915c086",
   "metadata": {},
   "source": [
    "#### 3.6.4 Joining<a id='3.6.4_Joining'></a>"
   ]
  },
  {
   "cell_type": "code",
   "execution_count": 107,
   "id": "6e0cd092",
   "metadata": {},
   "outputs": [
    {
     "data": {
      "text/plain": [
       "DatetimeIndex(['2007-05-01', '2007-05-02', '2007-05-03', '2007-05-04',\n",
       "               '2007-05-05', '2007-05-06', '2007-05-07', '2007-05-08',\n",
       "               '2007-05-09', '2007-05-10',\n",
       "               ...\n",
       "               '2014-10-22', '2014-10-23', '2014-10-24', '2014-10-25',\n",
       "               '2014-10-26', '2014-10-27', '2014-10-28', '2014-10-29',\n",
       "               '2014-10-30', '2014-10-31'],\n",
       "              dtype='datetime64[ns]', name='Date', length=1472, freq=None)"
      ]
     },
     "execution_count": 107,
     "metadata": {},
     "output_type": "execute_result"
    }
   ],
   "source": [
    "# Reset index again to the original date, also needs to be fixed to be more pythony...\n",
    "station1.set_index(date_col.index, inplace=True)\n",
    "station2.set_index(date_col.index, inplace=True)\n",
    "\n",
    "# The one week shift\n",
    "d7_station1.set_index(date_col.index, inplace=True)\n",
    "d7_station2.set_index(date_col.index, inplace=True)\n",
    "\n",
    "# The two week shift\n",
    "d14_station1.set_index(date_col.index, inplace=True)\n",
    "d14_station2.set_index(date_col.index, inplace=True)\n",
    "station1.index"
   ]
  },
  {
   "cell_type": "code",
   "execution_count": 108,
   "id": "eb267399",
   "metadata": {},
   "outputs": [],
   "source": [
    "# Concat back into two DF's based on station\n",
    "station1 = pd.concat([station1, d7_station1, d14_station1], axis=1)\n",
    "station2 = pd.concat([station2, d7_station2, d14_station2], axis=1)"
   ]
  },
  {
   "cell_type": "code",
   "execution_count": 109,
   "id": "d6a52667",
   "metadata": {},
   "outputs": [
    {
     "data": {
      "text/plain": [
       "(1472, 66)"
      ]
     },
     "execution_count": 109,
     "metadata": {},
     "output_type": "execute_result"
    }
   ],
   "source": [
    "station1.shape"
   ]
  },
  {
   "cell_type": "code",
   "execution_count": 110,
   "id": "71794a44",
   "metadata": {},
   "outputs": [
    {
     "data": {
      "text/plain": [
       "(1472, 66)"
      ]
     },
     "execution_count": 110,
     "metadata": {},
     "output_type": "execute_result"
    }
   ],
   "source": [
    "station2.shape"
   ]
  },
  {
   "cell_type": "code",
   "execution_count": 111,
   "id": "123b8589",
   "metadata": {},
   "outputs": [
    {
     "data": {
      "text/html": [
       "<div>\n",
       "<style scoped>\n",
       "    .dataframe tbody tr th:only-of-type {\n",
       "        vertical-align: middle;\n",
       "    }\n",
       "\n",
       "    .dataframe tbody tr th {\n",
       "        vertical-align: top;\n",
       "    }\n",
       "\n",
       "    .dataframe thead th {\n",
       "        text-align: right;\n",
       "    }\n",
       "</style>\n",
       "<table border=\"1\" class=\"dataframe\">\n",
       "  <thead>\n",
       "    <tr style=\"text-align: right;\">\n",
       "      <th></th>\n",
       "      <th>Cool</th>\n",
       "      <th>Cool_d7</th>\n",
       "      <th>Cool_d14</th>\n",
       "    </tr>\n",
       "    <tr>\n",
       "      <th>Date</th>\n",
       "      <th></th>\n",
       "      <th></th>\n",
       "      <th></th>\n",
       "    </tr>\n",
       "  </thead>\n",
       "  <tbody>\n",
       "    <tr>\n",
       "      <th>2007-05-01</th>\n",
       "      <td>2.0</td>\n",
       "      <td>NaN</td>\n",
       "      <td>NaN</td>\n",
       "    </tr>\n",
       "    <tr>\n",
       "      <th>2007-05-02</th>\n",
       "      <td>0.0</td>\n",
       "      <td>NaN</td>\n",
       "      <td>NaN</td>\n",
       "    </tr>\n",
       "    <tr>\n",
       "      <th>2007-05-03</th>\n",
       "      <td>0.0</td>\n",
       "      <td>NaN</td>\n",
       "      <td>NaN</td>\n",
       "    </tr>\n",
       "    <tr>\n",
       "      <th>2007-05-04</th>\n",
       "      <td>0.0</td>\n",
       "      <td>NaN</td>\n",
       "      <td>NaN</td>\n",
       "    </tr>\n",
       "    <tr>\n",
       "      <th>2007-05-05</th>\n",
       "      <td>0.0</td>\n",
       "      <td>NaN</td>\n",
       "      <td>NaN</td>\n",
       "    </tr>\n",
       "    <tr>\n",
       "      <th>2007-05-06</th>\n",
       "      <td>0.0</td>\n",
       "      <td>NaN</td>\n",
       "      <td>NaN</td>\n",
       "    </tr>\n",
       "    <tr>\n",
       "      <th>2007-05-07</th>\n",
       "      <td>0.0</td>\n",
       "      <td>NaN</td>\n",
       "      <td>NaN</td>\n",
       "    </tr>\n",
       "    <tr>\n",
       "      <th>2007-05-08</th>\n",
       "      <td>3.0</td>\n",
       "      <td>2.0</td>\n",
       "      <td>NaN</td>\n",
       "    </tr>\n",
       "    <tr>\n",
       "      <th>2007-05-09</th>\n",
       "      <td>4.0</td>\n",
       "      <td>0.0</td>\n",
       "      <td>NaN</td>\n",
       "    </tr>\n",
       "    <tr>\n",
       "      <th>2007-05-10</th>\n",
       "      <td>5.0</td>\n",
       "      <td>0.0</td>\n",
       "      <td>NaN</td>\n",
       "    </tr>\n",
       "    <tr>\n",
       "      <th>2007-05-11</th>\n",
       "      <td>0.0</td>\n",
       "      <td>0.0</td>\n",
       "      <td>NaN</td>\n",
       "    </tr>\n",
       "    <tr>\n",
       "      <th>2007-05-12</th>\n",
       "      <td>0.0</td>\n",
       "      <td>0.0</td>\n",
       "      <td>NaN</td>\n",
       "    </tr>\n",
       "    <tr>\n",
       "      <th>2007-05-13</th>\n",
       "      <td>0.0</td>\n",
       "      <td>0.0</td>\n",
       "      <td>NaN</td>\n",
       "    </tr>\n",
       "    <tr>\n",
       "      <th>2007-05-14</th>\n",
       "      <td>8.0</td>\n",
       "      <td>0.0</td>\n",
       "      <td>NaN</td>\n",
       "    </tr>\n",
       "    <tr>\n",
       "      <th>2007-05-15</th>\n",
       "      <td>4.0</td>\n",
       "      <td>3.0</td>\n",
       "      <td>2.0</td>\n",
       "    </tr>\n",
       "    <tr>\n",
       "      <th>2007-05-16</th>\n",
       "      <td>0.0</td>\n",
       "      <td>4.0</td>\n",
       "      <td>0.0</td>\n",
       "    </tr>\n",
       "    <tr>\n",
       "      <th>2007-05-17</th>\n",
       "      <td>0.0</td>\n",
       "      <td>5.0</td>\n",
       "      <td>0.0</td>\n",
       "    </tr>\n",
       "    <tr>\n",
       "      <th>2007-05-18</th>\n",
       "      <td>0.0</td>\n",
       "      <td>0.0</td>\n",
       "      <td>0.0</td>\n",
       "    </tr>\n",
       "    <tr>\n",
       "      <th>2007-05-19</th>\n",
       "      <td>3.0</td>\n",
       "      <td>0.0</td>\n",
       "      <td>0.0</td>\n",
       "    </tr>\n",
       "    <tr>\n",
       "      <th>2007-05-20</th>\n",
       "      <td>0.0</td>\n",
       "      <td>0.0</td>\n",
       "      <td>0.0</td>\n",
       "    </tr>\n",
       "    <tr>\n",
       "      <th>2007-05-21</th>\n",
       "      <td>0.0</td>\n",
       "      <td>8.0</td>\n",
       "      <td>0.0</td>\n",
       "    </tr>\n",
       "    <tr>\n",
       "      <th>2007-05-22</th>\n",
       "      <td>6.0</td>\n",
       "      <td>4.0</td>\n",
       "      <td>3.0</td>\n",
       "    </tr>\n",
       "  </tbody>\n",
       "</table>\n",
       "</div>"
      ],
      "text/plain": [
       "            Cool  Cool_d7  Cool_d14\n",
       "Date                               \n",
       "2007-05-01   2.0      NaN       NaN\n",
       "2007-05-02   0.0      NaN       NaN\n",
       "2007-05-03   0.0      NaN       NaN\n",
       "2007-05-04   0.0      NaN       NaN\n",
       "2007-05-05   0.0      NaN       NaN\n",
       "2007-05-06   0.0      NaN       NaN\n",
       "2007-05-07   0.0      NaN       NaN\n",
       "2007-05-08   3.0      2.0       NaN\n",
       "2007-05-09   4.0      0.0       NaN\n",
       "2007-05-10   5.0      0.0       NaN\n",
       "2007-05-11   0.0      0.0       NaN\n",
       "2007-05-12   0.0      0.0       NaN\n",
       "2007-05-13   0.0      0.0       NaN\n",
       "2007-05-14   8.0      0.0       NaN\n",
       "2007-05-15   4.0      3.0       2.0\n",
       "2007-05-16   0.0      4.0       0.0\n",
       "2007-05-17   0.0      5.0       0.0\n",
       "2007-05-18   0.0      0.0       0.0\n",
       "2007-05-19   3.0      0.0       0.0\n",
       "2007-05-20   0.0      0.0       0.0\n",
       "2007-05-21   0.0      8.0       0.0\n",
       "2007-05-22   6.0      4.0       3.0"
      ]
     },
     "execution_count": 111,
     "metadata": {},
     "output_type": "execute_result"
    }
   ],
   "source": [
    "temp = station1[['Cool', 'Cool_d7', 'Cool_d14']]\n",
    "temp.head(22)"
   ]
  },
  {
   "cell_type": "code",
   "execution_count": 112,
   "id": "d7198020",
   "metadata": {},
   "outputs": [
    {
     "data": {
      "text/plain": [
       "(1472, 68)"
      ]
     },
     "execution_count": 112,
     "metadata": {},
     "output_type": "execute_result"
    }
   ],
   "source": [
    "# Recombine as an average for now becuase my python skills in a certain area can't do a certain thing right now.\n",
    "\n",
    "station = pd.concat([station1, station2, date_col]).groupby(level=0).mean()\n",
    "station.shape"
   ]
  },
  {
   "cell_type": "code",
   "execution_count": 113,
   "id": "0368a6a9",
   "metadata": {},
   "outputs": [
    {
     "data": {
      "text/plain": [
       "(1458, 68)"
      ]
     },
     "execution_count": 113,
     "metadata": {},
     "output_type": "execute_result"
    }
   ],
   "source": [
    "station = station.dropna()\n",
    "station.shape"
   ]
  },
  {
   "cell_type": "code",
   "execution_count": 114,
   "id": "9ee26437",
   "metadata": {},
   "outputs": [
    {
     "data": {
      "text/plain": [
       "(1458, 65)"
      ]
     },
     "execution_count": 114,
     "metadata": {},
     "output_type": "execute_result"
    }
   ],
   "source": [
    "# Backward fix, remove the temp station col\n",
    "station = station.drop(['Station', 'Station_d7', 'Station_d14'], axis = 1)\n",
    "station.shape"
   ]
  },
  {
   "cell_type": "code",
   "execution_count": 123,
   "id": "0baa8711",
   "metadata": {},
   "outputs": [
    {
     "data": {
      "text/plain": [
       "(1458, 64)"
      ]
     },
     "execution_count": 123,
     "metadata": {},
     "output_type": "execute_result"
    }
   ],
   "source": [
    "# Additional patch to remove the farenhite dewpoint\n",
    "station = station.drop(['DewPoint'], axis = 1)\n",
    "station.shape"
   ]
  },
  {
   "cell_type": "code",
   "execution_count": 124,
   "id": "76d5c5f3",
   "metadata": {},
   "outputs": [
    {
     "name": "stdout",
     "output_type": "stream",
     "text": [
      "Stored 'station' (DataFrame)\n"
     ]
    }
   ],
   "source": [
    "%store station"
   ]
  },
  {
   "cell_type": "markdown",
   "id": "9b0b775a",
   "metadata": {},
   "source": [
    "### 4. Training Data"
   ]
  },
  {
   "cell_type": "code",
   "execution_count": 116,
   "id": "f88d3b7b",
   "metadata": {},
   "outputs": [],
   "source": [
    "train = pd.read_csv('data/train.csv')"
   ]
  },
  {
   "cell_type": "code",
   "execution_count": 117,
   "id": "a0ddf3a7",
   "metadata": {},
   "outputs": [
    {
     "data": {
      "text/html": [
       "<div>\n",
       "<style scoped>\n",
       "    .dataframe tbody tr th:only-of-type {\n",
       "        vertical-align: middle;\n",
       "    }\n",
       "\n",
       "    .dataframe tbody tr th {\n",
       "        vertical-align: top;\n",
       "    }\n",
       "\n",
       "    .dataframe thead th {\n",
       "        text-align: right;\n",
       "    }\n",
       "</style>\n",
       "<table border=\"1\" class=\"dataframe\">\n",
       "  <thead>\n",
       "    <tr style=\"text-align: right;\">\n",
       "      <th></th>\n",
       "      <th>Date</th>\n",
       "      <th>Address</th>\n",
       "      <th>Species</th>\n",
       "      <th>Block</th>\n",
       "      <th>Street</th>\n",
       "      <th>Trap</th>\n",
       "      <th>AddressNumberAndStreet</th>\n",
       "      <th>Latitude</th>\n",
       "      <th>Longitude</th>\n",
       "      <th>AddressAccuracy</th>\n",
       "      <th>NumMosquitos</th>\n",
       "      <th>WnvPresent</th>\n",
       "    </tr>\n",
       "  </thead>\n",
       "  <tbody>\n",
       "    <tr>\n",
       "      <th>0</th>\n",
       "      <td>2007-05-29</td>\n",
       "      <td>4100 North Oak Park Avenue, Chicago, IL 60634,...</td>\n",
       "      <td>CULEX PIPIENS/RESTUANS</td>\n",
       "      <td>41</td>\n",
       "      <td>N OAK PARK AVE</td>\n",
       "      <td>T002</td>\n",
       "      <td>4100  N OAK PARK AVE, Chicago, IL</td>\n",
       "      <td>41.95469</td>\n",
       "      <td>-87.800991</td>\n",
       "      <td>9</td>\n",
       "      <td>1</td>\n",
       "      <td>0</td>\n",
       "    </tr>\n",
       "    <tr>\n",
       "      <th>1</th>\n",
       "      <td>2007-05-29</td>\n",
       "      <td>4100 North Oak Park Avenue, Chicago, IL 60634,...</td>\n",
       "      <td>CULEX RESTUANS</td>\n",
       "      <td>41</td>\n",
       "      <td>N OAK PARK AVE</td>\n",
       "      <td>T002</td>\n",
       "      <td>4100  N OAK PARK AVE, Chicago, IL</td>\n",
       "      <td>41.95469</td>\n",
       "      <td>-87.800991</td>\n",
       "      <td>9</td>\n",
       "      <td>1</td>\n",
       "      <td>0</td>\n",
       "    </tr>\n",
       "  </tbody>\n",
       "</table>\n",
       "</div>"
      ],
      "text/plain": [
       "         Date                                            Address  \\\n",
       "0  2007-05-29  4100 North Oak Park Avenue, Chicago, IL 60634,...   \n",
       "1  2007-05-29  4100 North Oak Park Avenue, Chicago, IL 60634,...   \n",
       "\n",
       "                  Species  Block           Street  Trap  \\\n",
       "0  CULEX PIPIENS/RESTUANS     41   N OAK PARK AVE  T002   \n",
       "1          CULEX RESTUANS     41   N OAK PARK AVE  T002   \n",
       "\n",
       "              AddressNumberAndStreet  Latitude  Longitude  AddressAccuracy  \\\n",
       "0  4100  N OAK PARK AVE, Chicago, IL  41.95469 -87.800991                9   \n",
       "1  4100  N OAK PARK AVE, Chicago, IL  41.95469 -87.800991                9   \n",
       "\n",
       "   NumMosquitos  WnvPresent  \n",
       "0             1           0  \n",
       "1             1           0  "
      ]
     },
     "execution_count": 117,
     "metadata": {},
     "output_type": "execute_result"
    }
   ],
   "source": [
    "train.head(2)"
   ]
  },
  {
   "cell_type": "code",
   "execution_count": 118,
   "id": "4e921b98",
   "metadata": {},
   "outputs": [],
   "source": [
    "# Maybe when I return with more skillz I will address using these. For now drop\n",
    "train.drop(['Address','Block','Street','AddressNumberAndStreet','AddressAccuracy'], axis=1, inplace=True)"
   ]
  },
  {
   "cell_type": "code",
   "execution_count": 119,
   "id": "eb6fd5b9",
   "metadata": {},
   "outputs": [],
   "source": [
    "# Make Date into datetime\n",
    "train['Date'] = pd.to_datetime(train['Date'])\n",
    "\n",
    "# Add week and Year columns\n",
    "train['Week'] = (train['Date'].dt.strftime('%W')).astype(int)\n",
    "train['Year'] = (train['Date'].dt.strftime('%Y')).astype(int)"
   ]
  },
  {
   "cell_type": "code",
   "execution_count": 120,
   "id": "2afc5eb7",
   "metadata": {},
   "outputs": [],
   "source": [
    "# Merge duplicate rows by summing NumMosquiots and WMvPresent\n",
    "train = train.groupby(['Date','Week','Year','Species','Trap','Latitude', 'Longitude'], as_index=False).sum().reindex()\n",
    "\n",
    "# Change WnvPresent to be  0/1\n",
    "train['WnvPresent'] = (train['WnvPresent'] > 0).astype(int)"
   ]
  },
  {
   "cell_type": "code",
   "execution_count": 121,
   "id": "86b10b47",
   "metadata": {},
   "outputs": [
    {
     "data": {
      "text/html": [
       "<div>\n",
       "<style scoped>\n",
       "    .dataframe tbody tr th:only-of-type {\n",
       "        vertical-align: middle;\n",
       "    }\n",
       "\n",
       "    .dataframe tbody tr th {\n",
       "        vertical-align: top;\n",
       "    }\n",
       "\n",
       "    .dataframe thead th {\n",
       "        text-align: right;\n",
       "    }\n",
       "</style>\n",
       "<table border=\"1\" class=\"dataframe\">\n",
       "  <thead>\n",
       "    <tr style=\"text-align: right;\">\n",
       "      <th></th>\n",
       "      <th>Date</th>\n",
       "      <th>Week</th>\n",
       "      <th>Year</th>\n",
       "      <th>Species</th>\n",
       "      <th>Trap</th>\n",
       "      <th>Latitude</th>\n",
       "      <th>Longitude</th>\n",
       "      <th>NumMosquitos</th>\n",
       "      <th>WnvPresent</th>\n",
       "    </tr>\n",
       "  </thead>\n",
       "  <tbody>\n",
       "  </tbody>\n",
       "</table>\n",
       "</div>"
      ],
      "text/plain": [
       "Empty DataFrame\n",
       "Columns: [Date, Week, Year, Species, Trap, Latitude, Longitude, NumMosquitos, WnvPresent]\n",
       "Index: []"
      ]
     },
     "execution_count": 121,
     "metadata": {},
     "output_type": "execute_result"
    }
   ],
   "source": [
    "duplicates = train.duplicated()\n",
    "train[duplicates]"
   ]
  },
  {
   "cell_type": "markdown",
   "id": "83968d1b",
   "metadata": {},
   "source": [
    "Kaggle info:\n",
    "* Station 1: CHICAGO O'HARE INTERNATIONAL AIRPORT Lat: 41.995 Lon: -87.933 Elev: 662 ft. above sea level\n",
    "* Station 2: CHICAGO MIDWAY INTL ARPT Lat: 41.786 Lon: -87.752 Elev: 612 ft. above sea level\n",
    "NOAA info:\n",
    "* Latitude/Longitude\t41.78611°, -87.75222°\n",
    "* Latitude/Longitude\t41.96019°, -87.93162°"
   ]
  },
  {
   "cell_type": "code",
   "execution_count": 122,
   "id": "16a993c6",
   "metadata": {},
   "outputs": [
    {
     "name": "stdout",
     "output_type": "stream",
     "text": [
      "Stored 'train' (DataFrame)\n"
     ]
    }
   ],
   "source": [
    "%store train"
   ]
  },
  {
   "cell_type": "code",
   "execution_count": null,
   "id": "590a5006",
   "metadata": {},
   "outputs": [],
   "source": [
    "# Save station coordinates when we come back and make this better when we know certain python mechanics better\n",
    "coord1 = (41.96019, -87.93162)\n",
    "coord2 = (41.78611, -87.75222)"
   ]
  },
  {
   "cell_type": "code",
   "execution_count": null,
   "id": "524f47f6",
   "metadata": {},
   "outputs": [],
   "source": [
    "len(train['Latitude']), len(train['Longitude'])"
   ]
  },
  {
   "cell_type": "code",
   "execution_count": null,
   "id": "b116d7cd",
   "metadata": {},
   "outputs": [],
   "source": [
    "#train['coord'] = train[train.Latitude,train.Longitude].values.tolist()\n",
    "#train.head()"
   ]
  },
  {
   "cell_type": "code",
   "execution_count": null,
   "id": "88825f03",
   "metadata": {},
   "outputs": [],
   "source": [
    "#train['station'] = 1 if distance.distance((train.Latitude, train.Longitude), coord1).km < distance.distance((train.Latitude,train.Longitude), coord2).km else 2"
   ]
  },
  {
   "cell_type": "code",
   "execution_count": null,
   "id": "b3e02061",
   "metadata": {},
   "outputs": [],
   "source": [
    "train.columns"
   ]
  },
  {
   "cell_type": "raw",
   "id": "b2fbf234",
   "metadata": {},
   "source": []
  }
 ],
 "metadata": {
  "kernelspec": {
   "display_name": "Python 3 (ipykernel)",
   "language": "python",
   "name": "python3"
  },
  "language_info": {
   "codemirror_mode": {
    "name": "ipython",
    "version": 3
   },
   "file_extension": ".py",
   "mimetype": "text/x-python",
   "name": "python",
   "nbconvert_exporter": "python",
   "pygments_lexer": "ipython3",
   "version": "3.7.11"
  }
 },
 "nbformat": 4,
 "nbformat_minor": 5
}
