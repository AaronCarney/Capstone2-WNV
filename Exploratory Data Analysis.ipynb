{
 "cells": [
  {
   "cell_type": "markdown",
   "id": "85aed590",
   "metadata": {},
   "source": [
    "## Exploratory Data Analysis <a id='1_Exploratory_Data_Analysis'></a>"
   ]
  },
  {
   "cell_type": "markdown",
   "id": "b4bf29f8",
   "metadata": {},
   "source": [
    "### 1.1 Table of Contents <a id='1.1_Table_of_Contents'></a>\n",
    "* [1 Exploratory Data Analysis - West Nile Virus](#1_Exploratory_Data_Analysis)\n",
    "     * [1.1 Table of Contents](#1.1_Table_of_Contents)\n",
    "     * [1.2 Imports & Loads](#1.2_Imports)\n",
    "     * [1.3 Train Data](#1.3_Train_Data)\n",
    "         * [1.3.1 Distance Split](#1.3.1_Distance_Split)"
   ]
  },
  {
   "cell_type": "markdown",
   "id": "18a6cd08",
   "metadata": {},
   "source": [
    "### 1.2 Imports & Loads <a id='1.2_Imports'></a>"
   ]
  },
  {
   "cell_type": "code",
   "execution_count": 1,
   "id": "9c664241",
   "metadata": {},
   "outputs": [],
   "source": [
    "# Import from Data Wrangling Notebook\n",
    "%store -r station\n",
    "%store -r spray\n",
    "%store -r train\n",
    "\n",
    "# Packages\n",
    "import pandas as pd\n",
    "import matplotlib.pyplot as plt\n",
    "import seaborn as sns\n",
    "import geopy.distance\n",
    "import numpy as np"
   ]
  },
  {
   "cell_type": "markdown",
   "id": "f267db81",
   "metadata": {},
   "source": [
    "### 1.3 Trap Exploring <a id='1.3_Train_Data'></a>"
   ]
  },
  {
   "cell_type": "markdown",
   "id": "8886bc2f",
   "metadata": {},
   "source": [
    "#### 1.3.1 Time <a id='1.3.1_Distance_Split'></a>"
   ]
  },
  {
   "cell_type": "code",
   "execution_count": 2,
   "id": "c10cdaf8",
   "metadata": {},
   "outputs": [
    {
     "name": "stderr",
     "output_type": "stream",
     "text": [
      "C:\\Users\\Xzenc\\Anaconda3\\lib\\site-packages\\seaborn\\axisgrid.py:643: UserWarning: Using the barplot function without specifying `order` is likely to produce an incorrect plot.\n",
      "  warnings.warn(warning)\n"
     ]
    },
    {
     "data": {
      "text/plain": [
       "<seaborn.axisgrid.FacetGrid at 0x212be0f8688>"
      ]
     },
     "execution_count": 2,
     "metadata": {},
     "output_type": "execute_result"
    },
    {
     "data": {
      "image/png": "[encoded data removed]",
      "text/plain": [
       "<Figure size 1152x288 with 4 Axes>"
      ]
     },
     "metadata": {
      "needs_background": "light"
     },
     "output_type": "display_data"
    }
   ],
   "source": [
    "g = sns.FacetGrid(train, col=\"Year\", height=4)\n",
    "g.map(sns.barplot, \"Week\", \"WnvPresent\")"
   ]
  },
  {
   "cell_type": "markdown",
   "id": "08e4c493",
   "metadata": {},
   "source": [
    "Clearly some peaks around week 34 in 2007 and 2013, while 2009 and 2011 are more subdued. More to investigate here."
   ]
  },
  {
   "cell_type": "code",
   "execution_count": 3,
   "id": "3d20f8f8",
   "metadata": {},
   "outputs": [
    {
     "name": "stdout",
     "output_type": "stream",
     "text": [
      "                  Species  NumMosquitos  WnvPresent\n",
      "0         CULEX ERRATICUS             7           0\n",
      "1           CULEX PIPIENS         44671         184\n",
      "2  CULEX PIPIENS/RESTUANS         66268         225\n",
      "3          CULEX RESTUANS         23431          48\n",
      "4        CULEX SALINARIUS           145           0\n",
      "5          CULEX TARSALIS             7           0\n",
      "6         CULEX TERRITANS           510           0\n"
     ]
    }
   ],
   "source": [
    "species = train[['Species', 'NumMosquitos', 'WnvPresent']].groupby(by='Species').sum().reset_index()\n",
    "print(species)"
   ]
  },
  {
   "cell_type": "code",
   "execution_count": null,
   "id": "eeedb928",
   "metadata": {},
   "outputs": [],
   "source": [
    "# total mosquitos in a given week from all years.\n",
    "df_temp = train.groupby(['Week','Species'], as_index=False).sum().reindex()\n",
    "\n",
    "fg = sns.lmplot(data=df_temp, x = 'Week', y='NumMosquitos', hue='Species', fit_reg=False);\n",
    "fg.fig.set_figheight(6)\n",
    "fg.fig.set_figwidth(15)\n",
    "fg.fig.suptitle(\"Total for each species per week over all years\");"
   ]
  },
  {
   "cell_type": "code",
   "execution_count": null,
   "id": "b0993161",
   "metadata": {},
   "outputs": [],
   "source": [
    "# total mosquitos in a given year\n",
    "df_temp = train.groupby(['Year','Species'], as_index=False).sum().reindex()\n",
    "\n",
    "fg = sns.lmplot(data=df_temp, x='Year', y='NumMosquitos', hue='Species', fit_reg=False);\n",
    "fg.fig.set_figheight(6)\n",
    "fg.fig.set_figwidth(15)\n",
    "fg.fig.suptitle(\"Total for each species per year\");"
   ]
  },
  {
   "cell_type": "markdown",
   "id": "5ac687b2",
   "metadata": {},
   "source": [
    "Interesting, we can see a clear u shape for both pip/res and pip species and a slow growth of res. Hypothesis: the res type can survive in a wider range of conditions so is active for longer, but pip is overall best suited for propagating in the local environment and is more prone to carrying WNV"
   ]
  },
  {
   "cell_type": "code",
   "execution_count": null,
   "id": "b4c95d05",
   "metadata": {},
   "outputs": [],
   "source": [
    "# looking more closely at just the infected species\n",
    "train_temp = train.loc[train['Species'].isin(['CULEX PIPIENS', 'CULEX PIPIENS/RESTUANS', 'CULEX RESTUANS'])]"
   ]
  },
  {
   "cell_type": "code",
   "execution_count": null,
   "id": "86462c36",
   "metadata": {},
   "outputs": [],
   "source": [
    "# total mosquitos in a given week from all years, really just another way of looking at our first chart but only with wnv ones\n",
    "df_temp = train_temp.groupby(['Week'], as_index=False).sum().reindex()\n",
    "\n",
    "fg = sns.lmplot(data=df_temp, x = 'Week', y='NumMosquitos', fit_reg=False);\n",
    "fg.fig.set_figheight(6)\n",
    "fg.fig.set_figwidth(15)\n",
    "fg.fig.suptitle(\"Total for each species per week over all years\");"
   ]
  },
  {
   "cell_type": "code",
   "execution_count": null,
   "id": "5057ed2a",
   "metadata": {},
   "outputs": [],
   "source": [
    "df_temp = train_temp.groupby(['Year', 'Species'])['WnvPresent'].sum().unstack().fillna(0)\n",
    "\n",
    "ax = sns.histplot(\n",
    "    train_temp,\n",
    "    x='Year',\n",
    "    weights='WnvPresent',\n",
    "    hue='Species',\n",
    "    multiple='stack',\n",
    "    edgecolor='white',\n",
    "    shrink=0.8,\n",
    "    bins=4\n",
    ")\n",
    "\n",
    "ax.set_title('Species with WNV present by year')\n",
    "ax.set_ylabel(None)"
   ]
  },
  {
   "cell_type": "markdown",
   "id": "eb55dc3d",
   "metadata": {},
   "source": [
    "### 1.4 Weather Exploring <a id='1.4_Weather'></a>"
   ]
  },
  {
   "cell_type": "markdown",
   "id": "21a0c1c2",
   "metadata": {},
   "source": [
    "#### 1.4.1 Tempature"
   ]
  },
  {
   "cell_type": "code",
   "execution_count": null,
   "id": "597dc4bb",
   "metadata": {},
   "outputs": [],
   "source": [
    "temp = station[['Year','Week','TmaxC','TminC','TavgC']]\n",
    "g = sns.FacetGrid(temp, col=\"Year\", height=4)\n",
    "g.map(sns.barplot, \"Week\", \"TmaxC\")"
   ]
  },
  {
   "cell_type": "code",
   "execution_count": null,
   "id": "c91abd64",
   "metadata": {},
   "outputs": [],
   "source": [
    "Precipitation"
   ]
  },
  {
   "cell_type": "code",
   "execution_count": null,
   "id": "4d2bee07",
   "metadata": {},
   "outputs": [],
   "source": [
    "Dew Point"
   ]
  },
  {
   "cell_type": "code",
   "execution_count": null,
   "id": "d859b124",
   "metadata": {},
   "outputs": [],
   "source": [
    "Wet Bulb"
   ]
  },
  {
   "cell_type": "code",
   "execution_count": null,
   "id": "67222691",
   "metadata": {},
   "outputs": [],
   "source": [
    "Heat"
   ]
  },
  {
   "cell_type": "code",
   "execution_count": null,
   "id": "ede9a319",
   "metadata": {},
   "outputs": [],
   "source": [
    "Cool"
   ]
  },
  {
   "cell_type": "code",
   "execution_count": null,
   "id": "1599c198",
   "metadata": {},
   "outputs": [],
   "source": [
    "StnPressure"
   ]
  },
  {
   "cell_type": "code",
   "execution_count": null,
   "id": "88017bc1",
   "metadata": {},
   "outputs": [],
   "source": [
    "Dew Point"
   ]
  },
  {
   "cell_type": "code",
   "execution_count": null,
   "id": "dc7dd82c",
   "metadata": {},
   "outputs": [],
   "source": [
    "SeaLevel"
   ]
  },
  {
   "cell_type": "code",
   "execution_count": null,
   "id": "eaeeae08",
   "metadata": {},
   "outputs": [],
   "source": [
    "ResultSpeed"
   ]
  },
  {
   "cell_type": "code",
   "execution_count": null,
   "id": "832d47a4",
   "metadata": {},
   "outputs": [],
   "source": [
    "ResultDir"
   ]
  },
  {
   "cell_type": "code",
   "execution_count": null,
   "id": "5cca8e77",
   "metadata": {},
   "outputs": [],
   "source": [
    "AvgSpeed"
   ]
  },
  {
   "cell_type": "code",
   "execution_count": null,
   "id": "abd5354c",
   "metadata": {},
   "outputs": [],
   "source": [
    "SnowFall"
   ]
  },
  {
   "cell_type": "code",
   "execution_count": null,
   "id": "962753ac",
   "metadata": {},
   "outputs": [],
   "source": [
    "Sunrise"
   ]
  },
  {
   "cell_type": "markdown",
   "id": "f9de26cb",
   "metadata": {},
   "source": [
    "Sunset"
   ]
  },
  {
   "cell_type": "markdown",
   "id": "8347508c",
   "metadata": {},
   "source": [
    "CodeSum"
   ]
  },
  {
   "cell_type": "markdown",
   "id": "6fcd4b1f",
   "metadata": {},
   "source": [
    "Relitive Humidity"
   ]
  },
  {
   "cell_type": "code",
   "execution_count": null,
   "id": "a9bc4ba2",
   "metadata": {},
   "outputs": [],
   "source": []
  }
 ],
 "metadata": {
  "kernelspec": {
   "display_name": "Python 3",
   "language": "python",
   "name": "python3"
  },
  "language_info": {
   "codemirror_mode": {
    "name": "ipython",
    "version": 3
   },
   "file_extension": ".py",
   "mimetype": "text/x-python",
   "name": "python",
   "nbconvert_exporter": "python",
   "pygments_lexer": "ipython3",
   "version": "3.7.10"
  }
 },
 "nbformat": 4,
 "nbformat_minor": 5
}
